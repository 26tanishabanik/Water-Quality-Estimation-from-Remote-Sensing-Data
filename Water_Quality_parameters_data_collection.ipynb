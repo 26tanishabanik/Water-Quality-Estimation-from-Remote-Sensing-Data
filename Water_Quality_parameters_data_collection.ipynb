{
  "nbformat": 4,
  "nbformat_minor": 0,
  "metadata": {
    "colab": {
      "name": "Water_Quality_parameters_data_collection.ipynb",
      "provenance": []
    },
    "kernelspec": {
      "name": "python3",
      "display_name": "Python 3"
    },
    "language_info": {
      "name": "python"
    }
  },
  "cells": [
    {
      "cell_type": "code",
      "execution_count": null,
      "metadata": {
        "colab": {
          "base_uri": "https://localhost:8080/",
          "height": 1000
        },
        "id": "cHg2x69pRTUI",
        "outputId": "12800a6d-b6f5-4191-f012-c7efc2621591"
      },
      "outputs": [
        {
          "output_type": "stream",
          "name": "stdout",
          "text": [
            "Collecting geemap\n",
            "  Downloading geemap-0.11.0-py2.py3-none-any.whl (1.9 MB)\n",
            "\u001b[K     |████████████████████████████████| 1.9 MB 22.6 MB/s \n",
            "\u001b[?25hCollecting sankee\n",
            "  Downloading sankee-0.0.7.tar.gz (29 kB)\n",
            "Collecting colour\n",
            "  Downloading colour-0.1.5-py2.py3-none-any.whl (23 kB)\n",
            "Collecting ipytree\n",
            "  Downloading ipytree-0.2.1-py2.py3-none-any.whl (1.3 MB)\n",
            "\u001b[K     |████████████████████████████████| 1.3 MB 16.2 MB/s \n",
            "\u001b[?25hCollecting pyshp>=2.1.3\n",
            "  Downloading pyshp-2.1.3.tar.gz (219 kB)\n",
            "\u001b[K     |████████████████████████████████| 219 kB 77.7 MB/s \n",
            "\u001b[?25hCollecting geeadd>=0.5.1\n",
            "  Downloading geeadd-0.5.5-py3-none-any.whl (30 kB)\n",
            "Collecting ipyfilechooser>=0.6.0\n",
            "  Downloading ipyfilechooser-0.6.0-py3-none-any.whl (11 kB)\n",
            "Collecting owslib\n",
            "  Downloading OWSLib-0.25.0-py2.py3-none-any.whl (216 kB)\n",
            "\u001b[K     |████████████████████████████████| 216 kB 65.6 MB/s \n",
            "\u001b[?25hCollecting ffmpeg-python\n",
            "  Downloading ffmpeg_python-0.2.0-py3-none-any.whl (25 kB)\n",
            "Collecting geocoder\n",
            "  Downloading geocoder-1.38.1-py2.py3-none-any.whl (98 kB)\n",
            "\u001b[K     |████████████████████████████████| 98 kB 7.9 MB/s \n",
            "\u001b[?25hCollecting ipyevents\n",
            "  Downloading ipyevents-2.0.1-py2.py3-none-any.whl (130 kB)\n",
            "\u001b[K     |████████████████████████████████| 130 kB 58.4 MB/s \n",
            "\u001b[?25hRequirement already satisfied: pandas in /usr/local/lib/python3.7/dist-packages (from geemap) (1.1.5)\n",
            "Collecting folium>=0.11.0\n",
            "  Downloading folium-0.12.1.post1-py2.py3-none-any.whl (95 kB)\n",
            "\u001b[K     |████████████████████████████████| 95 kB 4.2 MB/s \n",
            "\u001b[?25hCollecting pycrs\n",
            "  Downloading PyCRS-1.0.2.tar.gz (36 kB)\n",
            "Collecting python-box\n",
            "  Downloading python_box-5.4.1-py3-none-any.whl (21 kB)\n",
            "Requirement already satisfied: plotly in /usr/local/lib/python3.7/dist-packages (from geemap) (4.4.1)\n",
            "Collecting jupyterlab>=3\n",
            "  Downloading jupyterlab-3.2.6-py3-none-any.whl (8.6 MB)\n",
            "\u001b[K     |████████████████████████████████| 8.6 MB 62.9 MB/s \n",
            "\u001b[?25hRequirement already satisfied: matplotlib in /usr/local/lib/python3.7/dist-packages (from geemap) (3.2.2)\n",
            "Requirement already satisfied: earthengine-api>=0.1.230 in /usr/local/lib/python3.7/dist-packages (from geemap) (0.1.293)\n",
            "Requirement already satisfied: pillow in /usr/local/lib/python3.7/dist-packages (from geemap) (7.1.2)\n",
            "Requirement already satisfied: palettable in /usr/local/lib/python3.7/dist-packages (from geemap) (3.3.0)\n",
            "Requirement already satisfied: googledrivedownloader in /usr/local/lib/python3.7/dist-packages (from geemap) (0.4)\n",
            "Collecting xyzservices\n",
            "  Downloading xyzservices-2021.11.0-py3-none-any.whl (34 kB)\n",
            "Collecting mss\n",
            "  Downloading mss-6.1.0-py3-none-any.whl (76 kB)\n",
            "\u001b[K     |████████████████████████████████| 76 kB 4.1 MB/s \n",
            "\u001b[?25hCollecting bqplot\n",
            "  Downloading bqplot-0.12.32-py2.py3-none-any.whl (1.2 MB)\n",
            "\u001b[K     |████████████████████████████████| 1.2 MB 50.6 MB/s \n",
            "\u001b[?25hCollecting ipyleaflet>=0.14.0\n",
            "  Downloading ipyleaflet-0.15.0-py2.py3-none-any.whl (3.3 MB)\n",
            "\u001b[K     |████████████████████████████████| 3.3 MB 71.4 MB/s \n",
            "\u001b[?25hCollecting whiteboxgui>=0.6.0\n",
            "  Downloading whiteboxgui-0.6.0-py2.py3-none-any.whl (93 kB)\n",
            "\u001b[K     |████████████████████████████████| 93 kB 1.0 MB/s \n",
            "\u001b[?25hCollecting ipynb-py-convert\n",
            "  Downloading ipynb-py-convert-0.4.6.tar.gz (3.9 kB)\n",
            "Requirement already satisfied: click in /usr/local/lib/python3.7/dist-packages (from geemap) (7.1.2)\n",
            "Collecting geojson\n",
            "  Downloading geojson-2.5.0-py2.py3-none-any.whl (14 kB)\n",
            "Requirement already satisfied: numpy in /usr/local/lib/python3.7/dist-packages (from geemap) (1.19.5)\n",
            "Collecting voila\n",
            "  Downloading voila-0.3.0-py3-none-any.whl (1.7 MB)\n",
            "\u001b[K     |████████████████████████████████| 1.7 MB 44.7 MB/s \n",
            "\u001b[?25hRequirement already satisfied: google-cloud-storage in /usr/local/lib/python3.7/dist-packages (from earthengine-api>=0.1.230->geemap) (1.18.1)\n",
            "Requirement already satisfied: future in /usr/local/lib/python3.7/dist-packages (from earthengine-api>=0.1.230->geemap) (0.16.0)\n",
            "Requirement already satisfied: httplib2shim in /usr/local/lib/python3.7/dist-packages (from earthengine-api>=0.1.230->geemap) (0.0.3)\n",
            "Requirement already satisfied: google-auth-httplib2>=0.0.3 in /usr/local/lib/python3.7/dist-packages (from earthengine-api>=0.1.230->geemap) (0.0.4)\n",
            "Requirement already satisfied: google-auth>=1.4.1 in /usr/local/lib/python3.7/dist-packages (from earthengine-api>=0.1.230->geemap) (1.35.0)\n",
            "Requirement already satisfied: httplib2<1dev,>=0.9.2 in /usr/local/lib/python3.7/dist-packages (from earthengine-api>=0.1.230->geemap) (0.17.4)\n",
            "Requirement already satisfied: google-api-python-client<2,>=1.12.1 in /usr/local/lib/python3.7/dist-packages (from earthengine-api>=0.1.230->geemap) (1.12.8)\n",
            "Requirement already satisfied: six in /usr/local/lib/python3.7/dist-packages (from earthengine-api>=0.1.230->geemap) (1.15.0)\n",
            "Requirement already satisfied: requests in /usr/local/lib/python3.7/dist-packages (from folium>=0.11.0->geemap) (2.23.0)\n",
            "Requirement already satisfied: branca>=0.3.0 in /usr/local/lib/python3.7/dist-packages (from folium>=0.11.0->geemap) (0.4.2)\n",
            "Requirement already satisfied: jinja2>=2.9 in /usr/local/lib/python3.7/dist-packages (from folium>=0.11.0->geemap) (2.11.3)\n",
            "Collecting beautifulsoup4>=4.9.0\n",
            "  Downloading beautifulsoup4-4.10.0-py3-none-any.whl (97 kB)\n",
            "\u001b[K     |████████████████████████████████| 97 kB 7.2 MB/s \n",
            "\u001b[?25hCollecting logzero>=1.5.0\n",
            "  Downloading logzero-1.7.0-py2.py3-none-any.whl (16 kB)\n",
            "Collecting soupsieve>1.2\n",
            "  Downloading soupsieve-2.3.1-py3-none-any.whl (37 kB)\n",
            "Requirement already satisfied: uritemplate<4dev,>=3.0.0 in /usr/local/lib/python3.7/dist-packages (from google-api-python-client<2,>=1.12.1->earthengine-api>=0.1.230->geemap) (3.0.1)\n",
            "Requirement already satisfied: google-api-core<2dev,>=1.21.0 in /usr/local/lib/python3.7/dist-packages (from google-api-python-client<2,>=1.12.1->earthengine-api>=0.1.230->geemap) (1.26.3)\n",
            "Requirement already satisfied: setuptools>=40.3.0 in /usr/local/lib/python3.7/dist-packages (from google-api-core<2dev,>=1.21.0->google-api-python-client<2,>=1.12.1->earthengine-api>=0.1.230->geemap) (57.4.0)\n",
            "Requirement already satisfied: protobuf>=3.12.0 in /usr/local/lib/python3.7/dist-packages (from google-api-core<2dev,>=1.21.0->google-api-python-client<2,>=1.12.1->earthengine-api>=0.1.230->geemap) (3.17.3)\n",
            "Requirement already satisfied: packaging>=14.3 in /usr/local/lib/python3.7/dist-packages (from google-api-core<2dev,>=1.21.0->google-api-python-client<2,>=1.12.1->earthengine-api>=0.1.230->geemap) (21.3)\n",
            "Requirement already satisfied: pytz in /usr/local/lib/python3.7/dist-packages (from google-api-core<2dev,>=1.21.0->google-api-python-client<2,>=1.12.1->earthengine-api>=0.1.230->geemap) (2018.9)\n",
            "Requirement already satisfied: googleapis-common-protos<2.0dev,>=1.6.0 in /usr/local/lib/python3.7/dist-packages (from google-api-core<2dev,>=1.21.0->google-api-python-client<2,>=1.12.1->earthengine-api>=0.1.230->geemap) (1.54.0)\n",
            "Requirement already satisfied: pyasn1-modules>=0.2.1 in /usr/local/lib/python3.7/dist-packages (from google-auth>=1.4.1->earthengine-api>=0.1.230->geemap) (0.2.8)\n",
            "Requirement already satisfied: rsa<5,>=3.1.4 in /usr/local/lib/python3.7/dist-packages (from google-auth>=1.4.1->earthengine-api>=0.1.230->geemap) (4.8)\n",
            "Requirement already satisfied: cachetools<5.0,>=2.0.0 in /usr/local/lib/python3.7/dist-packages (from google-auth>=1.4.1->earthengine-api>=0.1.230->geemap) (4.2.4)\n",
            "Requirement already satisfied: ipywidgets in /usr/local/lib/python3.7/dist-packages (from ipyfilechooser>=0.6.0->geemap) (7.6.5)\n",
            "Collecting traittypes<3,>=0.2.1\n",
            "  Downloading traittypes-0.2.1-py2.py3-none-any.whl (8.6 kB)\n",
            "Requirement already satisfied: ipython>=4.0.0 in /usr/local/lib/python3.7/dist-packages (from ipywidgets->ipyfilechooser>=0.6.0->geemap) (5.5.0)\n",
            "Requirement already satisfied: widgetsnbextension~=3.5.0 in /usr/local/lib/python3.7/dist-packages (from ipywidgets->ipyfilechooser>=0.6.0->geemap) (3.5.2)\n",
            "Requirement already satisfied: traitlets>=4.3.1 in /usr/local/lib/python3.7/dist-packages (from ipywidgets->ipyfilechooser>=0.6.0->geemap) (5.1.1)\n",
            "Requirement already satisfied: ipython-genutils~=0.2.0 in /usr/local/lib/python3.7/dist-packages (from ipywidgets->ipyfilechooser>=0.6.0->geemap) (0.2.0)\n",
            "Requirement already satisfied: jupyterlab-widgets>=1.0.0 in /usr/local/lib/python3.7/dist-packages (from ipywidgets->ipyfilechooser>=0.6.0->geemap) (1.0.2)\n",
            "Requirement already satisfied: nbformat>=4.2.0 in /usr/local/lib/python3.7/dist-packages (from ipywidgets->ipyfilechooser>=0.6.0->geemap) (5.1.3)\n",
            "Requirement already satisfied: ipykernel>=4.5.1 in /usr/local/lib/python3.7/dist-packages (from ipywidgets->ipyfilechooser>=0.6.0->geemap) (4.10.1)\n",
            "Requirement already satisfied: jupyter-client in /usr/local/lib/python3.7/dist-packages (from ipykernel>=4.5.1->ipywidgets->ipyfilechooser>=0.6.0->geemap) (5.3.5)\n",
            "Requirement already satisfied: tornado>=4.0 in /usr/local/lib/python3.7/dist-packages (from ipykernel>=4.5.1->ipywidgets->ipyfilechooser>=0.6.0->geemap) (5.1.1)\n",
            "Requirement already satisfied: pygments in /usr/local/lib/python3.7/dist-packages (from ipython>=4.0.0->ipywidgets->ipyfilechooser>=0.6.0->geemap) (2.6.1)\n",
            "Requirement already satisfied: simplegeneric>0.8 in /usr/local/lib/python3.7/dist-packages (from ipython>=4.0.0->ipywidgets->ipyfilechooser>=0.6.0->geemap) (0.8.1)\n",
            "Requirement already satisfied: pexpect in /usr/local/lib/python3.7/dist-packages (from ipython>=4.0.0->ipywidgets->ipyfilechooser>=0.6.0->geemap) (4.8.0)\n",
            "Requirement already satisfied: pickleshare in /usr/local/lib/python3.7/dist-packages (from ipython>=4.0.0->ipywidgets->ipyfilechooser>=0.6.0->geemap) (0.7.5)\n",
            "Requirement already satisfied: prompt-toolkit<2.0.0,>=1.0.4 in /usr/local/lib/python3.7/dist-packages (from ipython>=4.0.0->ipywidgets->ipyfilechooser>=0.6.0->geemap) (1.0.18)\n",
            "Requirement already satisfied: decorator in /usr/local/lib/python3.7/dist-packages (from ipython>=4.0.0->ipywidgets->ipyfilechooser>=0.6.0->geemap) (4.4.2)\n",
            "Requirement already satisfied: MarkupSafe>=0.23 in /usr/local/lib/python3.7/dist-packages (from jinja2>=2.9->folium>=0.11.0->geemap) (2.0.1)\n",
            "Collecting nbclassic~=0.2\n",
            "  Downloading nbclassic-0.3.5-py3-none-any.whl (25 kB)\n",
            "Requirement already satisfied: jupyter-core in /usr/local/lib/python3.7/dist-packages (from jupyterlab>=3->geemap) (4.9.1)\n",
            "Collecting jupyter-server~=1.4\n",
            "  Downloading jupyter_server-1.13.1-py3-none-any.whl (396 kB)\n",
            "\u001b[K     |████████████████████████████████| 396 kB 59.6 MB/s \n",
            "\u001b[?25hCollecting tornado>=4.0\n",
            "  Downloading tornado-6.1-cp37-cp37m-manylinux2010_x86_64.whl (428 kB)\n",
            "\u001b[K     |████████████████████████████████| 428 kB 63.4 MB/s \n",
            "\u001b[?25hCollecting jupyterlab-server~=2.3\n",
            "  Downloading jupyterlab_server-2.10.3-py3-none-any.whl (61 kB)\n",
            "\u001b[K     |████████████████████████████████| 61 kB 8.0 MB/s \n",
            "\u001b[?25hRequirement already satisfied: pyzmq>=17 in /usr/local/lib/python3.7/dist-packages (from jupyter-server~=1.4->jupyterlab>=3->geemap) (22.3.0)\n",
            "Requirement already satisfied: argon2-cffi in /usr/local/lib/python3.7/dist-packages (from jupyter-server~=1.4->jupyterlab>=3->geemap) (21.3.0)\n",
            "Requirement already satisfied: prometheus-client in /usr/local/lib/python3.7/dist-packages (from jupyter-server~=1.4->jupyterlab>=3->geemap) (0.12.0)\n",
            "Requirement already satisfied: Send2Trash in /usr/local/lib/python3.7/dist-packages (from jupyter-server~=1.4->jupyterlab>=3->geemap) (1.8.0)\n",
            "Collecting websocket-client\n",
            "  Downloading websocket_client-1.2.3-py3-none-any.whl (53 kB)\n",
            "\u001b[K     |████████████████████████████████| 53 kB 1.8 MB/s \n",
            "\u001b[?25hRequirement already satisfied: nbconvert in /usr/local/lib/python3.7/dist-packages (from jupyter-server~=1.4->jupyterlab>=3->geemap) (5.6.1)\n",
            "Requirement already satisfied: terminado>=0.8.3 in /usr/local/lib/python3.7/dist-packages (from jupyter-server~=1.4->jupyterlab>=3->geemap) (0.12.1)\n",
            "Collecting anyio<4,>=3.1.0\n",
            "  Downloading anyio-3.5.0-py3-none-any.whl (79 kB)\n",
            "\u001b[K     |████████████████████████████████| 79 kB 8.3 MB/s \n",
            "\u001b[?25hCollecting jupyter-client\n",
            "  Downloading jupyter_client-7.1.0-py3-none-any.whl (129 kB)\n",
            "\u001b[K     |████████████████████████████████| 129 kB 72.2 MB/s \n",
            "\u001b[?25hRequirement already satisfied: typing-extensions in /usr/local/lib/python3.7/dist-packages (from anyio<4,>=3.1.0->jupyter-server~=1.4->jupyterlab>=3->geemap) (3.10.0.2)\n",
            "Requirement already satisfied: idna>=2.8 in /usr/local/lib/python3.7/dist-packages (from anyio<4,>=3.1.0->jupyter-server~=1.4->jupyterlab>=3->geemap) (2.10)\n",
            "Collecting sniffio>=1.1\n",
            "  Downloading sniffio-1.2.0-py3-none-any.whl (10 kB)\n",
            "Requirement already satisfied: nest-asyncio>=1.5 in /usr/local/lib/python3.7/dist-packages (from jupyter-client->ipykernel>=4.5.1->ipywidgets->ipyfilechooser>=0.6.0->geemap) (1.5.4)\n",
            "Requirement already satisfied: entrypoints in /usr/local/lib/python3.7/dist-packages (from jupyter-client->ipykernel>=4.5.1->ipywidgets->ipyfilechooser>=0.6.0->geemap) (0.3)\n",
            "Requirement already satisfied: python-dateutil>=2.1 in /usr/local/lib/python3.7/dist-packages (from jupyter-client->ipykernel>=4.5.1->ipywidgets->ipyfilechooser>=0.6.0->geemap) (2.8.2)\n",
            "Requirement already satisfied: jsonschema>=3.0.1 in /usr/local/lib/python3.7/dist-packages (from jupyterlab-server~=2.3->jupyterlab>=3->geemap) (4.3.3)\n",
            "Requirement already satisfied: babel in /usr/local/lib/python3.7/dist-packages (from jupyterlab-server~=2.3->jupyterlab>=3->geemap) (2.9.1)\n",
            "Collecting json5\n",
            "  Downloading json5-0.9.6-py2.py3-none-any.whl (18 kB)\n",
            "Requirement already satisfied: importlib-resources>=1.4.0 in /usr/local/lib/python3.7/dist-packages (from jsonschema>=3.0.1->jupyterlab-server~=2.3->jupyterlab>=3->geemap) (5.4.0)\n",
            "Requirement already satisfied: pyrsistent!=0.17.0,!=0.17.1,!=0.17.2,>=0.14.0 in /usr/local/lib/python3.7/dist-packages (from jsonschema>=3.0.1->jupyterlab-server~=2.3->jupyterlab>=3->geemap) (0.18.0)\n",
            "Requirement already satisfied: attrs>=17.4.0 in /usr/local/lib/python3.7/dist-packages (from jsonschema>=3.0.1->jupyterlab-server~=2.3->jupyterlab>=3->geemap) (21.4.0)\n",
            "Requirement already satisfied: importlib-metadata in /usr/local/lib/python3.7/dist-packages (from jsonschema>=3.0.1->jupyterlab-server~=2.3->jupyterlab>=3->geemap) (4.10.0)\n",
            "Requirement already satisfied: zipp>=3.1.0 in /usr/local/lib/python3.7/dist-packages (from importlib-resources>=1.4.0->jsonschema>=3.0.1->jupyterlab-server~=2.3->jupyterlab>=3->geemap) (3.7.0)\n",
            "Requirement already satisfied: notebook<7 in /usr/local/lib/python3.7/dist-packages (from nbclassic~=0.2->jupyterlab>=3->geemap) (5.3.1)\n",
            "Requirement already satisfied: pyparsing!=3.0.5,>=2.0.2 in /usr/local/lib/python3.7/dist-packages (from packaging>=14.3->google-api-core<2dev,>=1.21.0->google-api-python-client<2,>=1.12.1->earthengine-api>=0.1.230->geemap) (3.0.6)\n",
            "Requirement already satisfied: wcwidth in /usr/local/lib/python3.7/dist-packages (from prompt-toolkit<2.0.0,>=1.0.4->ipython>=4.0.0->ipywidgets->ipyfilechooser>=0.6.0->geemap) (0.2.5)\n",
            "Requirement already satisfied: pyasn1<0.5.0,>=0.4.6 in /usr/local/lib/python3.7/dist-packages (from pyasn1-modules>=0.2.1->google-auth>=1.4.1->earthengine-api>=0.1.230->geemap) (0.4.8)\n",
            "Requirement already satisfied: urllib3!=1.25.0,!=1.25.1,<1.26,>=1.21.1 in /usr/local/lib/python3.7/dist-packages (from requests->folium>=0.11.0->geemap) (1.24.3)\n",
            "Requirement already satisfied: chardet<4,>=3.0.2 in /usr/local/lib/python3.7/dist-packages (from requests->folium>=0.11.0->geemap) (3.0.4)\n",
            "Requirement already satisfied: certifi>=2017.4.17 in /usr/local/lib/python3.7/dist-packages (from requests->folium>=0.11.0->geemap) (2021.10.8)\n",
            "Requirement already satisfied: ptyprocess in /usr/local/lib/python3.7/dist-packages (from terminado>=0.8.3->jupyter-server~=1.4->jupyterlab>=3->geemap) (0.7.0)\n",
            "Collecting whitebox\n",
            "  Downloading whitebox-2.0.3-py2.py3-none-any.whl (70 kB)\n",
            "\u001b[K     |████████████████████████████████| 70 kB 10.2 MB/s \n",
            "\u001b[?25hRequirement already satisfied: argon2-cffi-bindings in /usr/local/lib/python3.7/dist-packages (from argon2-cffi->jupyter-server~=1.4->jupyterlab>=3->geemap) (21.2.0)\n",
            "Requirement already satisfied: cffi>=1.0.1 in /usr/local/lib/python3.7/dist-packages (from argon2-cffi-bindings->argon2-cffi->jupyter-server~=1.4->jupyterlab>=3->geemap) (1.15.0)\n",
            "Requirement already satisfied: pycparser in /usr/local/lib/python3.7/dist-packages (from cffi>=1.0.1->argon2-cffi-bindings->argon2-cffi->jupyter-server~=1.4->jupyterlab>=3->geemap) (2.21)\n",
            "Collecting ratelim\n",
            "  Downloading ratelim-0.1.6-py2.py3-none-any.whl (4.0 kB)\n",
            "Requirement already satisfied: google-cloud-core<2.0dev,>=1.0.0 in /usr/local/lib/python3.7/dist-packages (from google-cloud-storage->earthengine-api>=0.1.230->geemap) (1.0.3)\n",
            "Requirement already satisfied: google-resumable-media<0.5.0dev,>=0.3.1 in /usr/local/lib/python3.7/dist-packages (from google-cloud-storage->earthengine-api>=0.1.230->geemap) (0.4.1)\n",
            "Requirement already satisfied: cycler>=0.10 in /usr/local/lib/python3.7/dist-packages (from matplotlib->geemap) (0.11.0)\n",
            "Requirement already satisfied: kiwisolver>=1.0.1 in /usr/local/lib/python3.7/dist-packages (from matplotlib->geemap) (1.3.2)\n",
            "Requirement already satisfied: testpath in /usr/local/lib/python3.7/dist-packages (from nbconvert->jupyter-server~=1.4->jupyterlab>=3->geemap) (0.5.0)\n",
            "Requirement already satisfied: bleach in /usr/local/lib/python3.7/dist-packages (from nbconvert->jupyter-server~=1.4->jupyterlab>=3->geemap) (4.1.0)\n",
            "Requirement already satisfied: mistune<2,>=0.8.1 in /usr/local/lib/python3.7/dist-packages (from nbconvert->jupyter-server~=1.4->jupyterlab>=3->geemap) (0.8.4)\n",
            "Requirement already satisfied: pandocfilters>=1.4.1 in /usr/local/lib/python3.7/dist-packages (from nbconvert->jupyter-server~=1.4->jupyterlab>=3->geemap) (1.5.0)\n",
            "Requirement already satisfied: defusedxml in /usr/local/lib/python3.7/dist-packages (from nbconvert->jupyter-server~=1.4->jupyterlab>=3->geemap) (0.7.1)\n",
            "Requirement already satisfied: webencodings in /usr/local/lib/python3.7/dist-packages (from bleach->nbconvert->jupyter-server~=1.4->jupyterlab>=3->geemap) (0.5.1)\n",
            "Requirement already satisfied: pyyaml in /usr/local/lib/python3.7/dist-packages (from owslib->geemap) (3.13)\n",
            "Collecting pyproj>=2\n",
            "  Downloading pyproj-3.2.1-cp37-cp37m-manylinux2010_x86_64.whl (6.3 MB)\n",
            "\u001b[K     |████████████████████████████████| 6.3 MB 54.2 MB/s \n",
            "\u001b[?25hRequirement already satisfied: retrying>=1.3.3 in /usr/local/lib/python3.7/dist-packages (from plotly->geemap) (1.3.3)\n",
            "Collecting plotly\n",
            "  Downloading plotly-5.5.0-py2.py3-none-any.whl (26.5 MB)\n",
            "\u001b[K     |████████████████████████████████| 26.5 MB 1.6 MB/s \n",
            "\u001b[?25hCollecting tenacity>=6.2.0\n",
            "  Downloading tenacity-8.0.1-py3-none-any.whl (24 kB)\n",
            "Collecting websockets>=9.0\n",
            "  Downloading websockets-10.1-cp37-cp37m-manylinux_2_5_x86_64.manylinux1_x86_64.manylinux_2_12_x86_64.manylinux2010_x86_64.whl (111 kB)\n",
            "\u001b[K     |████████████████████████████████| 111 kB 57.7 MB/s \n",
            "\u001b[?25hRequirement already satisfied: nbclient<0.6,>=0.4.0 in /usr/local/lib/python3.7/dist-packages (from voila->geemap) (0.5.9)\n",
            "Collecting nbconvert\n",
            "  Downloading nbconvert-6.4.0-py3-none-any.whl (557 kB)\n",
            "\u001b[K     |████████████████████████████████| 557 kB 56.1 MB/s \n",
            "\u001b[?25hRequirement already satisfied: jupyterlab-pygments in /usr/local/lib/python3.7/dist-packages (from nbconvert->jupyter-server~=1.4->jupyterlab>=3->geemap) (0.1.2)\n",
            "Building wheels for collected packages: pyshp, ipynb-py-convert, pycrs, sankee\n",
            "  Building wheel for pyshp (setup.py) ... \u001b[?25l\u001b[?25hdone\n",
            "  Created wheel for pyshp: filename=pyshp-2.1.3-py3-none-any.whl size=37324 sha256=ec81541a72ba14348d1674fdc18315a43744a878a6f952a9f13ec0e45300dcfd\n",
            "  Stored in directory: /root/.cache/pip/wheels/43/f8/87/53c8cd41545ba20e536ea29a8fcb5431b5f477ca50d5dffbbe\n",
            "  Building wheel for ipynb-py-convert (setup.py) ... \u001b[?25l\u001b[?25hdone\n",
            "  Created wheel for ipynb-py-convert: filename=ipynb_py_convert-0.4.6-py3-none-any.whl size=4640 sha256=18805a04f7acc15b0d6110a5e630d1a3fa1caa00e00a823a88921f31c2297b83\n",
            "  Stored in directory: /root/.cache/pip/wheels/af/31/a9/761b134adbbca3c92d491eff3bad785c0a0c0079695d6f0504\n",
            "  Building wheel for pycrs (setup.py) ... \u001b[?25l\u001b[?25hdone\n",
            "  Created wheel for pycrs: filename=PyCRS-1.0.2-py3-none-any.whl size=32704 sha256=b47af20103055288f5d40579ceb1e00d3d0fbb26d52d70c6828afc45763db9e5\n",
            "  Stored in directory: /root/.cache/pip/wheels/3e/ce/32/1ec0aba6b9770681a423e82f0274c57d09ad2c20c2864901f9\n",
            "  Building wheel for sankee (setup.py) ... \u001b[?25l\u001b[?25hdone\n",
            "  Created wheel for sankee: filename=sankee-0.0.7-py3-none-any.whl size=27639 sha256=407c1020b054e6e1b15cc15ae10f8ab3ac0034fa976c4d9b9cfc9648333e81f0\n",
            "  Stored in directory: /root/.cache/pip/wheels/13/28/83/5726f82a8cb0baf76169d99ee0595c420afedb9020e22bbd4b\n",
            "Successfully built pyshp ipynb-py-convert pycrs sankee\n",
            "Installing collected packages: tornado, jupyter-client, nbconvert, sniffio, websocket-client, anyio, tenacity, soupsieve, jupyter-server, json5, xyzservices, whitebox, websockets, traittypes, ratelim, pyproj, plotly, nbclassic, logzero, jupyterlab-server, ipytree, ipyfilechooser, beautifulsoup4, whiteboxgui, voila, sankee, python-box, pyshp, pycrs, owslib, mss, jupyterlab, ipynb-py-convert, ipyleaflet, ipyevents, geojson, geocoder, geeadd, folium, ffmpeg-python, colour, bqplot, geemap\n",
            "  Attempting uninstall: tornado\n",
            "    Found existing installation: tornado 5.1.1\n",
            "    Uninstalling tornado-5.1.1:\n",
            "      Successfully uninstalled tornado-5.1.1\n",
            "  Attempting uninstall: jupyter-client\n",
            "    Found existing installation: jupyter-client 5.3.5\n",
            "    Uninstalling jupyter-client-5.3.5:\n",
            "      Successfully uninstalled jupyter-client-5.3.5\n",
            "  Attempting uninstall: nbconvert\n",
            "    Found existing installation: nbconvert 5.6.1\n",
            "    Uninstalling nbconvert-5.6.1:\n",
            "      Successfully uninstalled nbconvert-5.6.1\n",
            "  Attempting uninstall: plotly\n",
            "    Found existing installation: plotly 4.4.1\n",
            "    Uninstalling plotly-4.4.1:\n",
            "      Successfully uninstalled plotly-4.4.1\n",
            "  Attempting uninstall: beautifulsoup4\n",
            "    Found existing installation: beautifulsoup4 4.6.3\n",
            "    Uninstalling beautifulsoup4-4.6.3:\n",
            "      Successfully uninstalled beautifulsoup4-4.6.3\n",
            "  Attempting uninstall: folium\n",
            "    Found existing installation: folium 0.8.3\n",
            "    Uninstalling folium-0.8.3:\n",
            "      Successfully uninstalled folium-0.8.3\n",
            "\u001b[31mERROR: pip's dependency resolver does not currently take into account all the packages that are installed. This behaviour is the source of the following dependency conflicts.\n",
            "google-colab 1.0.0 requires tornado~=5.1.0; python_version >= \"3.0\", but you have tornado 6.1 which is incompatible.\n",
            "datascience 0.10.6 requires folium==0.2.1, but you have folium 0.12.1.post1 which is incompatible.\u001b[0m\n",
            "Successfully installed anyio-3.5.0 beautifulsoup4-4.10.0 bqplot-0.12.32 colour-0.1.5 ffmpeg-python-0.2.0 folium-0.12.1.post1 geeadd-0.5.5 geemap-0.11.0 geocoder-1.38.1 geojson-2.5.0 ipyevents-2.0.1 ipyfilechooser-0.6.0 ipyleaflet-0.15.0 ipynb-py-convert-0.4.6 ipytree-0.2.1 json5-0.9.6 jupyter-client-7.1.0 jupyter-server-1.13.1 jupyterlab-3.2.6 jupyterlab-server-2.10.3 logzero-1.7.0 mss-6.1.0 nbclassic-0.3.5 nbconvert-6.4.0 owslib-0.25.0 plotly-5.5.0 pycrs-1.0.2 pyproj-3.2.1 pyshp-2.1.3 python-box-5.4.1 ratelim-0.1.6 sankee-0.0.7 sniffio-1.2.0 soupsieve-2.3.1 tenacity-8.0.1 tornado-6.1 traittypes-0.2.1 voila-0.3.0 websocket-client-1.2.3 websockets-10.1 whitebox-2.0.3 whiteboxgui-0.6.0 xyzservices-2021.11.0\n"
          ]
        },
        {
          "output_type": "display_data",
          "data": {
            "application/vnd.colab-display-data+json": {
              "pip_warning": {
                "packages": [
                  "jupyter_client",
                  "tornado"
                ]
              }
            }
          },
          "metadata": {}
        }
      ],
      "source": [
        "!pip install geemap"
      ]
    },
    {
      "cell_type": "code",
      "source": [
        "import os\n",
        "import ee\n",
        "import geemap\n",
        "import ipywidgets as widgets\n",
        "import pandas as pd\n",
        "import numpy as np"
      ],
      "metadata": {
        "id": "mROxqOGXRodj"
      },
      "execution_count": null,
      "outputs": []
    },
    {
      "cell_type": "code",
      "source": [
        "ee.Authenticate()\n",
        "ee.Initialize()"
      ],
      "metadata": {
        "colab": {
          "base_uri": "https://localhost:8080/"
        },
        "id": "OZ6iWsupRr5o",
        "outputId": "90d0f3af-57b3-4f81-a147-6c0b5b089067"
      },
      "execution_count": null,
      "outputs": [
        {
          "output_type": "stream",
          "name": "stdout",
          "text": [
            "To authorize access needed by Earth Engine, open the following URL in a web browser and follow the instructions. If the web browser does not start automatically, please manually browse the URL below.\n",
            "\n",
            "    https://accounts.google.com/o/oauth2/auth?client_id=517222506229-vsmmajv00ul0bs7p89v5m89qs8eb9359.apps.googleusercontent.com&scope=https%3A%2F%2Fwww.googleapis.com%2Fauth%2Fearthengine+https%3A%2F%2Fwww.googleapis.com%2Fauth%2Fdevstorage.full_control&redirect_uri=urn%3Aietf%3Awg%3Aoauth%3A2.0%3Aoob&response_type=code&code_challenge=iv5fQo-02EVzm1Mc4alZIgCISyUeN5YOmrPix7II4hc&code_challenge_method=S256\n",
            "\n",
            "The authorization workflow will generate a code, which you should paste in the box below. \n",
            "Enter verification code: 4/1AX4XfWjdjGNbYyIAUZZnOhRT8_Ajb4V5vBGXEQnoJhh4I_RtedXRQqqdU3g\n",
            "\n",
            "Successfully saved authorization token.\n"
          ]
        }
      ]
    },
    {
      "cell_type": "code",
      "source": [
        "start_date = '2021-12-01'\n",
        "end_date = '2021-12-31'"
      ],
      "metadata": {
        "id": "Fg3ayqP9Rva2"
      },
      "execution_count": null,
      "outputs": []
    },
    {
      "cell_type": "code",
      "source": [
        "Map = geemap.Map()\n",
        "# Shinai Lake\n",
        "# geometry1 = ee.Geometry.Point([70.0548, 23.0436])\n",
        "# geometry = ee.Geometry.Polygon([\n",
        "#   [70.04874768610325,23.04214605390439],\n",
        "#   [70.04844727869359,23.04104028911941],\n",
        "#   [70.05072179193822,23.040684862796613],\n",
        "#   [70.06059232111302,23.04025045157304],\n",
        "#   [70.06059232111302,23.0428174066668],\n",
        "#   [70.05986276026097,23.050873378803626],\n",
        "#   [70.05861821527806,23.05111031186513],\n",
        "#   [70.06042065973607,23.053440131429138],\n",
        "#   [70.05853238458958,23.05328217883439],\n",
        "#   [70.05745950098363,23.05272934329343],\n",
        "#   [70.05784573908177,23.051979062856947],\n",
        "#   [70.05715909357396,23.049886153226375],\n",
        "#   [70.0546270882639,23.047358822767286],\n",
        "#   [70.05123677606908,23.04419959299459],\n",
        "#   [70.04870477075902,23.04218554533598],\n",
        "#   [70.04561486597386,23.042619950319327],\n",
        "#   [70.0425249611887,23.042304019561268],\n",
        "#   [70.04874768610325,23.04214605390439]])\n",
        "\n",
        "# Harmisar Lake\n",
        "# geometry1 = ee.Geometry.Point([69.6654,23.2518])\n",
        "# geometry = ee.Geometry.Polygon([\n",
        "#   [69.66043639653007,23.246102513386116],\n",
        "#   [69.66790366642753,23.2532788338991],\n",
        "#   [69.66532874577324,23.254934853020433],\n",
        "#   [69.66532874577324,23.254934853020433],\n",
        "#   [69.66309714787285,23.25406741699824],\n",
        "#   [69.65880561344902,23.24846837600378],\n",
        "#   [69.66043639653007,23.246102513386116]\n",
        "#   ])\n",
        "\n",
        "# Tappar Reservoir\n",
        "# geometry1 = ee.Geometry.Point([70.1247, 23.2594])\n",
        "\n",
        "# geometry = ee.Geometry.Polygon([\n",
        "#     [70.11526112028646,23.265654213559177],\n",
        "#     [70.1132870144515,23.265733064758127],\n",
        "#     [70.1162052578597,23.262421274232103],\n",
        "#     [70.11251453825521,23.260528785553717],\n",
        "#     [70.11414532133627,23.258793980660567],\n",
        "#     [70.11680607267904,23.259345966484677],\n",
        "#     [70.118780178514,23.258320848134957],\n",
        "#     [70.12633327909994,23.259424821415816],\n",
        "#     [70.12736324736166,23.2568225840589],\n",
        "#     [70.12212757536459,23.2549300158948],\n",
        "#     [70.1242733425765,23.253273996713393],\n",
        "#     [70.12015346952963,23.250750499364315],\n",
        "#     [70.11981014677572,23.248778983833198],\n",
        "#     [70.12418751188802,23.250513919039477],\n",
        "#     [70.12367252775717,23.248542400010923],\n",
        "#     [70.12753490873861,23.2495675935431],\n",
        "#     [70.129766506639,23.248463538643573],\n",
        "#     [70.14169697233724,23.255955160318607],\n",
        "#     [70.14204029509115,23.262105861318428],\n",
        "#     [70.140752834764,23.259740240673903],\n",
        "#     [70.13586048552084,23.26060763978514],\n",
        "#     [70.13156895109701,23.26360406601038],\n",
        "#     [70.12907986113119,23.263052097820147],\n",
        "#     [70.127964062181,23.26462914372719],\n",
        "#     [70.12693409391927,23.264234883999983],\n",
        "#     [70.12470249601888,23.26447143997628],\n",
        "#     [70.1213550991683,23.264707995532675],\n",
        "#     [70.1231575436263,23.26865052631766],\n",
        "#     [70.1198959774642,23.27014865742989],\n",
        "#     [70.11860851713705,23.266679275506082],\n",
        "#     [70.11594776579427,23.26865052631766],\n",
        "#     [70.11508945890951,23.2658119159104],\n",
        "#     [70.11423115202474,23.26770432956762],\n",
        "#     [70.11526112028646,23.265654213559177]\n",
        "# ])\n",
        "\n",
        "#Narayan Sarovar\n",
        "geometry1 = ee.Geometry.Point([68.5394,23.6758])\n",
        "\n",
        "geometry = ee.Geometry.Polygon([\n",
        "    [68.53852647337885,23.67243057996629],\n",
        "    [68.5403718331811,23.674199260194264],\n",
        "    [68.53895562682123,23.674435082416107],\n",
        "    [68.53826898131342,23.674120652692412],\n",
        "    [68.53852647337885,23.67243057996629]\n",
        "])\n",
        "\n",
        "Map.addLayer(geometry1)\n",
        "sentinel = ee.ImageCollection(\"COPERNICUS/S2_SR\").filterBounds(geometry) \\\n",
        "               .filterDate(start_date,end_date) \\\n",
        "               .filter(ee.Filter.lt('CLOUDY_PIXEL_PERCENTAGE',20)) \\\n",
        "               .median()\n",
        "\n",
        "\n",
        "mndwi = sentinel.normalizedDifference(['B3','B11']).rename('mndwi')\n",
        "mndwitr = mndwi.gt(0)\n",
        "ndsi = sentinel.normalizedDifference(['B11','B12']).rename('ndsi')\n",
        "ndti = sentinel.normalizedDifference(['B4','B3']).rename('ndti')\n",
        "\n",
        "ndci = sentinel.normalizedDifference(['B5','B4']).rename('ndci')\n",
        "\n",
        "\n",
        "ph  = ee.Image(8.339).subtract(ee.Image(0.827).multiply(sentinel.select('B1').divide(sentinel.select('B8')))).rename('ph')\n",
        "\n",
        "dissolvedoxygen  = ee.Image(-0.0167).multiply(sentinel.select('B8')).add(ee.Image(0.0067).multiply(sentinel.select('B9'))).add(ee.Image(0.0083).multiply(sentinel.select('B11'))).add(ee.Image(9.577)).rename('dissolvedoxygen')\n"
      ],
      "metadata": {
        "id": "rM2ybOBbRvYA"
      },
      "execution_count": null,
      "outputs": []
    },
    {
      "cell_type": "code",
      "source": [
        "col = ee.ImageCollection('LANDSAT/LC08/C02/T1_L2') \\\n",
        ".filterDate(start_date,end_date) \\\n",
        ".filterBounds(geometry).median()\n",
        "\n",
        "temp  = col.select('ST_B.*').multiply(0.00341802).add(149.0).subtract(273.15).rename('temp')\n",
        "\n"
      ],
      "metadata": {
        "id": "DAUeyxcvmpvF"
      },
      "execution_count": null,
      "outputs": []
    },
    {
      "cell_type": "markdown",
      "source": [
        "## Sentinel 3"
      ],
      "metadata": {
        "id": "fQ2Edl3jtf9B"
      }
    },
    {
      "cell_type": "code",
      "source": [
        "starting = '2021-12-01'\n",
        "ending = '2021-12-31'\n",
        "\n",
        "data = ee.ImageCollection('COPERNICUS/S3/OLCI').filterDate(starting, ending).filterBounds(geometry)\n",
        "\n",
        "rgb = data.select(['Oa08_radiance', 'Oa06_radiance', 'Oa04_radiance'])\\\n",
        "              .median().multiply(ee.Image([0.00876539, 0.0123538, 0.0115198])).clip(geometry)\n",
        "dm_2021_Dec = rgb.select('Oa08_radiance').divide(rgb.select('Oa04_radiance')).rename('dom')\n",
        "suspended_matter__2021_Dec = rgb.select('Oa08_radiance').divide(rgb.select('Oa06_radiance')).rename('suspended_matter')\n",
        "\n",
        "\n",
        "latlon = ee.Image.pixelLonLat().addBands(dm_2021_Dec)\n",
        "# apply reducer to list\n",
        "latlon = latlon.reduceRegion(\n",
        "  reducer=ee.Reducer.toList(),\n",
        "  geometry=geometry,\n",
        "  scale=100,\n",
        "  tileScale = 16);\n",
        "# get data into three different arrays\n",
        "data_dom_2021_Dec = np.array((ee.Array(latlon.get(\"dom\")).getInfo()))\n",
        "\n",
        "latlon = ee.Image.pixelLonLat().addBands(suspended_matter__2021_Dec)\n",
        "# apply reducer to list\n",
        "latlon = latlon.reduceRegion(\n",
        "  reducer=ee.Reducer.toList(),\n",
        "  geometry=geometry,\n",
        "  scale=100,\n",
        "  tileScale = 16);\n",
        "# get data into three different arrays\n",
        "data_sm_2021_Dec= np.array((ee.Array(latlon.get(\"suspended_matter\")).getInfo()))"
      ],
      "metadata": {
        "id": "OsoVcJJkWdcx"
      },
      "execution_count": null,
      "outputs": []
    },
    {
      "cell_type": "code",
      "source": [
        "start1 = '2021-01-01'\n",
        "end1 = '2021-06-30'"
      ],
      "metadata": {
        "id": "mFH-YyvPnNvI"
      },
      "execution_count": null,
      "outputs": []
    },
    {
      "cell_type": "code",
      "source": [
        "data = ee.ImageCollection('COPERNICUS/S3/OLCI').filterDate(start1, end1).filterBounds(geometry)\n",
        "\n",
        "rgb = data.select(['Oa08_radiance', 'Oa06_radiance', 'Oa04_radiance'])\\\n",
        "              .median().multiply(ee.Image([0.00876539, 0.0123538, 0.0115198])).clip(geometry)\n",
        "dm_2021_Jan_June = rgb.select('Oa08_radiance').divide(rgb.select('Oa04_radiance')).rename('dom')\n",
        "suspended_matter__2021_Jan_June = rgb.select('Oa08_radiance').divide(rgb.select('Oa06_radiance')).rename('suspended_matter')\n"
      ],
      "metadata": {
        "id": "G8Tgvf5jnOb1"
      },
      "execution_count": null,
      "outputs": []
    },
    {
      "cell_type": "code",
      "source": [
        "latlon = ee.Image.pixelLonLat().addBands(dm_2021_Jan_June)\n",
        "# apply reducer to list\n",
        "latlon = latlon.reduceRegion(\n",
        "  reducer=ee.Reducer.toList(),\n",
        "  geometry=geometry,\n",
        "  scale=100,\n",
        "  tileScale = 16);\n",
        "# get data into three different arrays\n",
        "data_dom_2021_Jan_June = np.array((ee.Array(latlon.get(\"dom\")).getInfo()))"
      ],
      "metadata": {
        "id": "VvDImmqPnRhB"
      },
      "execution_count": null,
      "outputs": []
    },
    {
      "cell_type": "code",
      "source": [
        "latlon = ee.Image.pixelLonLat().addBands(suspended_matter__2021_Jan_June)\n",
        "# apply reducer to list\n",
        "latlon = latlon.reduceRegion(\n",
        "  reducer=ee.Reducer.toList(),\n",
        "  geometry=geometry,\n",
        "  scale=100,\n",
        "  tileScale = 16);\n",
        "# get data into three different arrays\n",
        "data_sm_2021_Jan_June= np.array((ee.Array(latlon.get(\"suspended_matter\")).getInfo()))"
      ],
      "metadata": {
        "id": "PKEObLjnoYkR"
      },
      "execution_count": null,
      "outputs": []
    },
    {
      "cell_type": "code",
      "source": [
        "start2 = '2021-07-31'\n",
        "end2 = '2021-10-31'\n",
        "\n",
        "data = ee.ImageCollection('COPERNICUS/S3/OLCI').filterDate(start2, end2).filterBounds(geometry)\n",
        "\n",
        "rgb = data.select(['Oa08_radiance', 'Oa06_radiance', 'Oa04_radiance'])\\\n",
        "              .median().multiply(ee.Image([0.00876539, 0.0123538, 0.0115198])).clip(geometry)\n",
        "dm_2021_July_Oct = rgb.select('Oa08_radiance').divide(rgb.select('Oa04_radiance')).rename('dom')\n",
        "suspended_matter__2021_July_Oct = rgb.select('Oa08_radiance').divide(rgb.select('Oa06_radiance')).rename('suspended_matter')\n",
        "\n",
        "latlon = ee.Image.pixelLonLat().addBands(dm_2021_July_Oct)\n",
        "# apply reducer to list\n",
        "latlon = latlon.reduceRegion(\n",
        "  reducer=ee.Reducer.toList(),\n",
        "  geometry=geometry,\n",
        "  scale=100,\n",
        "  tileScale = 16);\n",
        "# get data into three different arrays\n",
        "data_dom_2021_July_Oct = np.array((ee.Array(latlon.get(\"dom\")).getInfo()))\n",
        "\n",
        "latlon = ee.Image.pixelLonLat().addBands(suspended_matter__2021_July_Oct)\n",
        "# apply reducer to list\n",
        "latlon = latlon.reduceRegion(\n",
        "  reducer=ee.Reducer.toList(),\n",
        "  geometry=geometry,\n",
        "  scale=100,\n",
        "  tileScale = 16);\n",
        "# get data into three different arrays\n",
        "data_sm_2021_July_Oct= np.array((ee.Array(latlon.get(\"suspended_matter\")).getInfo()))\n",
        "\n",
        "\n",
        "\n",
        "start3 = '2021-11-30'\n",
        "end3 = '2021-12-31'\n",
        "\n",
        "data = ee.ImageCollection('COPERNICUS/S3/OLCI').filterDate(start3, end3).filterBounds(geometry)\n",
        "\n",
        "rgb = data.select(['Oa08_radiance', 'Oa06_radiance', 'Oa04_radiance'])\\\n",
        "              .median().multiply(ee.Image([0.00876539, 0.0123538, 0.0115198])).clip(geometry)\n",
        "dm_2021_Nov_Dec = rgb.select('Oa08_radiance').divide(rgb.select('Oa04_radiance')).rename('dom')\n",
        "suspended_matter__2021_Nov_Dec = rgb.select('Oa08_radiance').divide(rgb.select('Oa06_radiance')).rename('suspended_matter')\n",
        "\n",
        "latlon = ee.Image.pixelLonLat().addBands(dm_2021_Nov_Dec)\n",
        "# apply reducer to list\n",
        "latlon = latlon.reduceRegion(\n",
        "  reducer=ee.Reducer.toList(),\n",
        "  geometry=geometry,\n",
        "  scale=100,\n",
        "  tileScale = 16);\n",
        "# get data into three different arrays\n",
        "data_dom_2021_Nov_Dec = np.array((ee.Array(latlon.get(\"dom\")).getInfo()))\n",
        "\n",
        "latlon = ee.Image.pixelLonLat().addBands(suspended_matter__2021_Nov_Dec)\n",
        "# apply reducer to list\n",
        "latlon = latlon.reduceRegion(\n",
        "  reducer=ee.Reducer.toList(),\n",
        "  geometry=geometry,\n",
        "  scale=100,\n",
        "  tileScale = 16);\n",
        "# get data into three different arrays\n",
        "data_sm_2021_Nov_Dec = np.array((ee.Array(latlon.get(\"suspended_matter\")).getInfo()))"
      ],
      "metadata": {
        "id": "i9QaNYiv63kF"
      },
      "execution_count": null,
      "outputs": []
    },
    {
      "cell_type": "markdown",
      "source": [
        "## Trash"
      ],
      "metadata": {
        "id": "TDpjNchq_RjC"
      }
    },
    {
      "cell_type": "code",
      "source": [
        "dm = []\n",
        "sm = []\n",
        "start = datetime.date(2018, 1, 1)\n",
        "end = datetime.date(2018, 1, 31)\n",
        "delta = datetime.timedelta(weeks=1)\n",
        "while start <= end:\n",
        "    print(\"Start Date: \",start)\n",
        "    ending = start + delta\n",
        "    start = ending\n",
        "    print(\"End Date: \",ending)\n",
        "    sdate = str(start)\n",
        "    edate = str(ending)\n",
        "    print(\"Start date: \", sdate, \"End date: \", edate)\n",
        "    data = ee.ImageCollection('COPERNICUS/S3/OLCI').filterDate(sdate, edate).filter(ee.Filter.lt('CLOUDY_PIXEL_PERCENTAGE',20)).filterBounds(geometry)\n",
        "\n",
        "    rgb = data.select(['Oa08_radiance', 'Oa06_radiance', 'Oa04_radiance'])\\\n",
        "                  .median().multiply(ee.Image([0.00876539, 0.0123538, 0.0115198])).clip(geometry)\n",
        "    dm_2018 = rgb.select('Oa08_radiance').divide(rgb.select('Oa04_radiance')).rename('dom')\n",
        "    suspended_matter__2018 = rgb.select('Oa08_radiance').divide(rgb.select('Oa06_radiance')).rename('suspended_matter')\n",
        "\n",
        "    latlon = ee.Image.pixelLonLat().addBands(dm_2018)\n",
        "    # apply reducer to list\n",
        "    latlon = latlon.reduceRegion(\n",
        "      reducer=ee.Reducer.toList(),\n",
        "      geometry=geometry,\n",
        "      scale=100,\n",
        "      tileScale = 16);\n",
        "    # get data into three different arrays\n",
        "    data_dom_2018 = np.array((ee.Array(latlon.get(\"dom\")).getInfo()))\n",
        "\n",
        "#     latlon = ee.Image.pixelLonLat().addBands(suspended_matter__2018)\n",
        "#     # apply reducer to list\n",
        "#     latlon = latlon.reduceRegion(\n",
        "#       reducer=ee.Reducer.toList(),\n",
        "#       geometry=geometry,\n",
        "#       scale=100,\n",
        "#       tileScale = 16);\n",
        "#     # get data into three different arrays\n",
        "#     data_sm_2018 = np.array((ee.Array(latlon.get(\"suspended_matter\")).getInfo()))\n",
        "\n",
        "#     dm.append(pd.DataFrame(data_dom_2018, columns = ['Dissolved Organic Matter']))\n",
        "#     sm.append(pd.DataFrame(data_sm_2018, columns = ['Suspended Matter']))\n",
        "\n",
        "# data_dom = pd.concat(dm, sort=False, ignore_index=True)\n",
        "# data_sm = pd.concat(sm, sort=False, ignore_index=True)"
      ],
      "metadata": {
        "id": "Fel2uxTboZEP"
      },
      "execution_count": null,
      "outputs": []
    },
    {
      "cell_type": "markdown",
      "source": [
        "## Temperature"
      ],
      "metadata": {
        "id": "r1bwwPqEm_S4"
      }
    },
    {
      "cell_type": "code",
      "source": [
        "latlon = ee.Image.pixelLonLat().addBands(temp)\n",
        "\n",
        "\n",
        "latlon = latlon.reduceRegion(\n",
        "  reducer=ee.Reducer.toList(),\n",
        "  geometry=geometry,\n",
        "  scale=100);\n",
        "\n",
        "data_lst = np.array((ee.Array(latlon.get(\"temp\")).getInfo()))\n",
        "# geemap.ee_to_numpy(dataset, region=geometry)"
      ],
      "metadata": {
        "id": "MG-gH2yOmuYN"
      },
      "execution_count": null,
      "outputs": []
    },
    {
      "cell_type": "markdown",
      "source": [
        "## Turbidity"
      ],
      "metadata": {
        "id": "DnYuJx-tnA7H"
      }
    },
    {
      "cell_type": "code",
      "source": [
        "latlon = ee.Image.pixelLonLat().addBands(ndti)\n",
        "# apply reducer to list\n",
        "latlon = latlon.reduceRegion(\n",
        "  reducer=ee.Reducer.toList(),\n",
        "  geometry=geometry,\n",
        "  scale=100);\n",
        "# get data into three different arrays\n",
        "data_ndti = np.array((ee.Array(latlon.get(\"ndti\")).getInfo()))"
      ],
      "metadata": {
        "id": "mF4IAKtNRvVY"
      },
      "execution_count": null,
      "outputs": []
    },
    {
      "cell_type": "markdown",
      "source": [
        "## Salinity"
      ],
      "metadata": {
        "id": "Q4mInpBmnCpq"
      }
    },
    {
      "cell_type": "code",
      "source": [
        "latlon = ee.Image.pixelLonLat().addBands(ndsi)\n",
        "# apply reducer to list\n",
        "latlon = latlon.reduceRegion(\n",
        "  reducer=ee.Reducer.toList(),\n",
        "  geometry=geometry,\n",
        "  scale=100);\n",
        "# get data into three different arrays\n",
        "data_ndsi = np.array((ee.Array(latlon.get(\"ndsi\")).getInfo()))"
      ],
      "metadata": {
        "id": "qGh2Y2XCmjwC"
      },
      "execution_count": null,
      "outputs": []
    },
    {
      "cell_type": "markdown",
      "source": [
        "## Chlorophyll"
      ],
      "metadata": {
        "id": "LKU-FBTRtxEl"
      }
    },
    {
      "cell_type": "code",
      "source": [
        "latlon = ee.Image.pixelLonLat().addBands(ndci)\n",
        "# apply reducer to list\n",
        "latlon = latlon.reduceRegion(\n",
        "  reducer=ee.Reducer.toList(),\n",
        "  geometry=geometry,\n",
        "  scale=100);\n",
        "# get data into three different arrays\n",
        "data_ndci = np.array((ee.Array(latlon.get(\"ndci\")).getInfo()))"
      ],
      "metadata": {
        "id": "WIs1ymgwXac4"
      },
      "execution_count": null,
      "outputs": []
    },
    {
      "cell_type": "markdown",
      "source": [
        "## Dissolved Oxygen"
      ],
      "metadata": {
        "id": "iuKjQfsTt3fg"
      }
    },
    {
      "cell_type": "code",
      "source": [
        "latlon = ee.Image.pixelLonLat().addBands(dissolvedoxygen)\n",
        "# apply reducer to list\n",
        "latlon = latlon.reduceRegion(\n",
        "  reducer=ee.Reducer.toList(),\n",
        "  geometry=geometry,\n",
        "  scale=100,\n",
        "  tileScale = 16);\n",
        "# get data into three different arrays\n",
        "data_do = np.array((ee.Array(latlon.get(\"dissolvedoxygen\")).getInfo()))"
      ],
      "metadata": {
        "id": "bPjTGx6cRvPb"
      },
      "execution_count": null,
      "outputs": []
    },
    {
      "cell_type": "markdown",
      "source": [
        "## pH"
      ],
      "metadata": {
        "id": "GgeJU1r-uALL"
      }
    },
    {
      "cell_type": "code",
      "source": [
        "latlon = ee.Image.pixelLonLat().addBands(ph)\n",
        "# apply reducer to list\n",
        "latlon = latlon.reduceRegion(\n",
        "  reducer=ee.Reducer.toList(),\n",
        "  geometry=geometry,\n",
        "  scale=100);\n",
        "# get data into three different arrays\n",
        "data_ph = np.array((ee.Array(latlon.get(\"ph\")).getInfo()))"
      ],
      "metadata": {
        "id": "q0iaeUDqRvMl"
      },
      "execution_count": null,
      "outputs": []
    },
    {
      "cell_type": "markdown",
      "source": [
        "## Concating dissolved organic matter and suspended matter values"
      ],
      "metadata": {
        "id": "4-AuNc4p8JQd"
      }
    },
    {
      "cell_type": "code",
      "source": [
        "dm = [pd.DataFrame(data_dom_2021_Jan_June, columns = ['Dissolved Organic Matter']),\\\n",
        "      pd.DataFrame(data_dom_2021_July_Oct, columns = ['Dissolved Organic Matter']),\\\n",
        "      pd.DataFrame(data_dom_2021_Nov_Dec, columns = ['Dissolved Organic Matter'])]\n",
        "\n",
        "sm = [pd.DataFrame(data_sm_2021_Jan_June, columns = ['Suspended Matter']),\\\n",
        "      pd.DataFrame(data_sm_2021_July_Oct, columns = ['Suspended Matter']),\\\n",
        "      pd.DataFrame(data_sm_2021_Nov_Dec, columns = ['Suspended Matter'])]\n",
        "data_dom = pd.concat(dm, sort=False, ignore_index=True)\n",
        "data_sm = pd.concat(sm, sort=False, ignore_index=True)"
      ],
      "metadata": {
        "id": "vYQNqttT7r7Q"
      },
      "execution_count": null,
      "outputs": []
    },
    {
      "cell_type": "code",
      "source": [
        "df = pd.concat([pd.DataFrame(data_do, columns = ['Dissolved Oxygen']),\\\n",
        "           pd.DataFrame(data_ndsi, columns = ['Salinity']),\\\n",
        "           pd.DataFrame(data_lst, columns = ['Temperature']),\\\n",
        "           pd.DataFrame(data_ph, columns = ['pH']),\\\n",
        "           pd.DataFrame(data_ndti, columns = ['Turbidity']),\\\n",
        "           pd.DataFrame(data_dom, columns = ['Dissolved Organic Matter']),\\\n",
        "           pd.DataFrame(data_sm, columns = ['Suspended Matter']),\\\n",
        "           pd.DataFrame(data_ndci, columns = ['Chlorophyll'])], axis=1, sort=False)"
      ],
      "metadata": {
        "id": "7IKrUXIARvJl"
      },
      "execution_count": null,
      "outputs": []
    },
    {
      "cell_type": "code",
      "source": [
        "df"
      ],
      "metadata": {
        "colab": {
          "base_uri": "https://localhost:8080/",
          "height": 424
        },
        "id": "1lY5VzxhRvGv",
        "outputId": "f397a8ba-4ca9-4bd4-dba4-1ca791bd1fa8"
      },
      "execution_count": null,
      "outputs": [
        {
          "output_type": "execute_result",
          "data": {
            "text/html": [
              "\n",
              "  <div id=\"df-50050660-bc71-44da-8d43-a9f103ec5f4b\">\n",
              "    <div class=\"colab-df-container\">\n",
              "      <div>\n",
              "<style scoped>\n",
              "    .dataframe tbody tr th:only-of-type {\n",
              "        vertical-align: middle;\n",
              "    }\n",
              "\n",
              "    .dataframe tbody tr th {\n",
              "        vertical-align: top;\n",
              "    }\n",
              "\n",
              "    .dataframe thead th {\n",
              "        text-align: right;\n",
              "    }\n",
              "</style>\n",
              "<table border=\"1\" class=\"dataframe\">\n",
              "  <thead>\n",
              "    <tr style=\"text-align: right;\">\n",
              "      <th></th>\n",
              "      <th>Dissolved Oxygen</th>\n",
              "      <th>Salinity</th>\n",
              "      <th>Temperature</th>\n",
              "      <th>pH</th>\n",
              "      <th>Turbidity</th>\n",
              "      <th>Dissolved Organic Matter</th>\n",
              "      <th>Suspended Matter</th>\n",
              "      <th>Chlorophyll</th>\n",
              "    </tr>\n",
              "  </thead>\n",
              "  <tbody>\n",
              "    <tr>\n",
              "      <th>0</th>\n",
              "      <td>12.94405</td>\n",
              "      <td>0.107306</td>\n",
              "      <td>30.282980</td>\n",
              "      <td>7.306547</td>\n",
              "      <td>-0.158315</td>\n",
              "      <td>0.433825</td>\n",
              "      <td>0.517197</td>\n",
              "      <td>0.054310</td>\n",
              "    </tr>\n",
              "    <tr>\n",
              "      <th>1</th>\n",
              "      <td>9.70580</td>\n",
              "      <td>0.118609</td>\n",
              "      <td>26.441125</td>\n",
              "      <td>7.357741</td>\n",
              "      <td>-0.208047</td>\n",
              "      <td>0.434623</td>\n",
              "      <td>0.517027</td>\n",
              "      <td>0.020631</td>\n",
              "    </tr>\n",
              "    <tr>\n",
              "      <th>2</th>\n",
              "      <td>9.38480</td>\n",
              "      <td>0.101538</td>\n",
              "      <td>25.979692</td>\n",
              "      <td>7.253265</td>\n",
              "      <td>-0.246391</td>\n",
              "      <td>0.419344</td>\n",
              "      <td>0.492476</td>\n",
              "      <td>0.021250</td>\n",
              "    </tr>\n",
              "    <tr>\n",
              "      <th>3</th>\n",
              "      <td>9.98845</td>\n",
              "      <td>0.144460</td>\n",
              "      <td>26.745329</td>\n",
              "      <td>7.445252</td>\n",
              "      <td>-0.210392</td>\n",
              "      <td>0.437268</td>\n",
              "      <td>0.525843</td>\n",
              "      <td>0.015401</td>\n",
              "    </tr>\n",
              "    <tr>\n",
              "      <th>4</th>\n",
              "      <td>9.21090</td>\n",
              "      <td>0.090749</td>\n",
              "      <td>26.745329</td>\n",
              "      <td>7.351935</td>\n",
              "      <td>-0.183673</td>\n",
              "      <td>0.526715</td>\n",
              "      <td>0.586955</td>\n",
              "      <td>0.028832</td>\n",
              "    </tr>\n",
              "    <tr>\n",
              "      <th>...</th>\n",
              "      <td>...</td>\n",
              "      <td>...</td>\n",
              "      <td>...</td>\n",
              "      <td>...</td>\n",
              "      <td>...</td>\n",
              "      <td>...</td>\n",
              "      <td>...</td>\n",
              "      <td>...</td>\n",
              "    </tr>\n",
              "    <tr>\n",
              "      <th>1057</th>\n",
              "      <td>NaN</td>\n",
              "      <td>NaN</td>\n",
              "      <td>NaN</td>\n",
              "      <td>NaN</td>\n",
              "      <td>NaN</td>\n",
              "      <td>0.526775</td>\n",
              "      <td>0.598666</td>\n",
              "      <td>NaN</td>\n",
              "    </tr>\n",
              "    <tr>\n",
              "      <th>1058</th>\n",
              "      <td>NaN</td>\n",
              "      <td>NaN</td>\n",
              "      <td>NaN</td>\n",
              "      <td>NaN</td>\n",
              "      <td>NaN</td>\n",
              "      <td>0.526775</td>\n",
              "      <td>0.598666</td>\n",
              "      <td>NaN</td>\n",
              "    </tr>\n",
              "    <tr>\n",
              "      <th>1059</th>\n",
              "      <td>NaN</td>\n",
              "      <td>NaN</td>\n",
              "      <td>NaN</td>\n",
              "      <td>NaN</td>\n",
              "      <td>NaN</td>\n",
              "      <td>0.526775</td>\n",
              "      <td>0.598666</td>\n",
              "      <td>NaN</td>\n",
              "    </tr>\n",
              "    <tr>\n",
              "      <th>1060</th>\n",
              "      <td>NaN</td>\n",
              "      <td>NaN</td>\n",
              "      <td>NaN</td>\n",
              "      <td>NaN</td>\n",
              "      <td>NaN</td>\n",
              "      <td>0.526775</td>\n",
              "      <td>0.608168</td>\n",
              "      <td>NaN</td>\n",
              "    </tr>\n",
              "    <tr>\n",
              "      <th>1061</th>\n",
              "      <td>NaN</td>\n",
              "      <td>NaN</td>\n",
              "      <td>NaN</td>\n",
              "      <td>NaN</td>\n",
              "      <td>NaN</td>\n",
              "      <td>0.526775</td>\n",
              "      <td>0.608168</td>\n",
              "      <td>NaN</td>\n",
              "    </tr>\n",
              "  </tbody>\n",
              "</table>\n",
              "<p>1062 rows × 8 columns</p>\n",
              "</div>\n",
              "      <button class=\"colab-df-convert\" onclick=\"convertToInteractive('df-50050660-bc71-44da-8d43-a9f103ec5f4b')\"\n",
              "              title=\"Convert this dataframe to an interactive table.\"\n",
              "              style=\"display:none;\">\n",
              "        \n",
              "  <svg xmlns=\"http://www.w3.org/2000/svg\" height=\"24px\"viewBox=\"0 0 24 24\"\n",
              "       width=\"24px\">\n",
              "    <path d=\"M0 0h24v24H0V0z\" fill=\"none\"/>\n",
              "    <path d=\"M18.56 5.44l.94 2.06.94-2.06 2.06-.94-2.06-.94-.94-2.06-.94 2.06-2.06.94zm-11 1L8.5 8.5l.94-2.06 2.06-.94-2.06-.94L8.5 2.5l-.94 2.06-2.06.94zm10 10l.94 2.06.94-2.06 2.06-.94-2.06-.94-.94-2.06-.94 2.06-2.06.94z\"/><path d=\"M17.41 7.96l-1.37-1.37c-.4-.4-.92-.59-1.43-.59-.52 0-1.04.2-1.43.59L10.3 9.45l-7.72 7.72c-.78.78-.78 2.05 0 2.83L4 21.41c.39.39.9.59 1.41.59.51 0 1.02-.2 1.41-.59l7.78-7.78 2.81-2.81c.8-.78.8-2.07 0-2.86zM5.41 20L4 18.59l7.72-7.72 1.47 1.35L5.41 20z\"/>\n",
              "  </svg>\n",
              "      </button>\n",
              "      \n",
              "  <style>\n",
              "    .colab-df-container {\n",
              "      display:flex;\n",
              "      flex-wrap:wrap;\n",
              "      gap: 12px;\n",
              "    }\n",
              "\n",
              "    .colab-df-convert {\n",
              "      background-color: #E8F0FE;\n",
              "      border: none;\n",
              "      border-radius: 50%;\n",
              "      cursor: pointer;\n",
              "      display: none;\n",
              "      fill: #1967D2;\n",
              "      height: 32px;\n",
              "      padding: 0 0 0 0;\n",
              "      width: 32px;\n",
              "    }\n",
              "\n",
              "    .colab-df-convert:hover {\n",
              "      background-color: #E2EBFA;\n",
              "      box-shadow: 0px 1px 2px rgba(60, 64, 67, 0.3), 0px 1px 3px 1px rgba(60, 64, 67, 0.15);\n",
              "      fill: #174EA6;\n",
              "    }\n",
              "\n",
              "    [theme=dark] .colab-df-convert {\n",
              "      background-color: #3B4455;\n",
              "      fill: #D2E3FC;\n",
              "    }\n",
              "\n",
              "    [theme=dark] .colab-df-convert:hover {\n",
              "      background-color: #434B5C;\n",
              "      box-shadow: 0px 1px 3px 1px rgba(0, 0, 0, 0.15);\n",
              "      filter: drop-shadow(0px 1px 2px rgba(0, 0, 0, 0.3));\n",
              "      fill: #FFFFFF;\n",
              "    }\n",
              "  </style>\n",
              "\n",
              "      <script>\n",
              "        const buttonEl =\n",
              "          document.querySelector('#df-50050660-bc71-44da-8d43-a9f103ec5f4b button.colab-df-convert');\n",
              "        buttonEl.style.display =\n",
              "          google.colab.kernel.accessAllowed ? 'block' : 'none';\n",
              "\n",
              "        async function convertToInteractive(key) {\n",
              "          const element = document.querySelector('#df-50050660-bc71-44da-8d43-a9f103ec5f4b');\n",
              "          const dataTable =\n",
              "            await google.colab.kernel.invokeFunction('convertToInteractive',\n",
              "                                                     [key], {});\n",
              "          if (!dataTable) return;\n",
              "\n",
              "          const docLinkHtml = 'Like what you see? Visit the ' +\n",
              "            '<a target=\"_blank\" href=https://colab.research.google.com/notebooks/data_table.ipynb>data table notebook</a>'\n",
              "            + ' to learn more about interactive tables.';\n",
              "          element.innerHTML = '';\n",
              "          dataTable['output_type'] = 'display_data';\n",
              "          await google.colab.output.renderOutput(dataTable, element);\n",
              "          const docLink = document.createElement('div');\n",
              "          docLink.innerHTML = docLinkHtml;\n",
              "          element.appendChild(docLink);\n",
              "        }\n",
              "      </script>\n",
              "    </div>\n",
              "  </div>\n",
              "  "
            ],
            "text/plain": [
              "      Dissolved Oxygen  Salinity  ...  Suspended Matter  Chlorophyll\n",
              "0             12.94405  0.107306  ...          0.517197     0.054310\n",
              "1              9.70580  0.118609  ...          0.517027     0.020631\n",
              "2              9.38480  0.101538  ...          0.492476     0.021250\n",
              "3              9.98845  0.144460  ...          0.525843     0.015401\n",
              "4              9.21090  0.090749  ...          0.586955     0.028832\n",
              "...                ...       ...  ...               ...          ...\n",
              "1057               NaN       NaN  ...          0.598666          NaN\n",
              "1058               NaN       NaN  ...          0.598666          NaN\n",
              "1059               NaN       NaN  ...          0.598666          NaN\n",
              "1060               NaN       NaN  ...          0.608168          NaN\n",
              "1061               NaN       NaN  ...          0.608168          NaN\n",
              "\n",
              "[1062 rows x 8 columns]"
            ]
          },
          "metadata": {},
          "execution_count": 57
        }
      ]
    },
    {
      "cell_type": "code",
      "source": [
        "df.to_csv('Data_2021_Tappar_Lake',index=False)"
      ],
      "metadata": {
        "id": "TMBCih2k5kj7"
      },
      "execution_count": null,
      "outputs": []
    },
    {
      "cell_type": "code",
      "source": [
        "df2 = pd.concat([pd.DataFrame(data_do, columns = ['Dissolved Oxygen']),\\\n",
        "           pd.DataFrame(data_ndsi, columns = ['Salinity']),\\\n",
        "           pd.DataFrame(data_lst, columns = ['Temperature']),\\\n",
        "           pd.DataFrame(data_ph, columns = ['pH']),\\\n",
        "           pd.DataFrame(data_ndti, columns = ['Turbidity']),\\\n",
        "           pd.DataFrame(data_dom_2021_Dec, columns = ['Dissolved Organic Matter']),\\\n",
        "           pd.DataFrame(data_sm_2021_Dec, columns = ['Suspended Matter']),\\\n",
        "           pd.DataFrame(data_ndci, columns = ['Chlorophyll'])], axis=1, sort=False)\n",
        "df2.head()\n",
        "df2.to_csv('Test_Data_2021_Dec_Narayan_Sarovar',index=False)"
      ],
      "metadata": {
        "id": "aWqHNZV_5rNN"
      },
      "execution_count": null,
      "outputs": []
    },
    {
      "cell_type": "markdown",
      "source": [
        "## Labelling"
      ],
      "metadata": {
        "id": "lkqe1aFmCk09"
      }
    },
    {
      "cell_type": "code",
      "source": [
        "har19 = pd.read_csv('./Data_2019_Harmisar_Lake')\n",
        "har19.drop(['Temperature.1'], axis=1, inplace=True)\n",
        "har20 = pd.read_csv('./Data_2020_Harmisar_Lake')\n",
        "har20.drop(['Temperature.1'], axis=1, inplace=True)\n",
        "har21 = pd.read_csv('./Data_2021_Harmisar_Lake')\n",
        "har21.drop(['Temperature.1'], axis=1, inplace=True)\n",
        "sh19 = pd.read_csv('./Data_Shinai_Lake_2019')\n",
        "sh19.drop(['Temperature.1'], axis=1, inplace=True)\n",
        "sh20 = pd.read_csv('./Data_2020_Shinai_Lake')\n",
        "sh20.drop(['Temperature.1'], axis=1, inplace=True)\n",
        "sh21 = pd.read_csv('./Data_2021_Shinai_Lake')\n",
        "sh21.drop(['Temperature.1'], axis=1, inplace=True)\n",
        "tp19 = pd.read_csv('./Data_2019_Tappar_Lake')\n",
        "tp19.drop(['Temperature.1'], axis=1, inplace=True)\n",
        "tp20 = pd.read_csv('./Data_2020_Tappar_Lake')\n",
        "tp20.drop(['Temperature.1'], axis=1, inplace=True)\n",
        "tp21 = pd.read_csv('./Data_2021_Tappar_Lake')"
      ],
      "metadata": {
        "id": "j8WAJrVSClxM"
      },
      "execution_count": null,
      "outputs": []
    },
    {
      "cell_type": "code",
      "source": [
        "df1 = pd.concat([har19, har20, har21, sh19, sh20, sh21, tp19, tp20, tp21], sort=False, ignore_index=True)"
      ],
      "metadata": {
        "id": "JriLPkGRDQe4"
      },
      "execution_count": null,
      "outputs": []
    },
    {
      "cell_type": "code",
      "source": [
        "df1['class'] = ''"
      ],
      "metadata": {
        "id": "qqjXLLLwDRwX"
      },
      "execution_count": null,
      "outputs": []
    },
    {
      "cell_type": "code",
      "source": [
        "df1.head()"
      ],
      "metadata": {
        "colab": {
          "base_uri": "https://localhost:8080/",
          "height": 206
        },
        "id": "CCTAgfVVDd-M",
        "outputId": "573f0486-e7ad-4bef-a230-566fcc3b012e"
      },
      "execution_count": null,
      "outputs": [
        {
          "output_type": "execute_result",
          "data": {
            "text/html": [
              "\n",
              "  <div id=\"df-11caf315-ad92-4c65-81af-6e5a3f471979\">\n",
              "    <div class=\"colab-df-container\">\n",
              "      <div>\n",
              "<style scoped>\n",
              "    .dataframe tbody tr th:only-of-type {\n",
              "        vertical-align: middle;\n",
              "    }\n",
              "\n",
              "    .dataframe tbody tr th {\n",
              "        vertical-align: top;\n",
              "    }\n",
              "\n",
              "    .dataframe thead th {\n",
              "        text-align: right;\n",
              "    }\n",
              "</style>\n",
              "<table border=\"1\" class=\"dataframe\">\n",
              "  <thead>\n",
              "    <tr style=\"text-align: right;\">\n",
              "      <th></th>\n",
              "      <th>Dissolved Oxygen</th>\n",
              "      <th>Salinity</th>\n",
              "      <th>Temperature</th>\n",
              "      <th>pH</th>\n",
              "      <th>Turbidity</th>\n",
              "      <th>Dissolved Organic Matter</th>\n",
              "      <th>Suspended Matter</th>\n",
              "      <th>Chlorophyll</th>\n",
              "      <th>class</th>\n",
              "    </tr>\n",
              "  </thead>\n",
              "  <tbody>\n",
              "    <tr>\n",
              "      <th>0</th>\n",
              "      <td>12.09465</td>\n",
              "      <td>0.069321</td>\n",
              "      <td>37.161745</td>\n",
              "      <td>8.041302</td>\n",
              "      <td>0.121313</td>\n",
              "      <td>0.725741</td>\n",
              "      <td>0.693219</td>\n",
              "      <td>0.056578</td>\n",
              "      <td></td>\n",
              "    </tr>\n",
              "    <tr>\n",
              "      <th>1</th>\n",
              "      <td>12.11300</td>\n",
              "      <td>0.076764</td>\n",
              "      <td>37.081421</td>\n",
              "      <td>8.048733</td>\n",
              "      <td>0.132800</td>\n",
              "      <td>0.721721</td>\n",
              "      <td>0.688101</td>\n",
              "      <td>0.056296</td>\n",
              "      <td></td>\n",
              "    </tr>\n",
              "    <tr>\n",
              "      <th>2</th>\n",
              "      <td>11.32280</td>\n",
              "      <td>0.078845</td>\n",
              "      <td>34.003494</td>\n",
              "      <td>8.051699</td>\n",
              "      <td>0.124332</td>\n",
              "      <td>0.722972</td>\n",
              "      <td>0.693820</td>\n",
              "      <td>0.052928</td>\n",
              "      <td></td>\n",
              "    </tr>\n",
              "    <tr>\n",
              "      <th>3</th>\n",
              "      <td>11.86615</td>\n",
              "      <td>0.070844</td>\n",
              "      <td>37.091675</td>\n",
              "      <td>8.019703</td>\n",
              "      <td>0.124319</td>\n",
              "      <td>0.715208</td>\n",
              "      <td>0.687501</td>\n",
              "      <td>0.046865</td>\n",
              "      <td></td>\n",
              "    </tr>\n",
              "    <tr>\n",
              "      <th>4</th>\n",
              "      <td>11.60495</td>\n",
              "      <td>0.061277</td>\n",
              "      <td>36.980590</td>\n",
              "      <td>8.017540</td>\n",
              "      <td>0.113232</td>\n",
              "      <td>0.730613</td>\n",
              "      <td>0.696639</td>\n",
              "      <td>0.048846</td>\n",
              "      <td></td>\n",
              "    </tr>\n",
              "  </tbody>\n",
              "</table>\n",
              "</div>\n",
              "      <button class=\"colab-df-convert\" onclick=\"convertToInteractive('df-11caf315-ad92-4c65-81af-6e5a3f471979')\"\n",
              "              title=\"Convert this dataframe to an interactive table.\"\n",
              "              style=\"display:none;\">\n",
              "        \n",
              "  <svg xmlns=\"http://www.w3.org/2000/svg\" height=\"24px\"viewBox=\"0 0 24 24\"\n",
              "       width=\"24px\">\n",
              "    <path d=\"M0 0h24v24H0V0z\" fill=\"none\"/>\n",
              "    <path d=\"M18.56 5.44l.94 2.06.94-2.06 2.06-.94-2.06-.94-.94-2.06-.94 2.06-2.06.94zm-11 1L8.5 8.5l.94-2.06 2.06-.94-2.06-.94L8.5 2.5l-.94 2.06-2.06.94zm10 10l.94 2.06.94-2.06 2.06-.94-2.06-.94-.94-2.06-.94 2.06-2.06.94z\"/><path d=\"M17.41 7.96l-1.37-1.37c-.4-.4-.92-.59-1.43-.59-.52 0-1.04.2-1.43.59L10.3 9.45l-7.72 7.72c-.78.78-.78 2.05 0 2.83L4 21.41c.39.39.9.59 1.41.59.51 0 1.02-.2 1.41-.59l7.78-7.78 2.81-2.81c.8-.78.8-2.07 0-2.86zM5.41 20L4 18.59l7.72-7.72 1.47 1.35L5.41 20z\"/>\n",
              "  </svg>\n",
              "      </button>\n",
              "      \n",
              "  <style>\n",
              "    .colab-df-container {\n",
              "      display:flex;\n",
              "      flex-wrap:wrap;\n",
              "      gap: 12px;\n",
              "    }\n",
              "\n",
              "    .colab-df-convert {\n",
              "      background-color: #E8F0FE;\n",
              "      border: none;\n",
              "      border-radius: 50%;\n",
              "      cursor: pointer;\n",
              "      display: none;\n",
              "      fill: #1967D2;\n",
              "      height: 32px;\n",
              "      padding: 0 0 0 0;\n",
              "      width: 32px;\n",
              "    }\n",
              "\n",
              "    .colab-df-convert:hover {\n",
              "      background-color: #E2EBFA;\n",
              "      box-shadow: 0px 1px 2px rgba(60, 64, 67, 0.3), 0px 1px 3px 1px rgba(60, 64, 67, 0.15);\n",
              "      fill: #174EA6;\n",
              "    }\n",
              "\n",
              "    [theme=dark] .colab-df-convert {\n",
              "      background-color: #3B4455;\n",
              "      fill: #D2E3FC;\n",
              "    }\n",
              "\n",
              "    [theme=dark] .colab-df-convert:hover {\n",
              "      background-color: #434B5C;\n",
              "      box-shadow: 0px 1px 3px 1px rgba(0, 0, 0, 0.15);\n",
              "      filter: drop-shadow(0px 1px 2px rgba(0, 0, 0, 0.3));\n",
              "      fill: #FFFFFF;\n",
              "    }\n",
              "  </style>\n",
              "\n",
              "      <script>\n",
              "        const buttonEl =\n",
              "          document.querySelector('#df-11caf315-ad92-4c65-81af-6e5a3f471979 button.colab-df-convert');\n",
              "        buttonEl.style.display =\n",
              "          google.colab.kernel.accessAllowed ? 'block' : 'none';\n",
              "\n",
              "        async function convertToInteractive(key) {\n",
              "          const element = document.querySelector('#df-11caf315-ad92-4c65-81af-6e5a3f471979');\n",
              "          const dataTable =\n",
              "            await google.colab.kernel.invokeFunction('convertToInteractive',\n",
              "                                                     [key], {});\n",
              "          if (!dataTable) return;\n",
              "\n",
              "          const docLinkHtml = 'Like what you see? Visit the ' +\n",
              "            '<a target=\"_blank\" href=https://colab.research.google.com/notebooks/data_table.ipynb>data table notebook</a>'\n",
              "            + ' to learn more about interactive tables.';\n",
              "          element.innerHTML = '';\n",
              "          dataTable['output_type'] = 'display_data';\n",
              "          await google.colab.output.renderOutput(dataTable, element);\n",
              "          const docLink = document.createElement('div');\n",
              "          docLink.innerHTML = docLinkHtml;\n",
              "          element.appendChild(docLink);\n",
              "        }\n",
              "      </script>\n",
              "    </div>\n",
              "  </div>\n",
              "  "
            ],
            "text/plain": [
              "   Dissolved Oxygen  Salinity  Temperature  ...  Suspended Matter  Chlorophyll  class\n",
              "0          12.09465  0.069321    37.161745  ...          0.693219     0.056578       \n",
              "1          12.11300  0.076764    37.081421  ...          0.688101     0.056296       \n",
              "2          11.32280  0.078845    34.003494  ...          0.693820     0.052928       \n",
              "3          11.86615  0.070844    37.091675  ...          0.687501     0.046865       \n",
              "4          11.60495  0.061277    36.980590  ...          0.696639     0.048846       \n",
              "\n",
              "[5 rows x 9 columns]"
            ]
          },
          "metadata": {},
          "execution_count": 115
        }
      ]
    },
    {
      "cell_type": "code",
      "source": [
        "df1.shape"
      ],
      "metadata": {
        "id": "XOBlV-bALwXs",
        "colab": {
          "base_uri": "https://localhost:8080/"
        },
        "outputId": "ac1ea654-59b7-4903-83b7-5945f395706f"
      },
      "execution_count": null,
      "outputs": [
        {
          "output_type": "execute_result",
          "data": {
            "text/plain": [
              "(4292, 9)"
            ]
          },
          "metadata": {},
          "execution_count": 116
        }
      ]
    },
    {
      "cell_type": "code",
      "source": [
        "df1 = df1.dropna()\n",
        "df1.reset_index(inplace = True)"
      ],
      "metadata": {
        "id": "WGxyNVedPMWV"
      },
      "execution_count": null,
      "outputs": []
    },
    {
      "cell_type": "code",
      "source": [
        "df1.head()"
      ],
      "metadata": {
        "colab": {
          "base_uri": "https://localhost:8080/",
          "height": 206
        },
        "id": "qEPbjgIWPXC7",
        "outputId": "6a56d2e8-4e73-478d-d156-1570d51101f2"
      },
      "execution_count": null,
      "outputs": [
        {
          "output_type": "execute_result",
          "data": {
            "text/html": [
              "\n",
              "  <div id=\"df-77a13682-4da5-4ffd-a46b-01ba589eadc4\">\n",
              "    <div class=\"colab-df-container\">\n",
              "      <div>\n",
              "<style scoped>\n",
              "    .dataframe tbody tr th:only-of-type {\n",
              "        vertical-align: middle;\n",
              "    }\n",
              "\n",
              "    .dataframe tbody tr th {\n",
              "        vertical-align: top;\n",
              "    }\n",
              "\n",
              "    .dataframe thead th {\n",
              "        text-align: right;\n",
              "    }\n",
              "</style>\n",
              "<table border=\"1\" class=\"dataframe\">\n",
              "  <thead>\n",
              "    <tr style=\"text-align: right;\">\n",
              "      <th></th>\n",
              "      <th>index</th>\n",
              "      <th>Dissolved Oxygen</th>\n",
              "      <th>Salinity</th>\n",
              "      <th>Temperature</th>\n",
              "      <th>pH</th>\n",
              "      <th>Turbidity</th>\n",
              "      <th>Dissolved Organic Matter</th>\n",
              "      <th>Suspended Matter</th>\n",
              "      <th>Chlorophyll</th>\n",
              "      <th>class</th>\n",
              "    </tr>\n",
              "  </thead>\n",
              "  <tbody>\n",
              "    <tr>\n",
              "      <th>0</th>\n",
              "      <td>0</td>\n",
              "      <td>12.09465</td>\n",
              "      <td>0.069321</td>\n",
              "      <td>37.161745</td>\n",
              "      <td>8.041302</td>\n",
              "      <td>0.121313</td>\n",
              "      <td>0.725741</td>\n",
              "      <td>0.693219</td>\n",
              "      <td>0.056578</td>\n",
              "      <td></td>\n",
              "    </tr>\n",
              "    <tr>\n",
              "      <th>1</th>\n",
              "      <td>1</td>\n",
              "      <td>12.11300</td>\n",
              "      <td>0.076764</td>\n",
              "      <td>37.081421</td>\n",
              "      <td>8.048733</td>\n",
              "      <td>0.132800</td>\n",
              "      <td>0.721721</td>\n",
              "      <td>0.688101</td>\n",
              "      <td>0.056296</td>\n",
              "      <td></td>\n",
              "    </tr>\n",
              "    <tr>\n",
              "      <th>2</th>\n",
              "      <td>2</td>\n",
              "      <td>11.32280</td>\n",
              "      <td>0.078845</td>\n",
              "      <td>34.003494</td>\n",
              "      <td>8.051699</td>\n",
              "      <td>0.124332</td>\n",
              "      <td>0.722972</td>\n",
              "      <td>0.693820</td>\n",
              "      <td>0.052928</td>\n",
              "      <td></td>\n",
              "    </tr>\n",
              "    <tr>\n",
              "      <th>3</th>\n",
              "      <td>3</td>\n",
              "      <td>11.86615</td>\n",
              "      <td>0.070844</td>\n",
              "      <td>37.091675</td>\n",
              "      <td>8.019703</td>\n",
              "      <td>0.124319</td>\n",
              "      <td>0.715208</td>\n",
              "      <td>0.687501</td>\n",
              "      <td>0.046865</td>\n",
              "      <td></td>\n",
              "    </tr>\n",
              "    <tr>\n",
              "      <th>4</th>\n",
              "      <td>4</td>\n",
              "      <td>11.60495</td>\n",
              "      <td>0.061277</td>\n",
              "      <td>36.980590</td>\n",
              "      <td>8.017540</td>\n",
              "      <td>0.113232</td>\n",
              "      <td>0.730613</td>\n",
              "      <td>0.696639</td>\n",
              "      <td>0.048846</td>\n",
              "      <td></td>\n",
              "    </tr>\n",
              "  </tbody>\n",
              "</table>\n",
              "</div>\n",
              "      <button class=\"colab-df-convert\" onclick=\"convertToInteractive('df-77a13682-4da5-4ffd-a46b-01ba589eadc4')\"\n",
              "              title=\"Convert this dataframe to an interactive table.\"\n",
              "              style=\"display:none;\">\n",
              "        \n",
              "  <svg xmlns=\"http://www.w3.org/2000/svg\" height=\"24px\"viewBox=\"0 0 24 24\"\n",
              "       width=\"24px\">\n",
              "    <path d=\"M0 0h24v24H0V0z\" fill=\"none\"/>\n",
              "    <path d=\"M18.56 5.44l.94 2.06.94-2.06 2.06-.94-2.06-.94-.94-2.06-.94 2.06-2.06.94zm-11 1L8.5 8.5l.94-2.06 2.06-.94-2.06-.94L8.5 2.5l-.94 2.06-2.06.94zm10 10l.94 2.06.94-2.06 2.06-.94-2.06-.94-.94-2.06-.94 2.06-2.06.94z\"/><path d=\"M17.41 7.96l-1.37-1.37c-.4-.4-.92-.59-1.43-.59-.52 0-1.04.2-1.43.59L10.3 9.45l-7.72 7.72c-.78.78-.78 2.05 0 2.83L4 21.41c.39.39.9.59 1.41.59.51 0 1.02-.2 1.41-.59l7.78-7.78 2.81-2.81c.8-.78.8-2.07 0-2.86zM5.41 20L4 18.59l7.72-7.72 1.47 1.35L5.41 20z\"/>\n",
              "  </svg>\n",
              "      </button>\n",
              "      \n",
              "  <style>\n",
              "    .colab-df-container {\n",
              "      display:flex;\n",
              "      flex-wrap:wrap;\n",
              "      gap: 12px;\n",
              "    }\n",
              "\n",
              "    .colab-df-convert {\n",
              "      background-color: #E8F0FE;\n",
              "      border: none;\n",
              "      border-radius: 50%;\n",
              "      cursor: pointer;\n",
              "      display: none;\n",
              "      fill: #1967D2;\n",
              "      height: 32px;\n",
              "      padding: 0 0 0 0;\n",
              "      width: 32px;\n",
              "    }\n",
              "\n",
              "    .colab-df-convert:hover {\n",
              "      background-color: #E2EBFA;\n",
              "      box-shadow: 0px 1px 2px rgba(60, 64, 67, 0.3), 0px 1px 3px 1px rgba(60, 64, 67, 0.15);\n",
              "      fill: #174EA6;\n",
              "    }\n",
              "\n",
              "    [theme=dark] .colab-df-convert {\n",
              "      background-color: #3B4455;\n",
              "      fill: #D2E3FC;\n",
              "    }\n",
              "\n",
              "    [theme=dark] .colab-df-convert:hover {\n",
              "      background-color: #434B5C;\n",
              "      box-shadow: 0px 1px 3px 1px rgba(0, 0, 0, 0.15);\n",
              "      filter: drop-shadow(0px 1px 2px rgba(0, 0, 0, 0.3));\n",
              "      fill: #FFFFFF;\n",
              "    }\n",
              "  </style>\n",
              "\n",
              "      <script>\n",
              "        const buttonEl =\n",
              "          document.querySelector('#df-77a13682-4da5-4ffd-a46b-01ba589eadc4 button.colab-df-convert');\n",
              "        buttonEl.style.display =\n",
              "          google.colab.kernel.accessAllowed ? 'block' : 'none';\n",
              "\n",
              "        async function convertToInteractive(key) {\n",
              "          const element = document.querySelector('#df-77a13682-4da5-4ffd-a46b-01ba589eadc4');\n",
              "          const dataTable =\n",
              "            await google.colab.kernel.invokeFunction('convertToInteractive',\n",
              "                                                     [key], {});\n",
              "          if (!dataTable) return;\n",
              "\n",
              "          const docLinkHtml = 'Like what you see? Visit the ' +\n",
              "            '<a target=\"_blank\" href=https://colab.research.google.com/notebooks/data_table.ipynb>data table notebook</a>'\n",
              "            + ' to learn more about interactive tables.';\n",
              "          element.innerHTML = '';\n",
              "          dataTable['output_type'] = 'display_data';\n",
              "          await google.colab.output.renderOutput(dataTable, element);\n",
              "          const docLink = document.createElement('div');\n",
              "          docLink.innerHTML = docLinkHtml;\n",
              "          element.appendChild(docLink);\n",
              "        }\n",
              "      </script>\n",
              "    </div>\n",
              "  </div>\n",
              "  "
            ],
            "text/plain": [
              "   index  Dissolved Oxygen  Salinity  ...  Suspended Matter  Chlorophyll  class\n",
              "0      0          12.09465  0.069321  ...          0.693219     0.056578       \n",
              "1      1          12.11300  0.076764  ...          0.688101     0.056296       \n",
              "2      2          11.32280  0.078845  ...          0.693820     0.052928       \n",
              "3      3          11.86615  0.070844  ...          0.687501     0.046865       \n",
              "4      4          11.60495  0.061277  ...          0.696639     0.048846       \n",
              "\n",
              "[5 rows x 10 columns]"
            ]
          },
          "metadata": {},
          "execution_count": 118
        }
      ]
    },
    {
      "cell_type": "code",
      "source": [
        "df1.shape"
      ],
      "metadata": {
        "colab": {
          "base_uri": "https://localhost:8080/"
        },
        "id": "_pQkHWDKPZZm",
        "outputId": "5593944d-e935-4060-e7e7-abf088a05e38"
      },
      "execution_count": null,
      "outputs": [
        {
          "output_type": "execute_result",
          "data": {
            "text/plain": [
              "(1500, 10)"
            ]
          },
          "metadata": {},
          "execution_count": 119
        }
      ]
    },
    {
      "cell_type": "code",
      "source": [
        "df1['Dissolved Organic Matter'] = df1['Dissolved Organic Matter']*1000\n",
        "df1['Suspended Matter'] = df1['Suspended Matter']*1000"
      ],
      "metadata": {
        "id": "L9BXhVxnKyJq"
      },
      "execution_count": null,
      "outputs": []
    },
    {
      "cell_type": "code",
      "source": [
        "g = 0\n",
        "p = 0\n",
        "n = 0\n",
        "poor = 0\n",
        "for row in range(df1.shape[0]):\n",
        "  if df1.loc[row,'Dissolved Oxygen'] > 6.5:\n",
        "    g+=1\n",
        "  elif df1.loc[row,'Dissolved Oxygen'] < 4:\n",
        "    p+=1\n",
        "  elif (df1.loc[row,'Dissolved Oxygen'] >= 4 and df1.loc[row,'Dissolved Oxygen'] <=6.5):\n",
        "    n += 1\n",
        "  if df1.loc[row,'Salinity'] > 1:\n",
        "    # print(g)\n",
        "    g+=1\n",
        "  elif df1.loc[row,'Salinity'] < 0:\n",
        "    # print(p)\n",
        "    p+=1\n",
        "  elif (df1.loc[row,'Salinity'] >= 0 or df1.loc[row,'Salinity'] <= 1):\n",
        "    # print(n)\n",
        "    n+=1\n",
        "  if (df1.loc[row,'pH'] >= 6.5 and df1.loc[row,'pH'] <= 8.5):\n",
        "    g+=1\n",
        "  elif ((df1.loc[row,'pH'] >= 11 and df1.loc[row,'pH'] <= 14) or (df1.loc[row,'pH'] >= 1 and df1.loc[row,'pH'] <= 4)):\n",
        "    p+=1\n",
        "  elif ((df1.loc[row,'pH'] >= 4 and df1.loc[row,'pH'] <= 6.5) or (df1.loc[row,'pH'] >= 8.5 and df1.loc[row,'pH'] <=11)):\n",
        "    n+=1\n",
        "  if (df1.loc[row,'Temperature'] >=15 and df1.loc[row,'Temperature'] <=35):\n",
        "    g+=1\n",
        "  elif (df1.loc[row,'Temperature'] >=40 or df1.loc[row,'Temperature'] <=5):\n",
        "    p+=1\n",
        "  elif (df1.loc[row,'Temperature'] >=35 or df1.loc[row,'Temperature'] <=15):\n",
        "    n+=1\n",
        "  if (df1.loc[row,'Turbidity'] >= -0.2 and df1.loc[row,'Turbidity'] <=0):\n",
        "    g+=1\n",
        "  elif df1.loc[row,'Turbidity'] > 0.2:\n",
        "    p+=1\n",
        "  elif (df1.loc[row,'Turbidity'] >= 0 and df1.loc[row,'Turbidity'] <=0.2):\n",
        "    n+=1\n",
        "  if df1.loc[row,'Dissolved Organic Matter'] < 500:\n",
        "    g+=1\n",
        "  elif df1.loc[row,'Dissolved Organic Matter'] > 2000:\n",
        "    p+=1\n",
        "  elif (df1.loc[row,'Dissolved Organic Matter'] >= 500 and df1.loc[row,'Dissolved Organic Matter'] <= 2000):\n",
        "    n+=1\n",
        "  if (df1.loc[row,'Suspended Matter'] >=300 and df1.loc[row,'Suspended Matter'] <=700):\n",
        "    g+=1\n",
        "  elif (df1.loc[row,'Suspended Matter'] >=900 and df1.loc[row,'Suspended Matter'] <=1200):\n",
        "    p+=1\n",
        "  elif (df1.loc[row,'Suspended Matter'] >=700 and df1.loc[row,'Suspended Matter'] <=900):\n",
        "    n+=1\n",
        "  if (df1.loc[row,'Chlorophyll'] >= -0.1 and df1.loc[row,'Chlorophyll'] <= 0.1):\n",
        "    g+=1\n",
        "  elif (df1.loc[row,'Chlorophyll'] >= 0.5):\n",
        "    print(p)\n",
        "    p+=1\n",
        "  elif (df1.loc[row,'Chlorophyll'] >= 0.1 and df1.loc[row,'Chlorophyll'] <= 0.5):\n",
        "    n+=1\n",
        "  \n",
        "  # print(\"Good: \", g, \"Poor: \", p, \"Needs treatment: \", n)\n",
        "  if (g > p and g > n):\n",
        "    df1.loc[row, 'class'] = 'Good'\n",
        "  elif (p > g and p > n):\n",
        "    df1.loc[row, 'class'] = 'Poor'\n",
        "  else:\n",
        "    df1.loc[row, 'class'] = 'Needs Treatment'\n",
        "  poor += p\n",
        "  \n",
        "  g = p = n = 0"
      ],
      "metadata": {
        "id": "ez4ELJfjDgMf"
      },
      "execution_count": null,
      "outputs": []
    },
    {
      "cell_type": "code",
      "source": [
        "print(poor)"
      ],
      "metadata": {
        "colab": {
          "base_uri": "https://localhost:8080/"
        },
        "id": "CjzU8_ZLljd4",
        "outputId": "de1b58bd-ecac-49cb-a960-37c373dcfe67"
      },
      "execution_count": null,
      "outputs": [
        {
          "output_type": "stream",
          "name": "stdout",
          "text": [
            "50\n"
          ]
        }
      ]
    },
    {
      "cell_type": "code",
      "source": [
        "df1['class'].value_counts()"
      ],
      "metadata": {
        "colab": {
          "base_uri": "https://localhost:8080/"
        },
        "id": "aYgF1-FhFv75",
        "outputId": "55a0c4c7-d74b-448c-f783-113327f5ba30"
      },
      "execution_count": null,
      "outputs": [
        {
          "output_type": "execute_result",
          "data": {
            "text/plain": [
              "Good               1338\n",
              "Needs Treatment     162\n",
              "Name: class, dtype: int64"
            ]
          },
          "metadata": {},
          "execution_count": 134
        }
      ]
    },
    {
      "cell_type": "code",
      "source": [
        "df1.to_csv('Labelled_Data_Without_Missing_Values',index=False)"
      ],
      "metadata": {
        "id": "FnV51GA9PjSo"
      },
      "execution_count": null,
      "outputs": []
    },
    {
      "cell_type": "code",
      "source": [
        ""
      ],
      "metadata": {
        "id": "NOQvlqs3FyA_"
      },
      "execution_count": null,
      "outputs": []
    }
  ]
}