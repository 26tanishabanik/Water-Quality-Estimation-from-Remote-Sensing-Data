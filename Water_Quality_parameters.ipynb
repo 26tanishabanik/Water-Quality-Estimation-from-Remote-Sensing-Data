{
  "nbformat": 4,
  "nbformat_minor": 0,
  "metadata": {
    "colab": {
      "name": "Water_Quality_parameters_Shinai_Lake.ipynb",
      "provenance": []
    },
    "kernelspec": {
      "name": "python3",
      "display_name": "Python 3"
    },
    "language_info": {
      "name": "python"
    }
  },
  "cells": [
    {
      "cell_type": "markdown",
      "source": [
        "## Install the library"
      ],
      "metadata": {
        "id": "nXigFJJmFT6H"
      }
    },
    {
      "cell_type": "code",
      "execution_count": null,
      "metadata": {
        "id": "cHg2x69pRTUI",
        "colab": {
          "base_uri": "https://localhost:8080/"
        },
        "outputId": "66ece1a6-ab57-4b99-d183-9a8ce553b737"
      },
      "outputs": [
        {
          "output_type": "stream",
          "name": "stdout",
          "text": [
            "Requirement already satisfied: geemap in /usr/local/lib/python3.7/dist-packages (0.11.0)\n",
            "Requirement already satisfied: ipynb-py-convert in /usr/local/lib/python3.7/dist-packages (from geemap) (0.4.6)\n",
            "Requirement already satisfied: click in /usr/local/lib/python3.7/dist-packages (from geemap) (7.1.2)\n",
            "Requirement already satisfied: whiteboxgui>=0.6.0 in /usr/local/lib/python3.7/dist-packages (from geemap) (0.6.0)\n",
            "Requirement already satisfied: sankee in /usr/local/lib/python3.7/dist-packages (from geemap) (0.0.7)\n",
            "Requirement already satisfied: bqplot in /usr/local/lib/python3.7/dist-packages (from geemap) (0.12.32)\n",
            "Requirement already satisfied: pillow in /usr/local/lib/python3.7/dist-packages (from geemap) (7.1.2)\n",
            "Requirement already satisfied: jupyterlab>=3 in /usr/local/lib/python3.7/dist-packages (from geemap) (3.2.8)\n",
            "Requirement already satisfied: earthengine-api>=0.1.230 in /usr/local/lib/python3.7/dist-packages (from geemap) (0.1.293)\n",
            "Requirement already satisfied: matplotlib in /usr/local/lib/python3.7/dist-packages (from geemap) (3.2.2)\n",
            "Requirement already satisfied: palettable in /usr/local/lib/python3.7/dist-packages (from geemap) (3.3.0)\n",
            "Requirement already satisfied: pyshp>=2.1.3 in /usr/local/lib/python3.7/dist-packages (from geemap) (2.1.3)\n",
            "Requirement already satisfied: googledrivedownloader in /usr/local/lib/python3.7/dist-packages (from geemap) (0.4)\n",
            "Requirement already satisfied: geojson in /usr/local/lib/python3.7/dist-packages (from geemap) (2.5.0)\n",
            "Requirement already satisfied: geeadd>=0.5.1 in /usr/local/lib/python3.7/dist-packages (from geemap) (0.5.5)\n",
            "Requirement already satisfied: pycrs in /usr/local/lib/python3.7/dist-packages (from geemap) (1.0.2)\n",
            "Requirement already satisfied: xyzservices in /usr/local/lib/python3.7/dist-packages (from geemap) (2021.11.0)\n",
            "Requirement already satisfied: ffmpeg-python in /usr/local/lib/python3.7/dist-packages (from geemap) (0.2.0)\n",
            "Requirement already satisfied: numpy in /usr/local/lib/python3.7/dist-packages (from geemap) (1.19.5)\n",
            "Requirement already satisfied: owslib in /usr/local/lib/python3.7/dist-packages (from geemap) (0.25.0)\n",
            "Requirement already satisfied: ipyleaflet>=0.14.0 in /usr/local/lib/python3.7/dist-packages (from geemap) (0.15.0)\n",
            "Requirement already satisfied: plotly in /usr/local/lib/python3.7/dist-packages (from geemap) (5.5.0)\n",
            "Requirement already satisfied: mss in /usr/local/lib/python3.7/dist-packages (from geemap) (6.1.0)\n",
            "Requirement already satisfied: ipytree in /usr/local/lib/python3.7/dist-packages (from geemap) (0.2.1)\n",
            "Requirement already satisfied: colour in /usr/local/lib/python3.7/dist-packages (from geemap) (0.1.5)\n",
            "Requirement already satisfied: geocoder in /usr/local/lib/python3.7/dist-packages (from geemap) (1.38.1)\n",
            "Requirement already satisfied: voila in /usr/local/lib/python3.7/dist-packages (from geemap) (0.3.0)\n",
            "Requirement already satisfied: python-box in /usr/local/lib/python3.7/dist-packages (from geemap) (5.4.1)\n",
            "Requirement already satisfied: pandas in /usr/local/lib/python3.7/dist-packages (from geemap) (1.1.5)\n",
            "Requirement already satisfied: folium>=0.11.0 in /usr/local/lib/python3.7/dist-packages (from geemap) (0.12.1.post1)\n",
            "Requirement already satisfied: ipyfilechooser>=0.6.0 in /usr/local/lib/python3.7/dist-packages (from geemap) (0.6.0)\n",
            "Requirement already satisfied: ipyevents in /usr/local/lib/python3.7/dist-packages (from geemap) (2.0.1)\n",
            "Requirement already satisfied: google-auth>=1.4.1 in /usr/local/lib/python3.7/dist-packages (from earthengine-api>=0.1.230->geemap) (1.35.0)\n",
            "Requirement already satisfied: google-cloud-storage in /usr/local/lib/python3.7/dist-packages (from earthengine-api>=0.1.230->geemap) (1.18.1)\n",
            "Requirement already satisfied: google-api-python-client<2,>=1.12.1 in /usr/local/lib/python3.7/dist-packages (from earthengine-api>=0.1.230->geemap) (1.12.8)\n",
            "Requirement already satisfied: httplib2<1dev,>=0.9.2 in /usr/local/lib/python3.7/dist-packages (from earthengine-api>=0.1.230->geemap) (0.17.4)\n",
            "Requirement already satisfied: httplib2shim in /usr/local/lib/python3.7/dist-packages (from earthengine-api>=0.1.230->geemap) (0.0.3)\n",
            "Requirement already satisfied: future in /usr/local/lib/python3.7/dist-packages (from earthengine-api>=0.1.230->geemap) (0.16.0)\n",
            "Requirement already satisfied: google-auth-httplib2>=0.0.3 in /usr/local/lib/python3.7/dist-packages (from earthengine-api>=0.1.230->geemap) (0.0.4)\n",
            "Requirement already satisfied: six in /usr/local/lib/python3.7/dist-packages (from earthengine-api>=0.1.230->geemap) (1.15.0)\n",
            "Requirement already satisfied: branca>=0.3.0 in /usr/local/lib/python3.7/dist-packages (from folium>=0.11.0->geemap) (0.4.2)\n",
            "Requirement already satisfied: jinja2>=2.9 in /usr/local/lib/python3.7/dist-packages (from folium>=0.11.0->geemap) (2.11.3)\n",
            "Requirement already satisfied: requests in /usr/local/lib/python3.7/dist-packages (from folium>=0.11.0->geemap) (2.23.0)\n",
            "Requirement already satisfied: beautifulsoup4>=4.9.0 in /usr/local/lib/python3.7/dist-packages (from geeadd>=0.5.1->geemap) (4.10.0)\n",
            "Requirement already satisfied: logzero>=1.5.0 in /usr/local/lib/python3.7/dist-packages (from geeadd>=0.5.1->geemap) (1.7.0)\n",
            "Requirement already satisfied: soupsieve>1.2 in /usr/local/lib/python3.7/dist-packages (from beautifulsoup4>=4.9.0->geeadd>=0.5.1->geemap) (2.3.1)\n",
            "Requirement already satisfied: uritemplate<4dev,>=3.0.0 in /usr/local/lib/python3.7/dist-packages (from google-api-python-client<2,>=1.12.1->earthengine-api>=0.1.230->geemap) (3.0.1)\n",
            "Requirement already satisfied: google-api-core<2dev,>=1.21.0 in /usr/local/lib/python3.7/dist-packages (from google-api-python-client<2,>=1.12.1->earthengine-api>=0.1.230->geemap) (1.26.3)\n",
            "Requirement already satisfied: googleapis-common-protos<2.0dev,>=1.6.0 in /usr/local/lib/python3.7/dist-packages (from google-api-core<2dev,>=1.21.0->google-api-python-client<2,>=1.12.1->earthengine-api>=0.1.230->geemap) (1.54.0)\n",
            "Requirement already satisfied: protobuf>=3.12.0 in /usr/local/lib/python3.7/dist-packages (from google-api-core<2dev,>=1.21.0->google-api-python-client<2,>=1.12.1->earthengine-api>=0.1.230->geemap) (3.17.3)\n",
            "Requirement already satisfied: pytz in /usr/local/lib/python3.7/dist-packages (from google-api-core<2dev,>=1.21.0->google-api-python-client<2,>=1.12.1->earthengine-api>=0.1.230->geemap) (2018.9)\n",
            "Requirement already satisfied: setuptools>=40.3.0 in /usr/local/lib/python3.7/dist-packages (from google-api-core<2dev,>=1.21.0->google-api-python-client<2,>=1.12.1->earthengine-api>=0.1.230->geemap) (57.4.0)\n",
            "Requirement already satisfied: packaging>=14.3 in /usr/local/lib/python3.7/dist-packages (from google-api-core<2dev,>=1.21.0->google-api-python-client<2,>=1.12.1->earthengine-api>=0.1.230->geemap) (21.3)\n",
            "Requirement already satisfied: pyasn1-modules>=0.2.1 in /usr/local/lib/python3.7/dist-packages (from google-auth>=1.4.1->earthengine-api>=0.1.230->geemap) (0.2.8)\n",
            "Requirement already satisfied: rsa<5,>=3.1.4 in /usr/local/lib/python3.7/dist-packages (from google-auth>=1.4.1->earthengine-api>=0.1.230->geemap) (4.8)\n",
            "Requirement already satisfied: cachetools<5.0,>=2.0.0 in /usr/local/lib/python3.7/dist-packages (from google-auth>=1.4.1->earthengine-api>=0.1.230->geemap) (4.2.4)\n",
            "Requirement already satisfied: ipywidgets in /usr/local/lib/python3.7/dist-packages (from ipyfilechooser>=0.6.0->geemap) (7.6.5)\n",
            "Requirement already satisfied: traittypes<3,>=0.2.1 in /usr/local/lib/python3.7/dist-packages (from ipyleaflet>=0.14.0->geemap) (0.2.1)\n",
            "Requirement already satisfied: nbformat>=4.2.0 in /usr/local/lib/python3.7/dist-packages (from ipywidgets->ipyfilechooser>=0.6.0->geemap) (5.1.3)\n",
            "Requirement already satisfied: jupyterlab-widgets>=1.0.0 in /usr/local/lib/python3.7/dist-packages (from ipywidgets->ipyfilechooser>=0.6.0->geemap) (1.0.2)\n",
            "Requirement already satisfied: ipython>=4.0.0 in /usr/local/lib/python3.7/dist-packages (from ipywidgets->ipyfilechooser>=0.6.0->geemap) (5.5.0)\n",
            "Requirement already satisfied: ipykernel>=4.5.1 in /usr/local/lib/python3.7/dist-packages (from ipywidgets->ipyfilechooser>=0.6.0->geemap) (4.10.1)\n",
            "Requirement already satisfied: traitlets>=4.3.1 in /usr/local/lib/python3.7/dist-packages (from ipywidgets->ipyfilechooser>=0.6.0->geemap) (5.1.1)\n",
            "Requirement already satisfied: widgetsnbextension~=3.5.0 in /usr/local/lib/python3.7/dist-packages (from ipywidgets->ipyfilechooser>=0.6.0->geemap) (3.5.2)\n",
            "Requirement already satisfied: ipython-genutils~=0.2.0 in /usr/local/lib/python3.7/dist-packages (from ipywidgets->ipyfilechooser>=0.6.0->geemap) (0.2.0)\n",
            "Requirement already satisfied: jupyter-client in /usr/local/lib/python3.7/dist-packages (from ipykernel>=4.5.1->ipywidgets->ipyfilechooser>=0.6.0->geemap) (7.1.1)\n",
            "Requirement already satisfied: tornado>=4.0 in /usr/local/lib/python3.7/dist-packages (from ipykernel>=4.5.1->ipywidgets->ipyfilechooser>=0.6.0->geemap) (6.1)\n",
            "Requirement already satisfied: pygments in /usr/local/lib/python3.7/dist-packages (from ipython>=4.0.0->ipywidgets->ipyfilechooser>=0.6.0->geemap) (2.6.1)\n",
            "Requirement already satisfied: pexpect in /usr/local/lib/python3.7/dist-packages (from ipython>=4.0.0->ipywidgets->ipyfilechooser>=0.6.0->geemap) (4.8.0)\n",
            "Requirement already satisfied: prompt-toolkit<2.0.0,>=1.0.4 in /usr/local/lib/python3.7/dist-packages (from ipython>=4.0.0->ipywidgets->ipyfilechooser>=0.6.0->geemap) (1.0.18)\n",
            "Requirement already satisfied: pickleshare in /usr/local/lib/python3.7/dist-packages (from ipython>=4.0.0->ipywidgets->ipyfilechooser>=0.6.0->geemap) (0.7.5)\n",
            "Requirement already satisfied: decorator in /usr/local/lib/python3.7/dist-packages (from ipython>=4.0.0->ipywidgets->ipyfilechooser>=0.6.0->geemap) (4.4.2)\n",
            "Requirement already satisfied: simplegeneric>0.8 in /usr/local/lib/python3.7/dist-packages (from ipython>=4.0.0->ipywidgets->ipyfilechooser>=0.6.0->geemap) (0.8.1)\n",
            "Requirement already satisfied: MarkupSafe>=0.23 in /usr/local/lib/python3.7/dist-packages (from jinja2>=2.9->folium>=0.11.0->geemap) (2.0.1)\n",
            "Requirement already satisfied: jupyter-core in /usr/local/lib/python3.7/dist-packages (from jupyterlab>=3->geemap) (4.9.1)\n",
            "Requirement already satisfied: jupyter-server~=1.4 in /usr/local/lib/python3.7/dist-packages (from jupyterlab>=3->geemap) (1.13.3)\n",
            "Requirement already satisfied: nbclassic~=0.2 in /usr/local/lib/python3.7/dist-packages (from jupyterlab>=3->geemap) (0.3.5)\n",
            "Requirement already satisfied: jupyterlab-server~=2.3 in /usr/local/lib/python3.7/dist-packages (from jupyterlab>=3->geemap) (2.10.3)\n",
            "Requirement already satisfied: prometheus-client in /usr/local/lib/python3.7/dist-packages (from jupyter-server~=1.4->jupyterlab>=3->geemap) (0.12.0)\n",
            "Requirement already satisfied: anyio<4,>=3.1.0 in /usr/local/lib/python3.7/dist-packages (from jupyter-server~=1.4->jupyterlab>=3->geemap) (3.5.0)\n",
            "Requirement already satisfied: websocket-client in /usr/local/lib/python3.7/dist-packages (from jupyter-server~=1.4->jupyterlab>=3->geemap) (1.2.3)\n",
            "Requirement already satisfied: terminado>=0.8.3 in /usr/local/lib/python3.7/dist-packages (from jupyter-server~=1.4->jupyterlab>=3->geemap) (0.12.1)\n",
            "Requirement already satisfied: nbconvert in /usr/local/lib/python3.7/dist-packages (from jupyter-server~=1.4->jupyterlab>=3->geemap) (6.4.0)\n",
            "Requirement already satisfied: argon2-cffi in /usr/local/lib/python3.7/dist-packages (from jupyter-server~=1.4->jupyterlab>=3->geemap) (21.3.0)\n",
            "Requirement already satisfied: Send2Trash in /usr/local/lib/python3.7/dist-packages (from jupyter-server~=1.4->jupyterlab>=3->geemap) (1.8.0)\n",
            "Requirement already satisfied: pyzmq>=17 in /usr/local/lib/python3.7/dist-packages (from jupyter-server~=1.4->jupyterlab>=3->geemap) (22.3.0)\n",
            "Requirement already satisfied: sniffio>=1.1 in /usr/local/lib/python3.7/dist-packages (from anyio<4,>=3.1.0->jupyter-server~=1.4->jupyterlab>=3->geemap) (1.2.0)\n",
            "Requirement already satisfied: idna>=2.8 in /usr/local/lib/python3.7/dist-packages (from anyio<4,>=3.1.0->jupyter-server~=1.4->jupyterlab>=3->geemap) (2.10)\n",
            "Requirement already satisfied: typing-extensions in /usr/local/lib/python3.7/dist-packages (from anyio<4,>=3.1.0->jupyter-server~=1.4->jupyterlab>=3->geemap) (3.10.0.2)\n",
            "Requirement already satisfied: entrypoints in /usr/local/lib/python3.7/dist-packages (from jupyter-client->ipykernel>=4.5.1->ipywidgets->ipyfilechooser>=0.6.0->geemap) (0.3)\n",
            "Requirement already satisfied: nest-asyncio>=1.5 in /usr/local/lib/python3.7/dist-packages (from jupyter-client->ipykernel>=4.5.1->ipywidgets->ipyfilechooser>=0.6.0->geemap) (1.5.4)\n",
            "Requirement already satisfied: python-dateutil>=2.1 in /usr/local/lib/python3.7/dist-packages (from jupyter-client->ipykernel>=4.5.1->ipywidgets->ipyfilechooser>=0.6.0->geemap) (2.8.2)\n",
            "Requirement already satisfied: babel in /usr/local/lib/python3.7/dist-packages (from jupyterlab-server~=2.3->jupyterlab>=3->geemap) (2.9.1)\n",
            "Requirement already satisfied: json5 in /usr/local/lib/python3.7/dist-packages (from jupyterlab-server~=2.3->jupyterlab>=3->geemap) (0.9.6)\n",
            "Requirement already satisfied: jsonschema>=3.0.1 in /usr/local/lib/python3.7/dist-packages (from jupyterlab-server~=2.3->jupyterlab>=3->geemap) (4.3.3)\n",
            "Requirement already satisfied: pyrsistent!=0.17.0,!=0.17.1,!=0.17.2,>=0.14.0 in /usr/local/lib/python3.7/dist-packages (from jsonschema>=3.0.1->jupyterlab-server~=2.3->jupyterlab>=3->geemap) (0.18.0)\n",
            "Requirement already satisfied: importlib-metadata in /usr/local/lib/python3.7/dist-packages (from jsonschema>=3.0.1->jupyterlab-server~=2.3->jupyterlab>=3->geemap) (4.10.0)\n",
            "Requirement already satisfied: importlib-resources>=1.4.0 in /usr/local/lib/python3.7/dist-packages (from jsonschema>=3.0.1->jupyterlab-server~=2.3->jupyterlab>=3->geemap) (5.4.0)\n",
            "Requirement already satisfied: attrs>=17.4.0 in /usr/local/lib/python3.7/dist-packages (from jsonschema>=3.0.1->jupyterlab-server~=2.3->jupyterlab>=3->geemap) (21.4.0)\n",
            "Requirement already satisfied: zipp>=3.1.0 in /usr/local/lib/python3.7/dist-packages (from importlib-resources>=1.4.0->jsonschema>=3.0.1->jupyterlab-server~=2.3->jupyterlab>=3->geemap) (3.7.0)\n",
            "Requirement already satisfied: notebook<7 in /usr/local/lib/python3.7/dist-packages (from nbclassic~=0.2->jupyterlab>=3->geemap) (5.3.1)\n",
            "Requirement already satisfied: pyparsing!=3.0.5,>=2.0.2 in /usr/local/lib/python3.7/dist-packages (from packaging>=14.3->google-api-core<2dev,>=1.21.0->google-api-python-client<2,>=1.12.1->earthengine-api>=0.1.230->geemap) (3.0.6)\n",
            "Requirement already satisfied: wcwidth in /usr/local/lib/python3.7/dist-packages (from prompt-toolkit<2.0.0,>=1.0.4->ipython>=4.0.0->ipywidgets->ipyfilechooser>=0.6.0->geemap) (0.2.5)\n",
            "Requirement already satisfied: pyasn1<0.5.0,>=0.4.6 in /usr/local/lib/python3.7/dist-packages (from pyasn1-modules>=0.2.1->google-auth>=1.4.1->earthengine-api>=0.1.230->geemap) (0.4.8)\n",
            "Requirement already satisfied: certifi>=2017.4.17 in /usr/local/lib/python3.7/dist-packages (from requests->folium>=0.11.0->geemap) (2021.10.8)\n",
            "Requirement already satisfied: chardet<4,>=3.0.2 in /usr/local/lib/python3.7/dist-packages (from requests->folium>=0.11.0->geemap) (3.0.4)\n",
            "Requirement already satisfied: urllib3!=1.25.0,!=1.25.1,<1.26,>=1.21.1 in /usr/local/lib/python3.7/dist-packages (from requests->folium>=0.11.0->geemap) (1.24.3)\n",
            "Requirement already satisfied: ptyprocess in /usr/local/lib/python3.7/dist-packages (from terminado>=0.8.3->jupyter-server~=1.4->jupyterlab>=3->geemap) (0.7.0)\n",
            "Requirement already satisfied: whitebox in /usr/local/lib/python3.7/dist-packages (from whiteboxgui>=0.6.0->geemap) (2.0.3)\n",
            "Requirement already satisfied: argon2-cffi-bindings in /usr/local/lib/python3.7/dist-packages (from argon2-cffi->jupyter-server~=1.4->jupyterlab>=3->geemap) (21.2.0)\n",
            "Requirement already satisfied: cffi>=1.0.1 in /usr/local/lib/python3.7/dist-packages (from argon2-cffi-bindings->argon2-cffi->jupyter-server~=1.4->jupyterlab>=3->geemap) (1.15.0)\n",
            "Requirement already satisfied: pycparser in /usr/local/lib/python3.7/dist-packages (from cffi>=1.0.1->argon2-cffi-bindings->argon2-cffi->jupyter-server~=1.4->jupyterlab>=3->geemap) (2.21)\n",
            "Requirement already satisfied: ratelim in /usr/local/lib/python3.7/dist-packages (from geocoder->geemap) (0.1.6)\n",
            "Requirement already satisfied: google-resumable-media<0.5.0dev,>=0.3.1 in /usr/local/lib/python3.7/dist-packages (from google-cloud-storage->earthengine-api>=0.1.230->geemap) (0.4.1)\n",
            "Requirement already satisfied: google-cloud-core<2.0dev,>=1.0.0 in /usr/local/lib/python3.7/dist-packages (from google-cloud-storage->earthengine-api>=0.1.230->geemap) (1.0.3)\n",
            "Requirement already satisfied: cycler>=0.10 in /usr/local/lib/python3.7/dist-packages (from matplotlib->geemap) (0.11.0)\n",
            "Requirement already satisfied: kiwisolver>=1.0.1 in /usr/local/lib/python3.7/dist-packages (from matplotlib->geemap) (1.3.2)\n",
            "Requirement already satisfied: pandocfilters>=1.4.1 in /usr/local/lib/python3.7/dist-packages (from nbconvert->jupyter-server~=1.4->jupyterlab>=3->geemap) (1.5.0)\n",
            "Requirement already satisfied: defusedxml in /usr/local/lib/python3.7/dist-packages (from nbconvert->jupyter-server~=1.4->jupyterlab>=3->geemap) (0.7.1)\n",
            "Requirement already satisfied: nbclient<0.6.0,>=0.5.0 in /usr/local/lib/python3.7/dist-packages (from nbconvert->jupyter-server~=1.4->jupyterlab>=3->geemap) (0.5.9)\n",
            "Requirement already satisfied: mistune<2,>=0.8.1 in /usr/local/lib/python3.7/dist-packages (from nbconvert->jupyter-server~=1.4->jupyterlab>=3->geemap) (0.8.4)\n",
            "Requirement already satisfied: bleach in /usr/local/lib/python3.7/dist-packages (from nbconvert->jupyter-server~=1.4->jupyterlab>=3->geemap) (4.1.0)\n",
            "Requirement already satisfied: jupyterlab-pygments in /usr/local/lib/python3.7/dist-packages (from nbconvert->jupyter-server~=1.4->jupyterlab>=3->geemap) (0.1.2)\n",
            "Requirement already satisfied: testpath in /usr/local/lib/python3.7/dist-packages (from nbconvert->jupyter-server~=1.4->jupyterlab>=3->geemap) (0.5.0)\n",
            "Requirement already satisfied: webencodings in /usr/local/lib/python3.7/dist-packages (from bleach->nbconvert->jupyter-server~=1.4->jupyterlab>=3->geemap) (0.5.1)\n",
            "Requirement already satisfied: pyyaml in /usr/local/lib/python3.7/dist-packages (from owslib->geemap) (3.13)\n",
            "Requirement already satisfied: pyproj>=2 in /usr/local/lib/python3.7/dist-packages (from owslib->geemap) (3.2.1)\n",
            "Requirement already satisfied: tenacity>=6.2.0 in /usr/local/lib/python3.7/dist-packages (from plotly->geemap) (8.0.1)\n",
            "Requirement already satisfied: websockets>=9.0 in /usr/local/lib/python3.7/dist-packages (from voila->geemap) (10.1)\n"
          ]
        }
      ],
      "source": [
        "!pip install geemap"
      ]
    },
    {
      "cell_type": "code",
      "source": [
        ""
      ],
      "metadata": {
        "id": "9FszEURitnqQ"
      },
      "execution_count": null,
      "outputs": []
    },
    {
      "cell_type": "markdown",
      "source": [
        "## Import the Libraries"
      ],
      "metadata": {
        "id": "akSzkNnjDjjj"
      }
    },
    {
      "cell_type": "code",
      "source": [
        "import os\n",
        "import ee\n",
        "import geemap\n",
        "import ipywidgets as widgets\n",
        "import pandas as pd\n",
        "import numpy as np"
      ],
      "metadata": {
        "id": "mROxqOGXRodj"
      },
      "execution_count": null,
      "outputs": []
    },
    {
      "cell_type": "markdown",
      "source": [
        "## Authenticate and Initialise with your account associated with Google Earth Engine"
      ],
      "metadata": {
        "id": "vHcQKgMgDvLH"
      }
    },
    {
      "cell_type": "code",
      "source": [
        "ee.Authenticate()\n",
        "ee.Initialize()"
      ],
      "metadata": {
        "id": "OZ6iWsupRr5o"
      },
      "execution_count": null,
      "outputs": []
    },
    {
      "cell_type": "markdown",
      "source": [
        "## Data Range"
      ],
      "metadata": {
        "id": "TIOjvIVuD5Sy"
      }
    },
    {
      "cell_type": "code",
      "source": [
        "start_date = '2019-01-01'\n",
        "end_date = '2019-04-29'"
      ],
      "metadata": {
        "id": "Fg3ayqP9Rva2"
      },
      "execution_count": null,
      "outputs": []
    },
    {
      "cell_type": "code",
      "source": [
        "Map = geemap.Map()\n",
        "\n",
        "geometry = ee.Geometry.Point([72.6026,23.0063])\n",
        "image = ee.ImageCollection(\"COPERNICUS/S2_SR\") \\\n",
        "            .filterBounds(geometry) \\\n",
        "            .filter(ee.Filter.lte('CLOUDY_PIXEL_PERCENTAGE',20)) \\\n",
        "            .first()\n",
        "# Create an NDWI image, define visualization parameters and display.\n",
        "ndwi = image.normalizedDifference(['B3', 'B8'])\n",
        "# Mask the non-watery parts of the image, where NDWI < 0.4.\n",
        "ndwiMasked = ndwi.updateMask(ndwi.gte(0.4))\n",
        "ndwiMasked1= ndwiMasked.toInt()\n",
        "# vectors = ndwiMasked1.reduceToVectors({\n",
        "#   'scale': 30.0,\n",
        "#   'geometryType': 'polygon',\n",
        "#   'eightConnected': False,\n",
        "#   'maxPixels':10000000\n",
        "# })\n",
        "vectors = ndwiMasked1.reduceToVectors(scale = 30.0, geometryType = 'polygon', eightConnected = False, maxPixels = 10000000, bestEffort=True)\n",
        "# print(vectors)"
      ],
      "metadata": {
        "id": "7-IRfmFQ5Uxz"
      },
      "execution_count": null,
      "outputs": []
    },
    {
      "cell_type": "code",
      "source": [
        "type(vectors)"
      ],
      "metadata": {
        "colab": {
          "base_uri": "https://localhost:8080/"
        },
        "id": "dE8K3tgTARfM",
        "outputId": "af29a0f9-e273-4841-e049-bdb8230c358f"
      },
      "execution_count": null,
      "outputs": [
        {
          "output_type": "execute_result",
          "data": {
            "text/plain": [
              "ee.featurecollection.FeatureCollection"
            ]
          },
          "metadata": {},
          "execution_count": 19
        }
      ]
    },
    {
      "cell_type": "code",
      "source": [
        "sentinel = ee.ImageCollection(\"COPERNICUS/S2_SR\").filterBounds(vectors) \\\n",
        "               .filterDate(start_date,end_date) \\\n",
        "               .filter(ee.Filter.lt('CLOUDY_PIXEL_PERCENTAGE',20)) \\\n",
        "               .median()\n",
        "\n",
        "\n",
        "mndwi = sentinel.normalizedDifference(['B3','B11']).rename('mndwi')\n",
        "mndwitr = mndwi.gt(0)\n",
        "ndsi = sentinel.normalizedDifference(['B11','B12']).rename('ndsi')"
      ],
      "metadata": {
        "id": "q953rojDAIgn"
      },
      "execution_count": null,
      "outputs": []
    },
    {
      "cell_type": "code",
      "source": [
        "latlon = ee.Image.pixelLonLat().addBands(ndsi)\n",
        "# apply reducer to list\n",
        "latlon = latlon.reduceRegion(\n",
        "  reducer=ee.Reducer.toList(),\n",
        "  geometry=vectors,\n",
        "  scale=100,\n",
        "  tileScale = 16);\n",
        "# get data into three different arrays\n",
        "data_ndsi = np.array((ee.Array(latlon.get(\"ndsi\")).getInfo()))"
      ],
      "metadata": {
        "id": "A--UpVccAgzs"
      },
      "execution_count": null,
      "outputs": []
    },
    {
      "cell_type": "code",
      "source": [
        "ndti = sentinel.normalizedDifference(['B4','B3']).rename('ndti')\n",
        "\n",
        "ndci = sentinel.normalizedDifference(['B5','B4']).rename('ndci')\n",
        "\n",
        "\n",
        "ph  = ee.Image(8.339).subtract(ee.Image(0.827).multiply(sentinel.select('B1').divide(sentinel.select('B8')))).rename('ph')\n",
        "\n",
        "dissolvedoxygen  = ee.Image(-0.0167).multiply(sentinel.select('B8')).add(ee.Image(0.0067).multiply(sentinel.select('B9'))).add(ee.Image(0.0083).multiply(sentinel.select('B11'))).add(ee.Image(9.577)).rename('dissolvedoxygen')"
      ],
      "metadata": {
        "id": "QRrZdcMtBBxS"
      },
      "execution_count": null,
      "outputs": []
    },
    {
      "cell_type": "code",
      "source": [
        "latlon = ee.Image.pixelLonLat().addBands(ndti)\n",
        "# apply reducer to list\n",
        "latlon = latlon.reduceRegion(\n",
        "  reducer=ee.Reducer.toList(),\n",
        "  geometry=vectors,\n",
        "  scale=100);\n",
        "# get data into three different arrays\n",
        "data_ndti = np.array((ee.Array(latlon.get(\"ndti\")).getInfo()))\n",
        "\n",
        "latlon = ee.Image.pixelLonLat().addBands(ndci)\n",
        "# apply reducer to list\n",
        "latlon = latlon.reduceRegion(\n",
        "  reducer=ee.Reducer.toList(),\n",
        "  geometry=vectors,\n",
        "  scale=100);\n",
        "# get data into three different arrays\n",
        "data_ndci = np.array((ee.Array(latlon.get(\"ndci\")).getInfo()))\n",
        "\n",
        "latlon = ee.Image.pixelLonLat().addBands(dissolvedoxygen)\n",
        "# apply reducer to list\n",
        "latlon = latlon.reduceRegion(\n",
        "  reducer=ee.Reducer.toList(),\n",
        "  geometry=vectors,\n",
        "  scale=100,\n",
        "  tileScale = 16);\n",
        "# get data into three different arrays\n",
        "data_do = np.array((ee.Array(latlon.get(\"dissolvedoxygen\")).getInfo()))\n",
        "\n",
        "\n",
        "latlon = ee.Image.pixelLonLat().addBands(ph)\n",
        "# apply reducer to list\n",
        "latlon = latlon.reduceRegion(\n",
        "  reducer=ee.Reducer.toList(),\n",
        "  geometry=vectors,\n",
        "  scale=100);\n",
        "# get data into three different arrays\n",
        "data_ph = np.array((ee.Array(latlon.get(\"ph\")).getInfo()))\n"
      ],
      "metadata": {
        "id": "AgwhPKq0BZ1K"
      },
      "execution_count": null,
      "outputs": []
    },
    {
      "cell_type": "code",
      "source": [
        "# print(image.bandNames().getInfo())"
      ],
      "metadata": {
        "colab": {
          "base_uri": "https://localhost:8080/"
        },
        "id": "2U9cWeZiibGp",
        "outputId": "0557707e-514d-4a04-e1b6-e1c6e6492cc1"
      },
      "execution_count": null,
      "outputs": [
        {
          "output_type": "stream",
          "name": "stdout",
          "text": [
            "['Oa01_radiance', 'Oa02_radiance', 'Oa03_radiance', 'Oa04_radiance', 'Oa05_radiance', 'Oa06_radiance', 'Oa07_radiance', 'Oa08_radiance', 'Oa09_radiance', 'Oa10_radiance', 'Oa11_radiance', 'Oa12_radiance', 'Oa13_radiance', 'Oa14_radiance', 'Oa15_radiance', 'Oa16_radiance', 'Oa17_radiance', 'Oa18_radiance', 'Oa19_radiance', 'Oa20_radiance', 'Oa21_radiance', 'quality_flags']\n"
          ]
        }
      ]
    },
    {
      "cell_type": "code",
      "source": [
        "## Sentinel-3\n",
        "\n",
        "starting = '2019-01-01'\n",
        "ending = '2019-04-29'\n",
        "\n",
        "data = ee.ImageCollection('COPERNICUS/S3/OLCI').filterDate(starting, ending).filterBounds(vectors)\n",
        "\n",
        "rgb = data.select(['Oa08_radiance', 'Oa06_radiance', 'Oa04_radiance'])\\\n",
        "              .median().multiply(ee.Image([0.00876539, 0.0123538, 0.0115198])).clip(vectors)\n",
        "dm_2021_Jan_August_test = rgb.select('Oa08_radiance').divide(rgb.select('Oa04_radiance')).rename('dom')\n",
        "suspended_matter_2021_Jan_August_test= rgb.select('Oa08_radiance').divide(rgb.select('Oa06_radiance')).rename('suspended_matter')"
      ],
      "metadata": {
        "id": "xUdHVyVMCk3t"
      },
      "execution_count": null,
      "outputs": []
    },
    {
      "cell_type": "code",
      "source": [
        "latlon = ee.Image.pixelLonLat().addBands(dm_2021_Jan_August_test)\n",
        "# apply reducer to list\n",
        "latlon = latlon.reduceRegion(\n",
        "  reducer=ee.Reducer.toList(),\n",
        "  geometry=vectors,\n",
        "  scale=100,\n",
        "  tileScale = 16);\n",
        "# get data into three different arrays\n",
        "data_dom_2021_Jan_August_test = np.array((ee.Array(latlon.get(\"dom\")).getInfo()))\n",
        "\n",
        "latlon = ee.Image.pixelLonLat().addBands(suspended_matter_2021_Jan_August_test)\n",
        "# apply reducer to list\n",
        "latlon = latlon.reduceRegion(\n",
        "  reducer=ee.Reducer.toList(),\n",
        "  geometry=vectors,\n",
        "  scale=100,\n",
        "  tileScale = 16);\n",
        "# get data into three different arrays\n",
        "data_sm_2021_Jan_August_test= np.array((ee.Array(latlon.get(\"suspended_matter\")).getInfo()))"
      ],
      "metadata": {
        "id": "XV00MddUC1hp"
      },
      "execution_count": null,
      "outputs": []
    },
    {
      "cell_type": "code",
      "source": [
        "data_dom_2021_Jan_August_test"
      ],
      "metadata": {
        "colab": {
          "base_uri": "https://localhost:8080/"
        },
        "id": "SrohyneYDCxY",
        "outputId": "ec11a8e7-c152-44f0-9a5d-0f19e69ed381"
      },
      "execution_count": null,
      "outputs": [
        {
          "output_type": "execute_result",
          "data": {
            "text/plain": [
              "array([0.39272142, 0.37421201, 0.38044888, 0.37421201, 0.37421201,\n",
              "       0.38044888, 0.37421201, 0.39272142, 0.39272142, 0.38044888,\n",
              "       0.39272142, 0.39272142, 0.39272142, 0.39272142, 0.39272142,\n",
              "       0.38044888, 0.38648775, 0.39272142, 0.38044888, 0.39272142,\n",
              "       0.40499397, 0.38044888, 0.39856549, 0.38648775, 0.39856549,\n",
              "       0.38044888, 0.38648775, 0.38648775, 0.39856549, 0.38648775,\n",
              "       0.41064323, 0.41064323, 0.39800806, 0.39856549, 0.39856549,\n",
              "       0.41064323, 0.3974839 , 0.3974839 , 0.39856549, 0.41064323,\n",
              "       0.41064323, 0.3974839 , 0.3974839 , 0.39856549, 0.41064323,\n",
              "       0.42272098, 0.40884059, 0.39856549, 0.40422693, 0.40350639,\n",
              "       0.3974839 , 0.43155395, 0.43479872, 0.43479872, 0.41503514,\n",
              "       0.43479872, 0.43312642, 0.44291064, 0.43989402, 0.42656389,\n",
              "       0.44291064, 0.4496214 , 0.44291064, 0.465624  , 0.58989187,\n",
              "       0.57899964, 0.55480707, 0.58735454, 0.57872128, 0.61221659,\n",
              "       0.49234561, 0.6216485 , 0.5996479 , 0.58068513, 0.59123812,\n",
              "       0.59123812, 0.59412565, 0.4214203 , 0.4214203 , 0.41611596,\n",
              "       0.42800499, 0.41611596, 0.41611596, 0.41611596, 0.41503514,\n",
              "       0.41503514, 0.42800499, 0.42800499, 0.43989402, 0.4214203 ,\n",
              "       0.57067332, 0.57067332, 0.57067332, 0.59297549, 0.46996626,\n",
              "       0.465624  , 0.43809265, 0.56937928, 0.55902692, 0.61497216,\n",
              "       0.60976053, 0.50031633, 0.50001853, 0.50031633, 0.4214203 ,\n",
              "       0.40971418, 0.40971418, 0.40971418, 0.39800806, 0.40422693,\n",
              "       0.39800806, 0.39800806, 0.4214203 , 0.40971418, 0.40971418,\n",
              "       0.40971418, 0.40971418, 0.40422693, 0.40422693, 0.40422693,\n",
              "       0.4214203 , 0.41503514, 0.40971418, 0.40971418, 0.40971418,\n",
              "       0.40971418, 0.40971418, 0.41611596, 0.611046  , 0.62314903,\n",
              "       0.57936378, 0.58681061, 0.59265291, 0.5954852 , 0.59600347,\n",
              "       0.5914939 , 0.68412042, 0.66109559, 0.4140179 , 0.42019727,\n",
              "       0.54063788, 0.43312642, 0.43809265, 0.43809265, 0.42656389,\n",
              "       0.43809265, 0.64865341, 0.64604127, 0.63602684, 0.65080144,\n",
              "       0.6546304 , 0.66591052, 0.64785009, 0.6460316 , 0.64166877,\n",
              "       0.66460908, 0.65629223, 0.68198448, 0.66420751, 0.65178789,\n",
              "       0.67036601, 0.65815141, 0.65527739, 0.65342632, 0.66290335,\n",
              "       0.66821873, 0.65569788, 0.66146226, 0.65032753, 0.67439878,\n",
              "       0.66524204, 0.65407942, 0.65594634, 0.66762168, 0.67427248,\n",
              "       0.65769553, 0.65061199, 0.65346387, 0.64184573, 0.63826763,\n",
              "       0.64706266, 0.67098169, 0.65759339, 0.66042971, 0.6419705 ,\n",
              "       0.63901211, 0.64706266, 0.65271324, 0.66435698, 0.66338144,\n",
              "       0.66976959, 0.64122258, 0.64157852, 0.66020184, 0.66894637,\n",
              "       0.66894637, 0.67926298, 0.63787836, 0.6401565 , 0.65954557,\n",
              "       0.67174206, 0.67143463, 0.67429151, 0.65788391, 0.65241184,\n",
              "       0.65997778, 0.67114814, 0.67092881, 0.67101825, 0.64791597,\n",
              "       0.63458272, 0.66221588, 0.67020489, 0.65434775, 0.62621166,\n",
              "       0.62529858, 0.62918944, 0.62732794, 0.62882872, 0.62706396,\n",
              "       0.62507676, 0.64522684, 0.62957378, 0.6452057 , 0.60256954,\n",
              "       0.61332971, 0.6693499 , 0.59731224, 0.65660482, 0.62662168,\n",
              "       0.6452057 , 0.63744827, 0.66578554, 0.63667864, 0.62722353,\n",
              "       0.62529858, 0.6213248 , 0.61850753, 0.64430859, 0.63970638,\n",
              "       0.62214581, 0.62214581, 0.61310174, 0.60625803, 0.62640493,\n",
              "       0.62792533, 0.63237542, 0.62004747, 0.67484385, 0.6768451 ,\n",
              "       0.61669536, 0.65219808, 0.62040704, 0.62582715, 0.61159631,\n",
              "       0.61560823, 0.58389133, 0.58964948, 0.58131848, 0.59081791,\n",
              "       0.57948001, 0.56715064, 0.57225922, 0.55883362, 0.61351967,\n",
              "       0.63122997, 0.63378095, 0.5976282 , 0.59575362, 0.57067332,\n",
              "       0.56638006, 0.59380271, 0.59637932, 0.62300854, 0.62335086,\n",
              "       0.6106512 , 0.64533735, 0.64189585, 0.59515002, 0.58008426,\n",
              "       0.58577857, 0.60912919, 0.60225498, 0.6045893 , 0.64435049,\n",
              "       0.63848481, 0.59652907, 0.55405177, 0.56146327, 0.60109457,\n",
              "       0.60256065, 0.61575541, 0.60613889, 0.63317174, 0.6399799 ,\n",
              "       0.6034403 , 0.60825914, 0.60402674, 0.60806261, 0.62960844,\n",
              "       0.63798351, 0.595806  , 0.58743512, 0.5814991 , 0.57105301,\n",
              "       0.65389651, 0.58761501, 0.58969576, 0.58204131, 0.58186299,\n",
              "       0.66234338, 0.6672488 , 0.58778667, 0.5892781 , 0.56729655,\n",
              "       0.59280989, 0.59255191, 0.66035055, 0.66911388, 0.65323182,\n",
              "       0.5927639 , 0.595806  , 0.58012781, 0.56598202, 0.55988044,\n",
              "       0.56054302, 0.60177637, 0.60209516, 0.65627432, 0.65458294,\n",
              "       0.66501584, 0.58744082, 0.5685661 , 0.57281756, 0.56657758,\n",
              "       0.5729245 , 0.59501483, 0.65479898, 0.64875928, 0.64852579,\n",
              "       0.58719787, 0.57420452, 0.5660896 , 0.58222541, 0.5810492 ,\n",
              "       0.57573983, 0.57413195, 0.60934779, 0.65973794, 0.65664107,\n",
              "       0.65125195, 0.65660482, 0.6020044 , 0.60325113, 0.56828271,\n",
              "       0.5755154 , 0.57680959, 0.58908214, 0.61700635, 0.60812491,\n",
              "       0.65753881, 0.66798285, 0.65446004, 0.60275038, 0.61464029,\n",
              "       0.58170409, 0.59103   , 0.58952439, 0.60109016, 0.60714839,\n",
              "       0.61563546, 0.61694413, 0.60871821, 0.65734859, 0.62483312,\n",
              "       0.62456072, 0.60841324, 0.60737527, 0.61457127, 0.61237417,\n",
              "       0.62502316, 0.67029375, 0.62213684, 0.62483312, 0.61139585,\n",
              "       0.61715005, 0.61596485, 0.61253738, 0.61943683, 0.66524204,\n",
              "       0.65980551, 0.61450175, 0.64400622, 0.64288815, 0.65533969,\n",
              "       0.64757256, 0.61304559, 0.65095816, 0.65846921, 0.66756975,\n",
              "       0.67010882, 0.63086278, 0.65219808, 0.65654607, 0.66146226,\n",
              "       0.65701135, 0.65900777, 0.66578554, 0.6744321 , 0.65701135,\n",
              "       0.66734964, 0.65507754, 0.66481169, 0.64954687, 0.64817216,\n",
              "       0.65022172, 0.63861062, 0.62255271, 0.6213248 , 0.61734429,\n",
              "       0.62080003, 0.64329278, 0.65022577, 0.59400273, 0.61139585,\n",
              "       0.59705481, 0.60512341, 0.60413873, 0.59643288, 0.59874463,\n",
              "       0.61457127, 0.61786455, 0.61550328, 0.6106568 , 0.61232831,\n",
              "       0.61160769, 0.61160769, 0.50584518, 0.5044103 , 0.50546316,\n",
              "       0.51519119, 0.50128653, 0.49113174, 0.48925576, 0.47040055,\n",
              "       0.49216799, 0.49246994, 0.50029467, 0.50063092, 0.46878299,\n",
              "       0.47198262, 0.48914856, 0.49065828, 0.49200025, 0.51078785,\n",
              "       0.51629523, 0.49804217, 0.49864659, 0.49894935, 0.48362146,\n",
              "       0.48094481, 0.48347104, 0.50049075, 0.49375448, 0.49460991,\n",
              "       0.49194154, 0.47848417, 0.51601693, 0.48971274, 0.47073974,\n",
              "       0.48783364, 0.47668536, 0.48028298, 0.49874663, 0.47492276,\n",
              "       0.4469997 , 0.44762309, 0.46574525, 0.48064835, 0.50078945,\n",
              "       0.4499933 , 0.43887496, 0.48064835, 0.4964723 , 0.4985316 ,\n",
              "       0.49242046, 0.63514269, 0.46705798, 0.45546697, 0.4466596 ,\n",
              "       0.45535312, 0.46743373, 0.45587916, 0.4568463 , 0.48273938,\n",
              "       0.47422149, 0.47582902, 0.50068508, 0.47690071, 0.53262843,\n",
              "       0.5258169 , 0.61618714, 0.47858587, 0.52830892, 0.54207749,\n",
              "       0.6178364 , 0.60493735, 0.5235535 , 0.5582132 , 0.54881775,\n",
              "       0.50006992, 0.5254408 , 0.62016745, 0.61798803, 0.51249471,\n",
              "       0.60416111, 0.61108928, 0.60487771, 0.61802877, 0.61209316,\n",
              "       0.5948837 , 0.60871821, 0.6124299 , 0.58792349, 0.59835304,\n",
              "       0.60462277, 0.5994666 , 0.5954852 , 0.60021128, 0.58680435,\n",
              "       0.58316982, 0.57722719, 0.61164212, 0.60066721, 0.59040614,\n",
              "       0.55694578, 0.57890984, 0.55689235, 0.58603306, 0.57748007,\n",
              "       0.5768898 , 0.60568976, 0.58676195, 0.56683839, 0.5659329 ,\n",
              "       0.58530597, 0.60746052, 0.59710649, 0.63255356, 0.58133309,\n",
              "       0.57599767, 0.59818512, 0.60505123, 0.58642439, 0.58970076,\n",
              "       0.58603306, 0.5917007 , 0.58631433, 0.56120156, 0.54579033,\n",
              "       0.5518114 , 0.55367454, 0.5873876 , 0.55847522, 0.54844291,\n",
              "       0.55153753, 0.55847522, 0.5596686 , 0.5925995 , 0.60134356,\n",
              "       0.59180937, 0.57774778, 0.59588379, 0.5940503 , 0.60907754,\n",
              "       0.59459654, 0.55706939, 0.63119312, 0.57538963, 0.62715634,\n",
              "       0.60780422, 0.59946717, 0.58867429, 0.56888063, 0.64462439,\n",
              "       0.58343021, 0.57629277, 0.57007576, 0.63011846, 0.61290314,\n",
              "       0.59170434, 0.56368548, 0.63523785, 0.58107775, 0.58127406,\n",
              "       0.6074657 , 0.60898708, 0.60228161, 0.61015386, 0.61771914,\n",
              "       0.60754898, 0.61154945, 0.61154799, 0.63408147, 0.64025306,\n",
              "       0.61711878, 0.60871821, 0.60120317, 0.6108047 , 0.62034977,\n",
              "       0.63408147, 0.6164235 , 0.6164235 , 0.6164235 , 0.6106568 ,\n",
              "       0.60679188, 0.67529676, 0.67529676, 0.67529676, 0.62107467,\n",
              "       0.57411159, 0.52373482, 0.52755578, 0.54784639, 0.51412011,\n",
              "       0.50383771, 0.49711987, 0.51073959, 0.51073959, 0.50383771,\n",
              "       0.50383771, 0.50369288, 0.50726517, 0.50031633, 0.50369288,\n",
              "       0.50369288, 0.50369288, 0.48612912, 0.49297601, 0.48914856,\n",
              "       0.48225914, 0.48225914, 0.48225914, 0.49623767, 0.64414625,\n",
              "       0.6150752 , 0.64360036, 0.61457127, 0.62613833, 0.67781122,\n",
              "       0.65973794, 0.65540456, 0.62073238, 0.61913541, 0.6298718 ,\n",
              "       0.61340065, 0.64075601, 0.63722827, 0.61834743, 0.60739982,\n",
              "       0.61705494, 0.59678256, 0.58297639, 0.58661013, 0.54301205,\n",
              "       0.56664046, 0.54875652, 0.56031251, 0.55890158, 0.55948365,\n",
              "       0.5694617 , 0.56606916, 0.5567308 , 0.56126574, 0.56783415,\n",
              "       0.55708586, 0.60120317, 0.60175574, 0.55063882, 0.56371995,\n",
              "       0.56865395, 0.57959009, 0.59101924, 0.58801085, 0.58305479,\n",
              "       0.58210966, 0.58963118, 0.58952439, 0.60058992, 0.59607421,\n",
              "       0.54424338, 0.61639492, 0.54824511, 0.54396095, 0.55705111,\n",
              "       0.61079411, 0.61018854, 0.6195201 , 0.62220247, 0.62896062,\n",
              "       0.58895289, 0.60576326, 0.53062607, 0.60685097, 0.60779028,\n",
              "       0.62170914, 0.6301914 , 0.63638722, 0.64274593, 0.64419565,\n",
              "       0.66454739, 0.57757916, 0.56560199, 0.58698175, 0.60461378,\n",
              "       0.59622586, 0.60240727, 0.63881342, 0.60009801, 0.61503708,\n",
              "       0.59850481, 0.5943418 , 0.59927508, 0.62255271, 0.62605512,\n",
              "       0.61457127, 0.63050197, 0.62478408, 0.61342038, 0.56249162,\n",
              "       0.57628316, 0.59509515, 0.64145451, 0.58584245, 0.58717238,\n",
              "       0.63408147, 0.62432637, 0.62432637, 0.63408147, 0.62605512,\n",
              "       0.59819006, 0.64116258, 0.59897872, 0.56010529, 0.61360235,\n",
              "       0.61794121, 0.65627432, 0.64026763, 0.64954687, 0.62114103,\n",
              "       0.62774065, 0.63249626, 0.62458057, 0.61299947, 0.60823356,\n",
              "       0.6224202 , 0.57746705, 0.55735943, 0.55757113, 0.57705669,\n",
              "       0.55378949, 0.5731697 , 0.55394755, 0.57176281, 0.55525988,\n",
              "       0.55372263, 0.57989898, 0.58009037, 0.57989898, 0.5739644 ,\n",
              "       0.61075405, 0.60364556, 0.56543778, 0.55587808, 0.55489433,\n",
              "       0.57192644, 0.57192177, 0.57034478, 0.59618666, 0.55198276,\n",
              "       0.57067332, 0.55197498, 0.56967477, 0.56673764, 0.59328987,\n",
              "       0.57474229, 0.55746329, 0.59709338, 0.57243466, 0.57512673,\n",
              "       0.59572976, 0.60475262, 0.5838427 , 0.61850326, 0.61267092,\n",
              "       0.61969269, 0.61267092, 0.61464728, 0.60292089, 0.64373753,\n",
              "       0.66598662, 0.64253589, 0.66739761, 0.68434683, 0.69000666,\n",
              "       0.647055  , 0.66745417, 0.66337093, 0.64867669, 0.66745417,\n",
              "       0.66337093, 0.66745417, 0.6655836 , 0.66457722, 0.66352864,\n",
              "       0.66212583, 0.66385433, 0.64322429, 0.641721  , 0.65088844,\n",
              "       0.5828153 , 0.5954852 , 0.65120054, 0.63483186, 0.62856771,\n",
              "       0.61321157, 0.61188999, 0.62322922, 0.65588557, 0.51440975,\n",
              "       0.54120193, 0.54953727, 0.66643256, 0.6599961 , 0.68565973,\n",
              "       0.58119559, 0.57311209, 0.54380546, 0.57121424, 0.56474492,\n",
              "       0.66695976, 0.61545453, 0.64390178, 0.68076384, 0.68266936,\n",
              "       0.63911386, 0.65622017, 0.60483984, 0.63115943, 0.62276798,\n",
              "       0.61254662, 0.61550328, 0.64644737, 0.62716421, 0.64099872,\n",
              "       0.64347527, 0.62634876, 0.64347527, 0.57481682, 0.54849167,\n",
              "       0.55987193, 0.58192476, 0.58239401, 0.57368407, 0.57059376,\n",
              "       0.58940226, 0.59356028, 0.65444188, 0.65446058, 0.616531  ,\n",
              "       0.59064163, 0.60407217, 0.58131146, 0.64607415, 0.64650705,\n",
              "       0.66895595, 0.5612407 , 0.62804259, 0.63954769, 0.57067332,\n",
              "       0.57067332, 0.58370239, 0.58370239, 0.56538931, 0.52840122,\n",
              "       0.54425326, 0.53368523, 0.5684248 , 0.57871097, 0.56402211,\n",
              "       0.57202243, 0.55436837, 0.53368523, 0.54120193, 0.55099493,\n",
              "       0.56362797, 0.58050907, 0.56720066, 0.56122955, 0.56236467,\n",
              "       0.56247771, 0.57723278, 0.55350758, 0.56996087, 0.56860566,\n",
              "       0.5878862 , 0.56414388, 0.62080227, 0.62300581, 0.64259898,\n",
              "       0.57803007, 0.58419638, 0.57067332, 0.56804349, 0.57067332,\n",
              "       0.57723278, 0.5761083 , 0.5761083 , 0.5761083 , 0.5761083 ,\n",
              "       0.5761083 , 0.57202243, 0.57067332, 0.58124134, 0.59180937,\n",
              "       0.59180937, 0.58609692, 0.59412565, 0.60029304, 0.58609692,\n",
              "       0.59412565, 0.59637932, 0.58068513, 0.58068513, 0.60070876,\n",
              "       0.60070876, 0.61072057, 0.61072057, 0.61457127, 0.63408147,\n",
              "       0.62774065, 0.63568674, 0.5828153 , 0.53000465, 0.55583311,\n",
              "       0.64509529, 0.64634654, 0.63152321, 0.66207384, 0.61267092,\n",
              "       0.60709928, 0.6106568 , 0.65355119, 0.65627432, 0.64676309,\n",
              "       0.5894157 , 0.66466046, 0.57473987, 0.57337793, 0.57101   ,\n",
              "       0.57101   , 0.57144346, 0.59445137, 0.66994497, 0.63017083,\n",
              "       0.68233899, 0.67801483, 0.67668773])"
            ]
          },
          "metadata": {},
          "execution_count": 8
        }
      ]
    },
    {
      "cell_type": "code",
      "source": [
        "print(image.bandNames().getInfo())"
      ],
      "metadata": {
        "colab": {
          "base_uri": "https://localhost:8080/"
        },
        "id": "urmDCziJjEYr",
        "outputId": "bfd18ddc-1f5c-49b8-c08a-09fbf4b1a458"
      },
      "execution_count": null,
      "outputs": [
        {
          "output_type": "stream",
          "name": "stdout",
          "text": [
            "['SR_B1', 'SR_B2', 'SR_B3', 'SR_B4', 'SR_B5', 'SR_B6', 'SR_B7', 'SR_QA_AEROSOL', 'ST_B10', 'ST_ATRAN', 'ST_CDIST', 'ST_DRAD', 'ST_EMIS', 'ST_EMSD', 'ST_QA', 'ST_TRAD', 'ST_URAD', 'QA_PIXEL', 'QA_RADSAT']\n"
          ]
        }
      ]
    },
    {
      "cell_type": "code",
      "source": [
        "col = ee.ImageCollection('LANDSAT/LC08/C02/T1_L2') \\\n",
        ".filterDate('2019-01-01','2019-10-04') \\\n",
        ".filterBounds(vectors).median()\n",
        "\n",
        "temp  = col.select('ST_B.*').multiply(0.00341802).add(149.0).subtract(273.15).rename('temp')\n",
        "\n"
      ],
      "metadata": {
        "id": "4_QHGzAZDtDc"
      },
      "execution_count": null,
      "outputs": []
    },
    {
      "cell_type": "code",
      "source": [
        "print(col.bandNames().getInfo())"
      ],
      "metadata": {
        "colab": {
          "base_uri": "https://localhost:8080/"
        },
        "id": "4HRhVSlcjPqn",
        "outputId": "806df218-af07-47d7-812c-5882bb28e2d0"
      },
      "execution_count": null,
      "outputs": [
        {
          "output_type": "stream",
          "name": "stdout",
          "text": [
            "[]\n"
          ]
        }
      ]
    },
    {
      "cell_type": "code",
      "source": [
        "latlon = ee.Image.pixelLonLat().addBands(temp)\n",
        "\n",
        "\n",
        "latlon = latlon.reduceRegion(\n",
        "  reducer=ee.Reducer.toList(),\n",
        "  geometry=vectors,\n",
        "  scale=100,\n",
        "  tileScale = 16);\n",
        "\n",
        "data_lst = np.array((ee.Array(latlon.get(\"temp\")).getInfo()))\n",
        "# geemap.ee_to_numpy(dataset, region=geometry)"
      ],
      "metadata": {
        "id": "Zs8EaEE_EDpI"
      },
      "execution_count": null,
      "outputs": []
    },
    {
      "cell_type": "code",
      "source": [
        "data_lst"
      ],
      "metadata": {
        "id": "ykYObnJCVlqx",
        "outputId": "f72cb2f4-45cf-44bf-fba5-450e5815a31a",
        "colab": {
          "base_uri": "https://localhost:8080/"
        }
      },
      "execution_count": null,
      "outputs": [
        {
          "output_type": "execute_result",
          "data": {
            "text/plain": [
              "array([30.91702235, 30.55642124, 28.91064461, 27.9860702 , 27.37253561,\n",
              "       26.57100992, 25.24823618, 25.36273985, 25.81391849, 25.73188601,\n",
              "       24.58684931, 27.15549134, 32.16630866, 33.36603368, 28.43383082,\n",
              "       27.44260502, 30.45558965, 33.13873535, 32.40557006, 33.21905882,\n",
              "       25.6447265 , 27.50925641, 23.94767957, 23.72209025, 24.44500148,\n",
              "       25.22772806, 26.34029357, 26.8068533 , 26.82736142, 26.81368934,\n",
              "       26.90255786, 27.07004084, 25.26532628, 26.32491248, 26.80343528,\n",
              "       26.96750024, 27.05636876, 27.44260502, 33.90437183, 32.15947262,\n",
              "       32.45854937, 33.06695693, 34.60848395, 33.9163349 , 33.90095381,\n",
              "       33.99494936, 34.24275581, 33.22076783, 32.10649331, 34.33504235,\n",
              "       32.74053602, 32.93536316, 33.97444124, 32.92681811, 33.22931288,\n",
              "       32.80206038, 32.94732623, 33.30280031, 32.48247551, 33.88044569,\n",
              "       34.64608217, 32.30644748, 30.74270333, 30.2419634 , 31.69974893,\n",
              "       32.53545482, 31.21780811, 31.99711667, 32.12016539, 32.30473847,\n",
              "       33.68220053, 28.65771113, 29.20972136, 31.46903258, 32.99176049,\n",
              "       33.65827439, 32.41924214, 31.96464548, 31.95780944, 31.8142526 ,\n",
              "       31.7800724 , 29.88478031, 31.60746239, 32.9763794 , 32.88751088,\n",
              "       33.00372356, 33.47882834, 31.69291289, 31.80228953, 31.48441367,\n",
              "       31.63138853, 31.04861612, 33.00372356, 33.08404703, 31.48099565,\n",
              "       32.00566172, 32.0706041 , 32.19707084, 33.10284614, 30.13429577,\n",
              "       30.344504  , 31.17679187, 31.51346684, 31.52713892, 31.29813158,\n",
              "       30.11378765, 31.52884793, 29.03027531, 32.20048886, 29.17725017,\n",
              "       30.62649065, 28.34154428, 29.42334761, 31.33743881, 31.39554515,\n",
              "       27.90403772, 29.50538009, 30.18898409, 27.6784484 , 29.46094583,\n",
              "       28.22362259, 31.60746239, 31.61258942, 28.09031981, 27.60496097,\n",
              "       29.13281591, 30.39064727, 30.46926173, 29.19263126, 29.8488911 ,\n",
              "       31.19217296, 29.1652871 , 27.65452226, 31.19729999, 27.75706286,\n",
              "       28.53124439, 28.41844973, 28.11424595, 28.60644083, 30.88113314,\n",
              "       27.84593138, 26.83248845, 29.14136096, 25.08246221, 25.75581215,\n",
              "       27.62888711, 28.03050446, 28.81494005, 28.16893427, 27.9860702 ,\n",
              "       28.11766397, 27.37766264, 26.97091826, 27.4050068 , 30.52224104,\n",
              "       24.12712562, 23.39054231, 23.0812115 , 23.01456011, 23.05044932,\n",
              "       28.56371558, 27.77927999, 28.82519411, 27.64768622, 26.77950914,\n",
              "       27.31101125, 24.22112117, 23.53409915, 23.05899437, 23.06241239,\n",
              "       22.98721595, 23.09488358, 22.81631495, 23.70158213, 25.15594964,\n",
              "       27.70408355, 26.36934674, 23.07437546, 23.29996478, 23.4571937 ,\n",
              "       22.86416723, 22.49160305, 22.57876256, 24.44671049, 27.81346019,\n",
              "       25.23285509, 24.11687156, 24.96283151, 22.71890138, 22.83853208,\n",
              "       24.72698813, 28.26976586, 27.48703928, 28.35863438, 24.22283018,\n",
              "       24.27068246, 23.7648155 , 25.66352561, 26.8752137 , 27.59641592,\n",
              "       24.74407823, 24.65520971, 25.91987711, 27.47507621, 26.48555942,\n",
              "       27.80833316, 25.74043106, 25.24823618, 25.88227889, 28.86962837,\n",
              "       27.48191225, 27.74851781, 26.45308823, 27.79466108, 28.47655607,\n",
              "       27.00680747, 26.16597455, 29.10376274, 26.01558167, 27.780989  ,\n",
              "       26.67525953, 26.43258011, 27.77244395, 26.91452093, 26.0890691 ,\n",
              "       26.0377988 , 25.97627444, 25.01410181, 23.39908736, 27.11618411,\n",
              "       23.74601639, 25.12689647, 28.15355318, 27.35715452, 27.40329779,\n",
              "       27.28195808, 34.98104813, 33.75739697, 30.79910066, 33.13531733,\n",
              "       32.7029378 , 33.87873668, 33.99665837, 33.94880609, 36.13462988,\n",
              "       33.91804391, 34.2068666 , 34.33846037, 33.77619608, 37.18908905,\n",
              "       32.38677095, 33.82404836, 34.5144884 , 34.69735247, 31.65360566,\n",
              "       32.23125104, 32.3611358 , 33.13702634, 35.11093289, 31.58182724,\n",
              "       33.03961277, 34.12312511, 34.83578228, 32.42778719, 33.88899074,\n",
              "       35.05624457, 34.89901565, 35.19980141, 35.54160341, 35.32285013,\n",
              "       36.41319851, 34.55550464, 34.56404969, 34.96737605, 35.36728439,\n",
              "       35.54673044, 36.07994156, 35.16733022, 34.44270998, 33.36603368,\n",
              "       34.5486686 , 35.19296537, 35.21689151, 35.30576003, 34.72811465,\n",
              "       34.48885325, 34.0188755 , 33.88557272, 34.00691243, 35.38095647,\n",
              "       34.88363456, 34.36751354, 33.73005281, 33.80183123, 35.3860835 ,\n",
              "       35.13144101, 35.23569062, 35.09896982, 34.87679852, 34.80843812,\n",
              "       36.06114245, 35.47324301, 35.71250441, 35.81504501, 35.70737738,\n",
              "       35.40659162, 34.46492711, 33.53864369, 33.89240876, 33.99494936,\n",
              "       33.41046794, 32.93365415, 32.84820365, 33.27374714, 27.45285908,\n",
              "       25.94380325, 31.75101923, 27.48362126, 32.23466906, 32.03471489,\n",
              "       31.84330577, 33.77448707, 31.69633091, 31.92533825, 29.54297831,\n",
              "       29.4216386 , 32.96270732, 32.10820232, 33.31989041, 33.90778985,\n",
              "       29.51563415, 29.24731958, 36.21495335, 25.57978412, 26.50264952,\n",
              "       26.75216498, 26.76071003, 27.95018099, 36.63878783, 33.6428933 ,\n",
              "       32.41582412, 29.2165574 , 31.61600744, 32.18681678, 31.4895407 ,\n",
              "       30.17702102, 33.32843546, 32.72686394, 32.92169108, 32.87042078,\n",
              "       33.27032912, 33.58478696, 33.75739697, 33.27716516, 33.4549022 ,\n",
              "       33.46857428, 33.73517984, 33.18487862, 32.87725682, 32.90118296,\n",
              "       33.14386238, 33.8137943 , 31.75101923, 29.08496363, 30.59401946,\n",
              "       31.58011823, 28.95678788, 27.47678522, 29.09350868, 27.87669356,\n",
              "       28.90380857, 26.96750024, 26.9948444 , 29.49170801, 27.780989  ,\n",
              "       27.95189   , 27.53830958, 26.83761548, 28.73461658, 26.90255786,\n",
              "       26.8923038 , 28.82690312, 25.51655075, 26.57784596, 26.9093939 ,\n",
              "       26.86154162, 28.70556341, 26.92306598, 26.926484  , 28.92773471,\n",
              "       26.50094051, 26.39156387, 26.56588289, 26.26167911, 26.2941503 ,\n",
              "       26.35225664, 26.24288   , 26.27535119, 26.00874563, 26.04463484,\n",
              "       26.21895386, 25.94551226, 26.09248712, 26.15572049, 25.90449602,\n",
              "       26.20528178, 26.10957722, 26.23433495, 26.12837633, 26.08223306,\n",
              "       26.25655208, 25.97798345, 26.26680614, 25.96260236, 26.05147088,\n",
              "       25.94209424, 25.94209424, 25.94893028, 26.20528178, 26.03438078,\n",
              "       25.96260236, 26.20528178, 26.01045464, 26.07539702, 26.18477366,\n",
              "       26.3454206 , 26.31294941, 26.55391982, 26.40352694, 26.72482082,\n",
              "       26.3966909 , 26.29073228, 26.53682972, 26.78634518, 26.75729201,\n",
              "       26.33174852, 26.60348111, 26.88375875, 26.28902327, 26.43258011,\n",
              "       26.70602171, 26.68551359, 27.01706153, 26.58639101, 26.57100992,\n",
              "       26.35738367, 26.82052538, 26.60860814, 26.49581348, 26.61202616,\n",
              "       26.76241904, 26.55904685, 26.70089468, 26.83761548, 26.2086998 ,\n",
              "       23.74943441, 23.23844042, 28.35179834, 23.87248313, 23.0470313 ,\n",
              "       28.39965062, 25.89595097, 22.49160305, 23.12906378, 26.1916097 ,\n",
              "       29.79932981, 23.03506823, 22.80947891, 22.30190294, 22.14980105,\n",
              "       22.75308158, 24.51507089, 22.12758392, 21.90541262, 21.98231807,\n",
              "       21.98573609, 22.98037991, 24.56292317, 28.61669489, 22.01308025,\n",
              "       21.57557369, 21.54652052, 21.6627332 , 21.74647469, 21.89174054,\n",
              "       23.29996478, 24.98333963, 21.81996212, 21.65931518, 21.57044666,\n",
              "       21.55848359, 21.62513498, 21.76356479, 21.94471985, 23.87590115,\n",
              "       22.43520572, 21.65760617, 21.75501974, 22.22328848, 21.66615122,\n",
              "       21.67640528, 21.81825311, 21.89174054, 22.00282619, 21.74647469,\n",
              "       21.80799905, 22.04384243, 22.10536679, 22.19594432, 26.50777655,\n",
              "       27.17429045, 22.75137257, 23.03165021, 23.13760883, 25.01922884,\n",
              "       22.56679949, 22.39248047, 22.37539037, 25.21234697, 23.3033828 ,\n",
              "       22.48476701, 24.13908869, 25.96772939, 27.18112649, 26.55733784,\n",
              "       28.12108199, 28.21849556, 24.4313294 , 25.58832917, 29.29688087,\n",
              "       28.7722148 , 28.79614094, 23.39054231, 24.70306199, 22.42324265,\n",
              "       28.99267709, 28.32445418, 27.60666998, 22.51552919, 28.65942014,\n",
              "       30.07277141, 27.41013383, 31.24344326, 33.61042211, 31.23148019,\n",
              "       30.59572847, 33.50959052, 30.35817608, 31.36991   , 29.21484839,\n",
              "       28.66796519, 28.06981169, 29.87794427, 26.88888578, 26.20015475,\n",
              "       25.38324797, 27.06149579, 24.73382417, 24.8927621 , 26.75216498,\n",
              "       24.96283151, 27.22214273, 30.74783036, 23.1153917 , 25.81733651,\n",
              "       23.40250538, 24.61590248, 24.47234564, 30.50856896, 31.51004882,\n",
              "       25.05340904, 23.99724086, 28.8405752 , 23.96306066, 24.64324664,\n",
              "       27.33835541, 27.03244262, 23.2862927 , 23.35294409, 29.68140812,\n",
              "       25.98994652, 25.76606621, 29.54468732, 28.6013138 , 27.63230513,\n",
              "       30.82815383, 31.20413603, 28.13304506, 27.77244395, 29.00805818,\n",
              "       27.82542326, 28.10399189, 30.27443459, 29.52247019, 27.8493494 ,\n",
              "       29.9685218 , 31.39725416, 28.14159011, 28.70214539, 29.89332536,\n",
              "       22.43007869, 32.26884926, 30.90335027, 30.44362658, 22.92056456,\n",
              "       22.40786156, 22.70010227, 30.12404171, 29.13623393, 23.16495299,\n",
              "       25.96260236, 29.14136096, 28.55687954, 25.56953006, 23.11880972,\n",
              "       25.32343262, 27.00509846, 24.10319948, 23.22305933, 22.81289693,\n",
              "       22.72573742, 23.19229715, 24.98675765, 26.48897744, 25.61567333,\n",
              "       26.58980903, 26.22066287, 29.57203148, 25.3200146 , 30.9939278 ,\n",
              "       27.29563016, 26.9093939 , 29.2165574 , 29.40625751, 31.79032646,\n",
              "       31.36820099, 29.78565773, 27.97239812, 28.02537743, 27.71433761,\n",
              "       27.18967154, 26.82565241, 32.83111355, 32.45854937, 30.11378765,\n",
              "       29.78394872, 32.19365282, 34.51619741, 32.19707084, 32.31841055,\n",
              "       32.8909289 , 32.25517718, 31.9680635 , 32.50811066, 30.89309621,\n",
              "       29.20630334, 29.64893693, 33.3523616 , 32.3098655 , 31.1135585 ,\n",
              "       32.23296005, 29.75660456, 30.82815383, 29.96510378, 27.65794028,\n",
              "       28.30907309, 32.02104281, 27.64939523, 32.75933513, 34.65804524,\n",
              "       34.21028462, 26.83761548, 28.55687954, 31.18362791, 31.70145794,\n",
              "       33.17633357, 34.88021654, 30.46755272, 34.45125503, 33.35748863,\n",
              "       33.37799675, 33.32501744, 33.10284614, 33.41046794, 32.94390821,\n",
              "       32.98663346, 33.67878251, 34.34016938, 33.55573379, 30.83157185,\n",
              "       31.79374448, 30.05739032, 27.68186642, 26.51290358, 29.0969267 ,\n",
              "       27.83396831, 28.13646308, 27.95701703, 30.39919232, 29.8830713 ,\n",
              "       31.94755538, 32.90630999, 32.31328352, 32.95245326, 34.75545881,\n",
              "       33.76423301, 32.08598519, 33.17291555, 33.36261566, 36.60973466,\n",
              "       33.37628774, 29.10888977, 30.3786842 , 29.87794427, 31.72025705,\n",
              "       27.94505396, 27.51096542, 33.01910465, 31.7800724 , 30.30177875,\n",
              "       33.00372356, 30.32570489, 31.62455249, 29.1652871 , 29.13281591,\n",
              "       33.75056093, 29.30542592, 34.23421076, 31.39041812, 32.81402345,\n",
              "       34.12312511, 33.98982233, 30.28468865, 28.44237587, 33.79841321,\n",
              "       33.01910465, 33.28229219, 30.85891601, 33.57111488, 32.62603235,\n",
              "       32.25175916, 37.60437848, 37.48474778, 33.32159942, 32.9251091 ,\n",
              "       33.2156408 , 33.11651822, 32.84307662, 33.53522567, 31.97660855,\n",
              "       35.34677627, 35.9500568 , 30.81106373, 30.82473581, 32.44487729,\n",
              "       31.29300455, 28.87133738, 28.04246753, 34.14705125, 33.81550331,\n",
              "       35.39291954, 34.03425659, 33.75739697, 35.02377338, 33.96931421,\n",
              "       33.28058318, 35.54160341, 32.02787885, 30.81106373, 31.70658497,\n",
              "       31.96122746, 32.00053469, 30.57522035, 31.05545216, 31.3870001 ,\n",
              "       32.50981967, 30.1394228 , 30.99050978, 32.32011956, 32.08940321,\n",
              "       32.03300588, 29.18750423, 30.59401946, 30.07448042, 25.84809869,\n",
              "       31.95780944, 28.31932715, 29.99244794, 32.58672512, 31.22806217,\n",
              "       31.08108731, 31.0451981 , 31.59037229, 33.7796141 , 31.00930889,\n",
              "       31.75956428, 32.8225685 , 29.66602703, 31.93559231, 28.58764172,\n",
              "       30.10011557, 28.33470824, 30.98196473, 32.60381522, 28.40477765,\n",
              "       32.13383747, 28.93798877, 29.63013782, 28.99780412, 30.35988509,\n",
              "       31.64506061, 28.05613961, 28.55517053, 28.70214539, 29.60279366,\n",
              "       29.06445551, 30.89822324, 30.26247152, 28.33812626, 30.21803726,\n",
              "       31.25540633, 29.52076118, 28.91748065, 29.87623526, 29.13452492,\n",
              "       32.01249776, 31.01614493, 29.68311713, 28.90039055, 32.24834114,\n",
              "       33.05670287, 31.68094982, 31.540811  , 33.23956694, 32.23637807,\n",
              "       31.87919498, 32.224415  , 31.29984059, 32.80206038, 33.01568663,\n",
              "       32.00053469, 33.02935871, 33.39337784, 31.56131912, 31.34427485,\n",
              "       33.21734981, 32.27397629, 27.63914117, 29.92921457, 30.01466507,\n",
              "       30.64187174, 30.94607552, 29.99928398, 29.70020723, 30.45388064,\n",
              "       29.63355584, 30.34792202, 32.23637807, 32.29619342, 32.35771778,\n",
              "       32.18852579, 34.63924613, 32.53887284, 35.52793133, 27.4220969 ,\n",
              "       29.87281724, 28.45775696, 31.3357298 , 29.58399455, 31.06741523,\n",
              "       30.59572847, 31.63309754, 30.42824549, 28.31761814, 31.711712  ,\n",
              "       25.89936899, 31.47415961, 32.69439275, 35.28866993, 32.65508552,\n",
              "       31.9680635 , 35.85435224, 34.42220186, 34.9075607 , 29.70704327,\n",
              "       31.25198831, 32.54229086, 31.40921723, 32.16118163, 32.92340009,\n",
              "       32.43291422, 32.19707084, 30.43508153, 30.56325728, 33.98127728,\n",
              "       35.01864635, 35.4886241 , 34.26326393, 32.69268374, 33.10455515,\n",
              "       30.95120255, 31.56302813, 32.28081233, 32.68413869, 36.16026503,\n",
              "       31.19217296, 33.00543257, 30.88113314, 29.9514317 , 30.72219521,\n",
              "       29.72071535, 29.46265484, 28.92260768, 29.69337119, 29.56519544,\n",
              "       29.33106107, 32.19365282, 31.55277407, 30.27956162, 30.45046262,\n",
              "       30.64699877, 31.09817741, 31.06570622, 35.52622232, 29.12427086,\n",
              "       30.64358075, 28.68334628, 29.1994673 , 28.04417654, 31.72538408,\n",
              "       27.89036564, 29.06445551, 36.27305969, 31.95268241, 32.73540899,\n",
              "       34.08894491, 28.21336853, 27.26999501, 28.83715718, 27.75364484,\n",
              "       29.37720434, 30.14625884, 27.49900235, 30.93923948, 28.43553983,\n",
              "       28.80126797, 29.17725017, 28.37743349, 28.46630201, 28.06639367,\n",
              "       28.31420012, 29.42847464, 30.41457341, 27.47849423, 27.91087376,\n",
              "       31.37503703, 27.66648533, 28.54491647, 31.94242835, 27.41184284,\n",
              "       27.65794028, 30.88284215, 27.13498322, 28.2766019 , 27.94676297,\n",
              "       28.94995184, 31.26395138, 28.76366975])"
            ]
          },
          "metadata": {},
          "execution_count": 13
        }
      ]
    },
    {
      "cell_type": "markdown",
      "source": [
        "# Finding water quality parameters"
      ],
      "metadata": {
        "id": "RARrenw0D8zm"
      }
    },
    {
      "cell_type": "markdown",
      "source": [
        "### Sentinel-2A"
      ],
      "metadata": {
        "id": "oUu5vU3_EBLs"
      }
    },
    {
      "cell_type": "code",
      "source": [
        "#  ndsi = sentinel.normalizedDifference(['B11','B12']).rename('ndsi')\n",
        "#   # ndsi2 = sentinel.normalizedDifference(['B11','B12']).rename('ndsi2').mask(mndwitr)\n",
        "#   # Map.addLayer(ndsi2,{'min':0.1,'max':0.4,'palette':['cyan','orange','red']},'salinity')\n",
        "#   ndti = sentinel.normalizedDifference(['B4','B3']).rename('ndti')\n",
        "#   # ndti2 = sentinel.normalizedDifference(['B4','B3']).rename('ndti2').mask(mndwitr)\n",
        "#   # Map.addLayer(ndti2,{'min':-1,'max':+1,'palette':['blue','pink','brown']},'turbidity')\n",
        "\n",
        "#   ndci = sentinel.normalizedDifference(['B5','B4']).rename('ndci')\n",
        "#   # ndci2 = sentinel.normalizedDifference(['B5','B4']).rename('ndci2').mask(mndwitr)\n",
        "#   # Map.addLayer(ndci2,{'min':-1,'max':+1,'palette':['green','pink','brown']},'chlorophyll')\n",
        "\n",
        "\n",
        "#   ph  = ee.Image(8.339).subtract(ee.Image(0.827).multiply(sentinel.select('B1').divide(sentinel.select('B8')))).rename('ph')\n",
        "#   # ph2  = ee.Image(8.339).subtract(ee.Image(0.827).multiply(sentinel.select('B1').divide(sentinel.select('B8')))).rename('ph2').mask(mndwitr)\n",
        "#   # Map.addLayer(ph2,{'min':0,'max':14,'palette':['red','yellow','cyan']},'ph')\n",
        "\n",
        "#   dissolvedoxygen  = ee.Image(-0.0167).multiply(sentinel.select('B8')).add(ee.Image(0.0067).multiply(sentinel.select('B9'))).add(ee.Image(0.0083).multiply(sentinel.select('B11'))).add(ee.Image(9.577)).rename('dissolvedoxygen')\n",
        "#   # dissolvedoxygen2  = ee.Image(-0.0167).multiply(sentinel.select('B8')).add(ee.Image(0.0067).multiply(sentinel.select('B9'))).add(ee.Image(0.0083).multiply(sentinel.select('B11'))).add(ee.Image(9.577)).rename('dissolvedoxygen2').mask(mndwitr)\n",
        "#   # Map.addLayer(dissolvedoxygen2,{'min':6.5,'max':8,'palette':['red','green','blue']},'do')"
      ],
      "metadata": {
        "id": "yQVPN6YHoLOX"
      },
      "execution_count": null,
      "outputs": []
    },
    {
      "cell_type": "code",
      "source": [
        "Map = geemap.Map()\n",
        "\n",
        "# Kankaria Lake, Ahmedabad\n",
        "\n",
        "geometry1 = ee.Geometry.Point([72.6026,23.0063])\n",
        "\n",
        "geometry = ee.Geometry.Polygon([\n",
        "    [72.5986408493042,23.006549566021803],\n",
        "   [72.59902708740235,23.004890477468116],\n",
        "   [72.60070078582764,23.003863412427236],\n",
        "   [72.60040037841797,23.007142092704626],\n",
        "   [72.60215990753174,23.006668071566512],\n",
        "   [72.60173075408936,23.003784407100333],\n",
        "    [72.60366194458008,23.00516699364359],\n",
        "   [72.60374777526856,23.00686558057643],\n",
        "    [72.6026748916626,23.00805062856477],\n",
        "    [72.60082953186036,23.00880115357416],\n",
        "    [72.59945624084473,23.00809012998513],\n",
        "    [72.5986408493042,23.006549566021803]\n",
        "])\n",
        "\n",
        "\n",
        "\n",
        "sentinel = ee.ImageCollection(\"COPERNICUS/S2_SR\").filterBounds(geometry) \\\n",
        "               .filterDate(start_date,end_date) \\\n",
        "               .filter(ee.Filter.lt('CLOUDY_PIXEL_PERCENTAGE',20)) \\\n",
        "               .median()\n",
        "\n",
        "\n",
        "mndwi = sentinel.normalizedDifference(['B3','B11']).rename('mndwi')\n",
        "mndwitr = mndwi.gt(0)\n",
        "ndsi = sentinel.normalizedDifference(['B11','B12']).rename('ndsi')\n",
        "ndti = sentinel.normalizedDifference(['B4','B3']).rename('ndti')\n",
        "\n",
        "ndci = sentinel.normalizedDifference(['B5','B4']).rename('ndci')\n",
        "\n",
        "\n",
        "ph  = ee.Image(8.339).subtract(ee.Image(0.827).multiply(sentinel.select('B1').divide(sentinel.select('B8')))).rename('ph')\n",
        "\n",
        "dissolvedoxygen  = ee.Image(-0.0167).multiply(sentinel.select('B8')).add(ee.Image(0.0067).multiply(sentinel.select('B9'))).add(ee.Image(0.0083).multiply(sentinel.select('B11'))).add(ee.Image(9.577)).rename('dissolvedoxygen')\n"
      ],
      "metadata": {
        "id": "rM2ybOBbRvYA"
      },
      "execution_count": null,
      "outputs": []
    },
    {
      "cell_type": "markdown",
      "source": [
        "### Landsat-8"
      ],
      "metadata": {
        "id": "uOXuNFB0EGPO"
      }
    },
    {
      "cell_type": "code",
      "source": [
        "col = ee.ImageCollection('LANDSAT/LC08/C02/T1_L2') \\\n",
        ".filterDate(start_date,end_date) \\\n",
        ".filterBounds(geometry).median()\n",
        "\n",
        "temp  = col.select('ST_B.*').multiply(0.00341802).add(149.0).subtract(273.15).rename('temp')\n",
        "\n"
      ],
      "metadata": {
        "id": "DAUeyxcvmpvF"
      },
      "execution_count": null,
      "outputs": []
    },
    {
      "cell_type": "markdown",
      "source": [
        "### Sentinel-3"
      ],
      "metadata": {
        "id": "fQ2Edl3jtf9B"
      }
    },
    {
      "cell_type": "markdown",
      "source": [
        "### Test Data"
      ],
      "metadata": {
        "id": "8Xgcktd3kJAP"
      }
    },
    {
      "cell_type": "code",
      "source": [
        "# starting = '2021-01-01'\n",
        "# ending = '2021-08-31'\n",
        "\n",
        "starting = start_date\n",
        "ending = end_date\n",
        "\n",
        "data = ee.ImageCollection('COPERNICUS/S3/OLCI').filterDate(starting, ending).filterBounds(geometry)\n",
        "\n",
        "rgb = data.select(['Oa08_radiance', 'Oa06_radiance', 'Oa04_radiance'])\\\n",
        "              .median().multiply(ee.Image([0.00876539, 0.0123538, 0.0115198])).clip(geometry)\n",
        "dm_2021_Jan_August_test = rgb.select('Oa08_radiance').divide(rgb.select('Oa04_radiance')).rename('dom')\n",
        "suspended_matter_2021_Jan_August_test= rgb.select('Oa08_radiance').divide(rgb.select('Oa06_radiance')).rename('suspended_matter')\n",
        "\n",
        "\n",
        "latlon = ee.Image.pixelLonLat().addBands(dm_2021_Jan_August_test)\n",
        "# apply reducer to list\n",
        "latlon = latlon.reduceRegion(\n",
        "  reducer=ee.Reducer.toList(),\n",
        "  geometry=geometry,\n",
        "  scale=100,\n",
        "  tileScale = 16);\n",
        "# get data into three different arrays\n",
        "data_dom_2021_Jan_August_test = np.array((ee.Array(latlon.get(\"dom\")).getInfo()))\n",
        "\n",
        "latlon = ee.Image.pixelLonLat().addBands(suspended_matter_2021_Jan_August_test)\n",
        "# apply reducer to list\n",
        "latlon = latlon.reduceRegion(\n",
        "  reducer=ee.Reducer.toList(),\n",
        "  geometry=geometry,\n",
        "  scale=100,\n",
        "  tileScale = 16);\n",
        "# get data into three different arrays\n",
        "data_sm_2021_Jan_August_test= np.array((ee.Array(latlon.get(\"suspended_matter\")).getInfo()))"
      ],
      "metadata": {
        "id": "OsoVcJJkWdcx"
      },
      "execution_count": null,
      "outputs": []
    },
    {
      "cell_type": "markdown",
      "source": [
        "### Training Data"
      ],
      "metadata": {
        "id": "Q7o3hpe_kHBG"
      }
    },
    {
      "cell_type": "code",
      "source": [
        "start1 = '2021-01-01'\n",
        "end1 = '2021-06-30'"
      ],
      "metadata": {
        "id": "mFH-YyvPnNvI"
      },
      "execution_count": null,
      "outputs": []
    },
    {
      "cell_type": "code",
      "source": [
        "data = ee.ImageCollection('COPERNICUS/S3/OLCI').filterDate(start1, end1).filterBounds(geometry)\n",
        "\n",
        "rgb = data.select(['Oa08_radiance', 'Oa06_radiance', 'Oa04_radiance'])\\\n",
        "              .median().multiply(ee.Image([0.00876539, 0.0123538, 0.0115198])).clip(geometry)\n",
        "dm_2021_Jan_June = rgb.select('Oa08_radiance').divide(rgb.select('Oa04_radiance')).rename('dom')\n",
        "suspended_matter__2021_Jan_June = rgb.select('Oa08_radiance').divide(rgb.select('Oa06_radiance')).rename('suspended_matter')\n"
      ],
      "metadata": {
        "id": "G8Tgvf5jnOb1"
      },
      "execution_count": null,
      "outputs": []
    },
    {
      "cell_type": "code",
      "source": [
        "latlon = ee.Image.pixelLonLat().addBands(dm_2021_Jan_June)\n",
        "# apply reducer to list\n",
        "latlon = latlon.reduceRegion(\n",
        "  reducer=ee.Reducer.toList(),\n",
        "  geometry=geometry,\n",
        "  scale=100,\n",
        "  tileScale = 16);\n",
        "# get data into three different arrays\n",
        "data_dom_2021_Jan_June = np.array((ee.Array(latlon.get(\"dom\")).getInfo()))"
      ],
      "metadata": {
        "id": "VvDImmqPnRhB"
      },
      "execution_count": null,
      "outputs": []
    },
    {
      "cell_type": "code",
      "source": [
        "latlon = ee.Image.pixelLonLat().addBands(suspended_matter__2021_Jan_June)\n",
        "# apply reducer to list\n",
        "latlon = latlon.reduceRegion(\n",
        "  reducer=ee.Reducer.toList(),\n",
        "  geometry=geometry,\n",
        "  scale=100,\n",
        "  tileScale = 16);\n",
        "# get data into three different arrays\n",
        "data_sm_2021_Jan_June= np.array((ee.Array(latlon.get(\"suspended_matter\")).getInfo()))"
      ],
      "metadata": {
        "id": "PKEObLjnoYkR"
      },
      "execution_count": null,
      "outputs": []
    },
    {
      "cell_type": "code",
      "source": [
        "start2 = '2021-07-31'\n",
        "end2 = '2021-10-31'\n",
        "\n",
        "data = ee.ImageCollection('COPERNICUS/S3/OLCI').filterDate(start2, end2).filterBounds(geometry)\n",
        "\n",
        "rgb = data.select(['Oa08_radiance', 'Oa06_radiance', 'Oa04_radiance'])\\\n",
        "              .median().multiply(ee.Image([0.00876539, 0.0123538, 0.0115198])).clip(geometry)\n",
        "dm_2021_July_Oct = rgb.select('Oa08_radiance').divide(rgb.select('Oa04_radiance')).rename('dom')\n",
        "suspended_matter__2021_July_Oct = rgb.select('Oa08_radiance').divide(rgb.select('Oa06_radiance')).rename('suspended_matter')\n",
        "\n",
        "latlon = ee.Image.pixelLonLat().addBands(dm_2021_July_Oct)\n",
        "# apply reducer to list\n",
        "latlon = latlon.reduceRegion(\n",
        "  reducer=ee.Reducer.toList(),\n",
        "  geometry=geometry,\n",
        "  scale=100,\n",
        "  tileScale = 16);\n",
        "# get data into three different arrays\n",
        "data_dom_2021_July_Oct = np.array((ee.Array(latlon.get(\"dom\")).getInfo()))\n",
        "\n",
        "latlon = ee.Image.pixelLonLat().addBands(suspended_matter__2021_July_Oct)\n",
        "# apply reducer to list\n",
        "latlon = latlon.reduceRegion(\n",
        "  reducer=ee.Reducer.toList(),\n",
        "  geometry=geometry,\n",
        "  scale=100,\n",
        "  tileScale = 16);\n",
        "# get data into three different arrays\n",
        "data_sm_2021_July_Oct= np.array((ee.Array(latlon.get(\"suspended_matter\")).getInfo()))\n",
        "\n",
        "\n",
        "\n",
        "start3 = '2021-11-30'\n",
        "end3 = '2021-12-31'\n",
        "\n",
        "data = ee.ImageCollection('COPERNICUS/S3/OLCI').filterDate(start3, end3).filterBounds(geometry)\n",
        "\n",
        "rgb = data.select(['Oa08_radiance', 'Oa06_radiance', 'Oa04_radiance'])\\\n",
        "              .median().multiply(ee.Image([0.00876539, 0.0123538, 0.0115198])).clip(geometry)\n",
        "dm_2021_Nov_Dec = rgb.select('Oa08_radiance').divide(rgb.select('Oa04_radiance')).rename('dom')\n",
        "suspended_matter__2021_Nov_Dec = rgb.select('Oa08_radiance').divide(rgb.select('Oa06_radiance')).rename('suspended_matter')\n",
        "\n",
        "latlon = ee.Image.pixelLonLat().addBands(dm_2021_Nov_Dec)\n",
        "# apply reducer to list\n",
        "latlon = latlon.reduceRegion(\n",
        "  reducer=ee.Reducer.toList(),\n",
        "  geometry=geometry,\n",
        "  scale=100,\n",
        "  tileScale = 16);\n",
        "# get data into three different arrays\n",
        "data_dom_2021_Nov_Dec = np.array((ee.Array(latlon.get(\"dom\")).getInfo()))\n",
        "\n",
        "latlon = ee.Image.pixelLonLat().addBands(suspended_matter__2021_Nov_Dec)\n",
        "# apply reducer to list\n",
        "latlon = latlon.reduceRegion(\n",
        "  reducer=ee.Reducer.toList(),\n",
        "  geometry=geometry,\n",
        "  scale=100,\n",
        "  tileScale = 16);\n",
        "# get data into three different arrays\n",
        "data_sm_2021_Nov_Dec = np.array((ee.Array(latlon.get(\"suspended_matter\")).getInfo()))"
      ],
      "metadata": {
        "id": "i9QaNYiv63kF"
      },
      "execution_count": null,
      "outputs": []
    },
    {
      "cell_type": "markdown",
      "source": [
        "### Temperature Calculation"
      ],
      "metadata": {
        "id": "r1bwwPqEm_S4"
      }
    },
    {
      "cell_type": "code",
      "source": [
        "latlon = ee.Image.pixelLonLat().addBands(temp)\n",
        "\n",
        "\n",
        "latlon = latlon.reduceRegion(\n",
        "  reducer=ee.Reducer.toList(),\n",
        "  geometry=geometry,\n",
        "  scale=100);\n",
        "\n",
        "data_lst = np.array((ee.Array(latlon.get(\"temp\")).getInfo()))\n",
        "# geemap.ee_to_numpy(dataset, region=geometry)"
      ],
      "metadata": {
        "id": "MG-gH2yOmuYN"
      },
      "execution_count": null,
      "outputs": []
    },
    {
      "cell_type": "markdown",
      "source": [
        "### Turbidity Calculation"
      ],
      "metadata": {
        "id": "DnYuJx-tnA7H"
      }
    },
    {
      "cell_type": "code",
      "source": [
        "latlon = ee.Image.pixelLonLat().addBands(ndti)\n",
        "# apply reducer to list\n",
        "latlon = latlon.reduceRegion(\n",
        "  reducer=ee.Reducer.toList(),\n",
        "  geometry=geometry,\n",
        "  scale=100);\n",
        "# get data into three different arrays\n",
        "data_ndti = np.array((ee.Array(latlon.get(\"ndti\")).getInfo()))"
      ],
      "metadata": {
        "id": "mF4IAKtNRvVY"
      },
      "execution_count": null,
      "outputs": []
    },
    {
      "cell_type": "markdown",
      "source": [
        "### Salinity Calculation"
      ],
      "metadata": {
        "id": "Q4mInpBmnCpq"
      }
    },
    {
      "cell_type": "code",
      "source": [
        "latlon = ee.Image.pixelLonLat().addBands(ndsi)\n",
        "# apply reducer to list\n",
        "latlon = latlon.reduceRegion(\n",
        "  reducer=ee.Reducer.toList(),\n",
        "  geometry=geometry,\n",
        "  scale=100);\n",
        "# get data into three different arrays\n",
        "data_ndsi = np.array((ee.Array(latlon.get(\"ndsi\")).getInfo()))"
      ],
      "metadata": {
        "id": "qGh2Y2XCmjwC"
      },
      "execution_count": null,
      "outputs": []
    },
    {
      "cell_type": "markdown",
      "source": [
        "### Chlorophyll Calculation"
      ],
      "metadata": {
        "id": "LKU-FBTRtxEl"
      }
    },
    {
      "cell_type": "code",
      "source": [
        "latlon = ee.Image.pixelLonLat().addBands(ndci)\n",
        "# apply reducer to list\n",
        "latlon = latlon.reduceRegion(\n",
        "  reducer=ee.Reducer.toList(),\n",
        "  geometry=geometry,\n",
        "  scale=100);\n",
        "# get data into three different arrays\n",
        "data_ndci = np.array((ee.Array(latlon.get(\"ndci\")).getInfo()))"
      ],
      "metadata": {
        "id": "WIs1ymgwXac4"
      },
      "execution_count": null,
      "outputs": []
    },
    {
      "cell_type": "markdown",
      "source": [
        "### Dissolved Oxygen Calculation"
      ],
      "metadata": {
        "id": "iuKjQfsTt3fg"
      }
    },
    {
      "cell_type": "code",
      "source": [
        "latlon = ee.Image.pixelLonLat().addBands(dissolvedoxygen)\n",
        "# apply reducer to list\n",
        "latlon = latlon.reduceRegion(\n",
        "  reducer=ee.Reducer.toList(),\n",
        "  geometry=geometry,\n",
        "  scale=100,\n",
        "  tileScale = 16);\n",
        "# get data into three different arrays\n",
        "data_do = np.array((ee.Array(latlon.get(\"dissolvedoxygen\")).getInfo()))"
      ],
      "metadata": {
        "id": "bPjTGx6cRvPb"
      },
      "execution_count": null,
      "outputs": []
    },
    {
      "cell_type": "markdown",
      "source": [
        "### pH Calculation"
      ],
      "metadata": {
        "id": "GgeJU1r-uALL"
      }
    },
    {
      "cell_type": "code",
      "source": [
        "latlon = ee.Image.pixelLonLat().addBands(ph)\n",
        "# apply reducer to list\n",
        "latlon = latlon.reduceRegion(\n",
        "  reducer=ee.Reducer.toList(),\n",
        "  geometry=geometry,\n",
        "  scale=100);\n",
        "# get data into three different arrays\n",
        "data_ph = np.array((ee.Array(latlon.get(\"ph\")).getInfo()))"
      ],
      "metadata": {
        "id": "q0iaeUDqRvMl"
      },
      "execution_count": null,
      "outputs": []
    },
    {
      "cell_type": "markdown",
      "source": [
        "## Concating dissolved organic matter and suspended matter values"
      ],
      "metadata": {
        "id": "4-AuNc4p8JQd"
      }
    },
    {
      "cell_type": "code",
      "source": [
        "dm = [pd.DataFrame(data_dom_2021_Jan_June, columns = ['Dissolved Organic Matter']),\\\n",
        "      pd.DataFrame(data_dom_2021_July_Oct, columns = ['Dissolved Organic Matter']),\\\n",
        "      pd.DataFrame(data_dom_2021_Nov_Dec, columns = ['Dissolved Organic Matter'])]\n",
        "\n",
        "sm = [pd.DataFrame(data_sm_2021_Jan_June, columns = ['Suspended Matter']),\\\n",
        "      pd.DataFrame(data_sm_2021_July_Oct, columns = ['Suspended Matter']),\\\n",
        "      pd.DataFrame(data_sm_2021_Nov_Dec, columns = ['Suspended Matter'])]\n",
        "data_dom = pd.concat(dm, sort=False, ignore_index=True)\n",
        "data_sm = pd.concat(sm, sort=False, ignore_index=True)"
      ],
      "metadata": {
        "id": "vYQNqttT7r7Q"
      },
      "execution_count": null,
      "outputs": []
    },
    {
      "cell_type": "markdown",
      "source": [
        "## Creating Dataframe"
      ],
      "metadata": {
        "id": "2TgvZICBE5YC"
      }
    },
    {
      "cell_type": "code",
      "source": [
        "df = pd.concat([pd.DataFrame(data_do, columns = ['Dissolved Oxygen']),\\\n",
        "           pd.DataFrame(data_ndsi, columns = ['Salinity']),\\\n",
        "           pd.DataFrame(data_lst, columns = ['Temperature']),\\\n",
        "           pd.DataFrame(data_ph, columns = ['pH']),\\\n",
        "           pd.DataFrame(data_ndti, columns = ['Turbidity']),\\\n",
        "           pd.DataFrame(data_dom, columns = ['Dissolved Organic Matter']),\\\n",
        "           pd.DataFrame(data_sm, columns = ['Suspended Matter']),\\\n",
        "           pd.DataFrame(data_ndci, columns = ['Chlorophyll'])], axis=1, sort=False)"
      ],
      "metadata": {
        "id": "7IKrUXIARvJl"
      },
      "execution_count": null,
      "outputs": []
    },
    {
      "cell_type": "code",
      "source": [
        "df"
      ],
      "metadata": {
        "id": "1lY5VzxhRvGv"
      },
      "execution_count": null,
      "outputs": []
    },
    {
      "cell_type": "markdown",
      "source": [
        "## Converting to CSV files"
      ],
      "metadata": {
        "id": "iXmjpN5jEy3l"
      }
    },
    {
      "cell_type": "code",
      "source": [
        "df.to_csv('Data_2021_Tappar_Lake',index=False)"
      ],
      "metadata": {
        "id": "TMBCih2k5kj7"
      },
      "execution_count": null,
      "outputs": []
    },
    {
      "cell_type": "markdown",
      "source": [
        "## Test Data"
      ],
      "metadata": {
        "id": "sfxZEZBgj587"
      }
    },
    {
      "cell_type": "code",
      "source": [
        "df2 = pd.concat([pd.DataFrame(data_do, columns = ['Dissolved Oxygen']),\\\n",
        "           pd.DataFrame(data_ndsi, columns = ['Salinity']),\\\n",
        "           pd.DataFrame(data_lst, columns = ['Temperature']),\\\n",
        "           pd.DataFrame(data_ph, columns = ['pH']),\\\n",
        "           pd.DataFrame(data_ndti, columns = ['Turbidity']),\\\n",
        "           pd.DataFrame(data_dom_2021_Jan_August_test, columns = ['Dissolved Organic Matter']),\\\n",
        "           pd.DataFrame(data_sm_2021_Jan_August_test, columns = ['Suspended Matter']),\\\n",
        "           pd.DataFrame(data_ndci, columns = ['Chlorophyll'])], axis=1, sort=False)\n",
        "df2.head()\n",
        "df2.to_csv('Test_Data_2021_Jan_August_Kankaria_Lake',index=False)"
      ],
      "metadata": {
        "id": "aWqHNZV_5rNN"
      },
      "execution_count": null,
      "outputs": []
    }
  ]
}